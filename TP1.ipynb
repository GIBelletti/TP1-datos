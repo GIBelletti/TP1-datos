{
 "cells": [
  {
   "cell_type": "markdown",
   "source": [
    "- ID: id único del registro (Entero).\n",
    "- Región: región de la oportunidad (Categórica).\n",
    "- Territory: territorio comercial de la oportunidad (Categórica).\n",
    "- Pricing, Delivery_Terms_Quote_Approval: variable que denomina si la oportunidad necesita aprobación especial de su precio total y los términos de la entrega (Binaria).\n",
    "- Pricing, Delivery_Terms_Approved: variable que denomina si la oportunidad obtuvo aprobación especial de su precio total y los términos de la entrega (Binaria).\n",
    "- Bureaucratic_Code_0_Approval: variable que denomina si la oportunidad necesita el código burocrático 0 (Binaria).\n",
    "- Bureaucratic_Code_0_Approved: variable que denomina si la oportunidad obtuvo el código burocrático 0 (Binaria).\n",
    "- Submitted_for_Approval: variable que denomina si fue entregada la oportunidad para la aprobación (Binaria).\n",
    "- Bureaucratic_Code: códigos burocráticos que obtuvo la oportunidad (Categórica).\n",
    "- Account_Created_Date: fecha de creación de la cuenta del cliente (Datetime).\n",
    "- Source: fuente de creación de la oportunidad (Categórica).\n",
    "- Billing_Country: país donde se emite la factura (Categórica).\n",
    "- Account_Name: nombre de la cuenta del cliente (Categórica).\n",
    "- Opportunity_Name: nombre de la oportunidad (Categórica).\n",
    "- Opportunity_ID: id de la oportunidad (Entero).\n",
    "- Sales_Contract_No: número de contrato (Entero).\n",
    "- Account_Owner: vendedor del equipo comercial responsable de la cuenta cliente (Categórica).\n",
    "- Opportunity_Owner: vendedor del equipo comercial responsable de la oportunidad comercial (Categórica).\n",
    "- Account_Type: tipo de cuenta cliente (Categórica).\n",
    "- Opportunity_Type: tipo de oportunidad (Categórica).\n",
    "- Quote_Type: tipo de presupuesto (Categórica).\n",
    "- Delivery_Terms: términos de entrega (Categórica).\n",
    "- Opportunity_Created_Date: fecha de creación de la oportunidad comercial (Datetime).\n",
    "- Brand: marca del producto (Categórica).\n",
    "- Product_Type: tipo de producto (Categórica).\n",
    "- Size: tamaño del producto (Categórica).\n",
    "- Product_Category_B: categoría 'B' del producto (Categórica).\n",
    "- Price: precio (Decimal).\n",
    "- Currency: moneda (Categórica).\n",
    "- Last_Activity: fecha de la última actividad (Datetime).\n",
    "- Quote_Expiry_Date: fecha de vencimiento del presupuesto (Datetime).\n",
    "- Last_Modified_Date: fecha de ultima modificación en la oportunidad (Datetime).\n",
    "- Last_Modified_By: usuario responsable de la última modificación en la oportunidad (Categórica).\n",
    "- Product_Family: familia de producto (Categórica).\n",
    "- Product_Name: nombre del producto (Categórica).\n",
    "- ASP_Currency: moneda del precio promedio (Categórica).\n",
    "- ASP: (Average Selling Price) precio promedio a la venta (Decimal).\n",
    "- ASP_(converted)_Currency: moneda del precio promedio convertido en la variable (Categórica)\n",
    "- ASP_(converted): precio promedio a la venta convertido a otra moneda (Decimal).\n",
    "- Planned_Delivery_Start_Date: límite inferior del rango previsto para la fecha de entrega (Datetime).\n",
    "- Planned_Delivery_End_Date: límite superior del rango previsto para la fecha de entrega (Datetime).\n",
    "- Month: mes-año de Planned_Delivery_Start_Date (Fecha).\n",
    "- Delivery_Quarter: trimestre de Planned_Delivery_Start_Date (Categorica).\n",
    "- Delivery_Year: año de Planned_Delivery_Start_Date (Fecha).\n",
    "- Actual_Delivery_Date: fecha real de la entrega (Datetime).\n",
    "- Total_Power: potencia del producto (Entero).\n",
    "- Total_Amount_Currency: moneda del monto total (Decimal).\n",
    "- Total_Amount: monto total (Decimal).\n",
    "- Total_Taxable_Amount_Currency: moneda del monto gravado total (Categórica).\n",
    "- Total_Taxable_Amount: monto gravado total (Categórica).\n",
    "- Stage: variable target. Estado de la oportunidad (Categórica).\n",
    "- Prod_Category_A: categoría 'A' del producto (Categórica).\n",
    "- Total_Power_Discreet: categorización de la variable Total Power en bins (Categórica)."
   ],
   "metadata": {
    "collapsed": false,
    "pycharm": {
     "name": "#%% md\n"
    }
   }
  },
  {
   "cell_type": "code",
   "execution_count": null,
   "metadata": {
    "collapsed": true
   },
   "outputs": [],
   "source": [
    "import pandas as pd\n",
    "import numpy as np\n",
    "import matplotlib.pyplot as plt\n",
    "import seaborn as sns\n",
    "import plotly.graph_objects as go\n",
    "\n",
    "plt.style.use('default')\n",
    "\n",
    "sns.set(style=\"whitegrid\")\n",
    "\n",
    "pd.options.display.float_format = '{:20,.2f}'.format \n",
    "\n",
    "import warnings\n",
    "warnings.filterwarnings('ignore')"
   ]
  },
  {
   "cell_type": "code",
   "execution_count": null,
   "outputs": [],
   "source": [
    "entrenamiento = pd.read_csv('Entrenamieto_ECI_2020.csv')\n",
    "entrenamiento.head()"
   ],
   "metadata": {
    "collapsed": false,
    "pycharm": {
     "name": "#%%\n"
    }
   }
  }
 ],
 "metadata": {
  "kernelspec": {
   "display_name": "Python 3",
   "language": "python",
   "name": "python3"
  },
  "language_info": {
   "codemirror_mode": {
    "name": "ipython",
    "version": 2
   },
   "file_extension": ".py",
   "mimetype": "text/x-python",
   "name": "python",
   "nbconvert_exporter": "python",
   "pygments_lexer": "ipython2",
   "version": "2.7.6"
  },
  "pycharm": {
   "stem_cell": {
    "cell_type": "raw",
    "source": [],
    "metadata": {
     "collapsed": false
    }
   }
  }
 },
 "nbformat": 4,
 "nbformat_minor": 0
}