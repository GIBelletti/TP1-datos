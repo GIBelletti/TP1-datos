{
  "nbformat": 4,
  "nbformat_minor": 0,
  "metadata": {
    "colab": {
      "name": "TP1.ipynb",
      "provenance": [],
      "collapsed_sections": [],
      "toc_visible": true
    },
    "kernelspec": {
      "display_name": "Python 3",
      "language": "python",
      "name": "python3"
    },
    "language_info": {
      "codemirror_mode": {
        "name": "ipython",
        "version": 3
      },
      "file_extension": ".py",
      "mimetype": "text/x-python",
      "name": "python",
      "nbconvert_exporter": "python",
      "pygments_lexer": "ipython3",
      "version": "3.6.9"
    },
    "pycharm": {
      "stem_cell": {
        "cell_type": "raw",
        "metadata": {
          "collapsed": false
        },
        "source": []
      }
    }
  },
  "cells": [
    {
      "cell_type": "markdown",
      "metadata": {
        "id": "e2DaSVf_xY7w",
        "pycharm": {
          "name": "#%% md\n"
        }
      },
      "source": [
        "- ID: id único del registro (Entero).\n",
        "- Región: región de la oportunidad (Categórica).\n",
        "- Territory: territorio comercial de la oportunidad (Categórica).\n",
        "- Pricing, Delivery_Terms_Quote_Approval: variable que denomina si la oportunidad necesita aprobación especial de su precio total y los términos de la entrega (Binaria).\n",
        "- Pricing, Delivery_Terms_Approved: variable que denomina si la oportunidad obtuvo aprobación especial de su precio total y los términos de la entrega (Binaria).\n",
        "- Bureaucratic_Code_0_Approval: variable que denomina si la oportunidad necesita el código burocrático 0 (Binaria).\n",
        "- Bureaucratic_Code_0_Approved: variable que denomina si la oportunidad obtuvo el código burocrático 0 (Binaria).\n",
        "- Submitted_for_Approval: variable que denomina si fue entregada la oportunidad para la aprobación (Binaria).\n",
        "- Bureaucratic_Code: códigos burocráticos que obtuvo la oportunidad (Categórica).\n",
        "- Account_Created_Date: fecha de creación de la cuenta del cliente (Datetime).\n",
        "- Source: fuente de creación de la oportunidad (Categórica).\n",
        "- Billing_Country: país donde se emite la factura (Categórica).\n",
        "- Account_Name: nombre de la cuenta del cliente (Categórica).\n",
        "- Opportunity_Name: nombre de la oportunidad (Categórica).\n",
        "- Opportunity_ID: id de la oportunidad (Entero).\n",
        "- Sales_Contract_No: número de contrato (Entero).\n",
        "- Account_Owner: vendedor del equipo comercial responsable de la cuenta cliente (Categórica).\n",
        "- Opportunity_Owner: vendedor del equipo comercial responsable de la oportunidad comercial (Categórica).\n",
        "- Account_Type: tipo de cuenta cliente (Categórica).\n",
        "- Opportunity_Type: tipo de oportunidad (Categórica).\n",
        "- Quote_Type: tipo de presupuesto (Categórica).\n",
        "- Delivery_Terms: términos de entrega (Categórica).\n",
        "- Opportunity_Created_Date: fecha de creación de la oportunidad comercial (Datetime).\n",
        "- Brand: marca del producto (Categórica).\n",
        "- Product_Type: tipo de producto (Categórica).\n",
        "- Size: tamaño del producto (Categórica).\n",
        "- Product_Category_B: categoría 'B' del producto (Categórica).\n",
        "- Price: precio (Decimal).\n",
        "- Currency: moneda (Categórica).\n",
        "- Last_Activity: fecha de la última actividad (Datetime).\n",
        "- Quote_Expiry_Date: fecha de vencimiento del presupuesto (Datetime).\n",
        "- Last_Modified_Date: fecha de ultima modificación en la oportunidad (Datetime).\n",
        "- Last_Modified_By: usuario responsable de la última modificación en la oportunidad (Categórica).\n",
        "- Product_Family: familia de producto (Categórica).\n",
        "- Product_Name: nombre del producto (Categórica).\n",
        "- ASP_Currency: moneda del precio promedio (Categórica).\n",
        "- ASP: (Average Selling Price) precio promedio a la venta (Decimal).\n",
        "- ASP_(converted)_Currency: moneda del precio promedio convertido en la variable (Categórica)\n",
        "- ASP_(converted): precio promedio a la venta convertido a otra moneda (Decimal).\n",
        "- Planned_Delivery_Start_Date: límite inferior del rango previsto para la fecha de entrega (Datetime).\n",
        "- Planned_Delivery_End_Date: límite superior del rango previsto para la fecha de entrega (Datetime).\n",
        "- Month: mes-año de Planned_Delivery_Start_Date (Fecha).\n",
        "- Delivery_Quarter: trimestre de Planned_Delivery_Start_Date (Categorica).\n",
        "- Delivery_Year: año de Planned_Delivery_Start_Date (Fecha).\n",
        "- Actual_Delivery_Date: fecha real de la entrega (Datetime).\n",
        "- Total_Power: potencia del producto (Entero).\n",
        "- Total_Amount_Currency: moneda del monto total (Decimal).\n",
        "- Total_Amount: monto total (Decimal).\n",
        "- Total_Taxable_Amount_Currency: moneda del monto gravado total (Categórica).\n",
        "- Total_Taxable_Amount: monto gravado total (Categórica).\n",
        "- Stage: variable target. Estado de la oportunidad (Categórica).\n",
        "- Prod_Category_A: categoría 'A' del producto (Categórica).\n",
        "- Total_Power_Discreet: categorización de la variable Total Power en bins (Categórica)."
      ]
    },
    {
      "cell_type": "code",
      "metadata": {
        "id": "axgU7A7JxY7y",
        "pycharm": {
          "is_executing": false
        }
      },
      "source": [
        "import pandas as pd\n",
        "import numpy as np\n",
        "import matplotlib.pyplot as plt\n",
        "import seaborn as sns\n",
        "import plotly.graph_objects as go\n",
        "import matplotlib\n",
        "import plotly as py\n",
        "import plotly.express as px \n",
        "import matplotlib.ticker as ticker\n",
        "plt.style.use('default')\n",
        "import plotly.offline as opy\n",
        "import plotly.figure_factory as ff\n",
        "import plotly.io as pio\n",
        "from wordcloud import WordCloud\n",
        "\n",
        "sns.set(style=\"whitegrid\")\n",
        "\n",
        "pd.options.display.float_format = '{:20,.2f}'.format \n",
        "\n",
        "import warnings\n",
        "warnings.filterwarnings('ignore')\n"
      ],
      "execution_count": 1,
      "outputs": []
    },
    {
      "cell_type": "code",
      "metadata": {
        "id": "6tXnoeU5xY8D",
        "pycharm": {
          "is_executing": false,
          "name": "#%%\n"
        },
        "outputId": "926d4016-6cdd-4961-a1be-4eaf513e2d0c",
        "colab": {
          "base_uri": "https://localhost:8080/",
          "height": 330
        }
      },
      "source": [
        "entrenamiento = pd.read_csv('Entrenamieto_ECI_2020.csv')\n",
        "entrenamiento.head()\n"
      ],
      "execution_count": 2,
      "outputs": [
        {
          "output_type": "execute_result",
          "data": {
            "text/html": [
              "<div>\n",
              "<style scoped>\n",
              "    .dataframe tbody tr th:only-of-type {\n",
              "        vertical-align: middle;\n",
              "    }\n",
              "\n",
              "    .dataframe tbody tr th {\n",
              "        vertical-align: top;\n",
              "    }\n",
              "\n",
              "    .dataframe thead th {\n",
              "        text-align: right;\n",
              "    }\n",
              "</style>\n",
              "<table border=\"1\" class=\"dataframe\">\n",
              "  <thead>\n",
              "    <tr style=\"text-align: right;\">\n",
              "      <th></th>\n",
              "      <th>ID</th>\n",
              "      <th>Region</th>\n",
              "      <th>Territory</th>\n",
              "      <th>Pricing, Delivery_Terms_Quote_Appr</th>\n",
              "      <th>Pricing, Delivery_Terms_Approved</th>\n",
              "      <th>Bureaucratic_Code_0_Approval</th>\n",
              "      <th>Bureaucratic_Code_0_Approved</th>\n",
              "      <th>Submitted_for_Approval</th>\n",
              "      <th>Bureaucratic_Code</th>\n",
              "      <th>Account_Created_Date</th>\n",
              "      <th>Source</th>\n",
              "      <th>Billing_Country</th>\n",
              "      <th>Account_Name</th>\n",
              "      <th>Opportunity_Name</th>\n",
              "      <th>Opportunity_ID</th>\n",
              "      <th>Sales_Contract_No</th>\n",
              "      <th>Account_Owner</th>\n",
              "      <th>Opportunity_Owner</th>\n",
              "      <th>Account_Type</th>\n",
              "      <th>Opportunity_Type</th>\n",
              "      <th>Quote_Type</th>\n",
              "      <th>Delivery_Terms</th>\n",
              "      <th>Opportunity_Created_Date</th>\n",
              "      <th>Brand</th>\n",
              "      <th>Product_Type</th>\n",
              "      <th>Size</th>\n",
              "      <th>Product_Category_B</th>\n",
              "      <th>Price</th>\n",
              "      <th>Currency</th>\n",
              "      <th>Last_Activity</th>\n",
              "      <th>Quote_Expiry_Date</th>\n",
              "      <th>Last_Modified_Date</th>\n",
              "      <th>Last_Modified_By</th>\n",
              "      <th>Product_Family</th>\n",
              "      <th>Product_Name</th>\n",
              "      <th>ASP_Currency</th>\n",
              "      <th>ASP</th>\n",
              "      <th>ASP_(converted)_Currency</th>\n",
              "      <th>ASP_(converted)</th>\n",
              "      <th>Planned_Delivery_Start_Date</th>\n",
              "      <th>Planned_Delivery_End_Date</th>\n",
              "      <th>Month</th>\n",
              "      <th>Delivery_Quarter</th>\n",
              "      <th>Delivery_Year</th>\n",
              "      <th>Actual_Delivery_Date</th>\n",
              "      <th>TRF</th>\n",
              "      <th>Total_Amount_Currency</th>\n",
              "      <th>Total_Amount</th>\n",
              "      <th>Total_Taxable_Amount_Currency</th>\n",
              "      <th>Total_Taxable_Amount</th>\n",
              "      <th>Stage</th>\n",
              "      <th>Prod_Category_A</th>\n",
              "    </tr>\n",
              "  </thead>\n",
              "  <tbody>\n",
              "    <tr>\n",
              "      <th>0</th>\n",
              "      <td>27761</td>\n",
              "      <td>EMEA</td>\n",
              "      <td>None</td>\n",
              "      <td>1</td>\n",
              "      <td>1</td>\n",
              "      <td>1</td>\n",
              "      <td>1</td>\n",
              "      <td>0</td>\n",
              "      <td>Bureaucratic_Code_4</td>\n",
              "      <td>6/16/2015</td>\n",
              "      <td>None</td>\n",
              "      <td>Netherlands</td>\n",
              "      <td>Account_Name_619</td>\n",
              "      <td>Opportunity_Name_12598</td>\n",
              "      <td>0</td>\n",
              "      <td>None</td>\n",
              "      <td>Person_Name_51</td>\n",
              "      <td>Person_Name_18</td>\n",
              "      <td>Account_Type_2</td>\n",
              "      <td>Opportunity_Type_1</td>\n",
              "      <td>Non Binding</td>\n",
              "      <td>Delivery_Terms_2</td>\n",
              "      <td>12/7/2015</td>\n",
              "      <td>None</td>\n",
              "      <td>None</td>\n",
              "      <td>None</td>\n",
              "      <td>None</td>\n",
              "      <td>None</td>\n",
              "      <td>None</td>\n",
              "      <td>NaT</td>\n",
              "      <td>1/30/2016</td>\n",
              "      <td>6/13/2016</td>\n",
              "      <td>Person_Name_18</td>\n",
              "      <td>Product_Family_77</td>\n",
              "      <td>Product_Name_99</td>\n",
              "      <td>EUR</td>\n",
              "      <td>0.52</td>\n",
              "      <td>USD</td>\n",
              "      <td>0.59</td>\n",
              "      <td>5/1/2016</td>\n",
              "      <td>6/30/2016</td>\n",
              "      <td>2016 - 5</td>\n",
              "      <td>Q2</td>\n",
              "      <td>2016</td>\n",
              "      <td>NaT</td>\n",
              "      <td>10</td>\n",
              "      <td>EUR</td>\n",
              "      <td>5,272,800.00</td>\n",
              "      <td>EUR</td>\n",
              "      <td>5,272,800.00</td>\n",
              "      <td>Closed Lost</td>\n",
              "      <td>Prod_Category_A_None</td>\n",
              "    </tr>\n",
              "    <tr>\n",
              "      <th>1</th>\n",
              "      <td>27760</td>\n",
              "      <td>EMEA</td>\n",
              "      <td>None</td>\n",
              "      <td>0</td>\n",
              "      <td>0</td>\n",
              "      <td>0</td>\n",
              "      <td>0</td>\n",
              "      <td>0</td>\n",
              "      <td>Bureaucratic_Code_4</td>\n",
              "      <td>6/16/2015</td>\n",
              "      <td>None</td>\n",
              "      <td>Netherlands</td>\n",
              "      <td>Account_Name_619</td>\n",
              "      <td>Opportunity_Name_12600</td>\n",
              "      <td>1</td>\n",
              "      <td>39</td>\n",
              "      <td>Person_Name_51</td>\n",
              "      <td>Person_Name_20</td>\n",
              "      <td>Account_Type_2</td>\n",
              "      <td>Opportunity_Type_1</td>\n",
              "      <td>Non Binding</td>\n",
              "      <td>Delivery_Terms_2</td>\n",
              "      <td>12/7/2015</td>\n",
              "      <td>None</td>\n",
              "      <td>None</td>\n",
              "      <td>None</td>\n",
              "      <td>None</td>\n",
              "      <td>None</td>\n",
              "      <td>None</td>\n",
              "      <td>NaT</td>\n",
              "      <td>1/20/2016</td>\n",
              "      <td>1/15/2016</td>\n",
              "      <td>Person_Name_20</td>\n",
              "      <td>Product_Family_77</td>\n",
              "      <td>Product_Name_100</td>\n",
              "      <td>EUR</td>\n",
              "      <td>0.53</td>\n",
              "      <td>USD</td>\n",
              "      <td>0.60</td>\n",
              "      <td>1/18/2016</td>\n",
              "      <td>1/20/2016</td>\n",
              "      <td>2016 - 1</td>\n",
              "      <td>Q1</td>\n",
              "      <td>2016</td>\n",
              "      <td>NaT</td>\n",
              "      <td>0</td>\n",
              "      <td>EUR</td>\n",
              "      <td>48,230.00</td>\n",
              "      <td>EUR</td>\n",
              "      <td>48,230.00</td>\n",
              "      <td>Closed Won</td>\n",
              "      <td>Prod_Category_A_None</td>\n",
              "    </tr>\n",
              "    <tr>\n",
              "      <th>2</th>\n",
              "      <td>27446</td>\n",
              "      <td>Americas</td>\n",
              "      <td>NW America</td>\n",
              "      <td>0</td>\n",
              "      <td>0</td>\n",
              "      <td>0</td>\n",
              "      <td>0</td>\n",
              "      <td>0</td>\n",
              "      <td>Bureaucratic_Code_4</td>\n",
              "      <td>4/21/2015</td>\n",
              "      <td>Source_7</td>\n",
              "      <td>United States</td>\n",
              "      <td>Account_Name_1794</td>\n",
              "      <td>Opportunity_Name_469</td>\n",
              "      <td>2</td>\n",
              "      <td>760</td>\n",
              "      <td>Person_Name_64</td>\n",
              "      <td>Person_Name_8</td>\n",
              "      <td>Account_Type_5</td>\n",
              "      <td>Opportunity_Type_1</td>\n",
              "      <td>Non Binding</td>\n",
              "      <td>Delivery_Terms_4</td>\n",
              "      <td>12/8/2015</td>\n",
              "      <td>None</td>\n",
              "      <td>None</td>\n",
              "      <td>None</td>\n",
              "      <td>None</td>\n",
              "      <td>None</td>\n",
              "      <td>None</td>\n",
              "      <td>NaT</td>\n",
              "      <td>9/30/2016</td>\n",
              "      <td>9/29/2016</td>\n",
              "      <td>Person_Name_8</td>\n",
              "      <td>Product_Family_81</td>\n",
              "      <td>Product_Name_91</td>\n",
              "      <td>USD</td>\n",
              "      <td>0.48</td>\n",
              "      <td>USD</td>\n",
              "      <td>0.48</td>\n",
              "      <td>1/25/2016</td>\n",
              "      <td>1/25/2016</td>\n",
              "      <td>2016 - 1</td>\n",
              "      <td>Q1</td>\n",
              "      <td>2016</td>\n",
              "      <td>NaT</td>\n",
              "      <td>0</td>\n",
              "      <td>USD</td>\n",
              "      <td>83,865.60</td>\n",
              "      <td>USD</td>\n",
              "      <td>83,865.60</td>\n",
              "      <td>Closed Won</td>\n",
              "      <td>Prod_Category_A_None</td>\n",
              "    </tr>\n",
              "    <tr>\n",
              "      <th>3</th>\n",
              "      <td>16808</td>\n",
              "      <td>Americas</td>\n",
              "      <td>NW America</td>\n",
              "      <td>1</td>\n",
              "      <td>0</td>\n",
              "      <td>1</td>\n",
              "      <td>0</td>\n",
              "      <td>0</td>\n",
              "      <td>Bureaucratic_Code_5</td>\n",
              "      <td>7/27/2013</td>\n",
              "      <td>Source_11</td>\n",
              "      <td>United States</td>\n",
              "      <td>Account_Name_1201</td>\n",
              "      <td>Opportunity_Name_415</td>\n",
              "      <td>3</td>\n",
              "      <td>None</td>\n",
              "      <td>Person_Name_8</td>\n",
              "      <td>Person_Name_8</td>\n",
              "      <td>Account_Type_5</td>\n",
              "      <td>Opportunity_Type_19</td>\n",
              "      <td>Non Binding</td>\n",
              "      <td>Delivery_Terms_1</td>\n",
              "      <td>12/8/2015</td>\n",
              "      <td>Other</td>\n",
              "      <td>Product_Type_0</td>\n",
              "      <td>Size_4</td>\n",
              "      <td>Product_Category_B_16</td>\n",
              "      <td>0.42</td>\n",
              "      <td>USD</td>\n",
              "      <td>NaT</td>\n",
              "      <td>NaT</td>\n",
              "      <td>3/27/2018</td>\n",
              "      <td>Person_Name_8</td>\n",
              "      <td>Product_Family_209</td>\n",
              "      <td>Product_Name_432</td>\n",
              "      <td>USD</td>\n",
              "      <td>0.53</td>\n",
              "      <td>USD</td>\n",
              "      <td>0.53</td>\n",
              "      <td>2/1/2018</td>\n",
              "      <td>3/31/2018</td>\n",
              "      <td>2018 - 2</td>\n",
              "      <td>Q1</td>\n",
              "      <td>2018</td>\n",
              "      <td>NaT</td>\n",
              "      <td>14</td>\n",
              "      <td>USD</td>\n",
              "      <td>7,421,881.50</td>\n",
              "      <td>USD</td>\n",
              "      <td>7,421,881.50</td>\n",
              "      <td>Closed Lost</td>\n",
              "      <td>Prod_Category_A_None</td>\n",
              "    </tr>\n",
              "    <tr>\n",
              "      <th>4</th>\n",
              "      <td>16805</td>\n",
              "      <td>Americas</td>\n",
              "      <td>NW America</td>\n",
              "      <td>1</td>\n",
              "      <td>0</td>\n",
              "      <td>1</td>\n",
              "      <td>0</td>\n",
              "      <td>0</td>\n",
              "      <td>Bureaucratic_Code_5</td>\n",
              "      <td>7/27/2013</td>\n",
              "      <td>Source_11</td>\n",
              "      <td>United States</td>\n",
              "      <td>Account_Name_1201</td>\n",
              "      <td>Opportunity_Name_851</td>\n",
              "      <td>4</td>\n",
              "      <td>None</td>\n",
              "      <td>Person_Name_8</td>\n",
              "      <td>Person_Name_8</td>\n",
              "      <td>Account_Type_5</td>\n",
              "      <td>Opportunity_Type_19</td>\n",
              "      <td>Non Binding</td>\n",
              "      <td>Delivery_Terms_1</td>\n",
              "      <td>12/8/2015</td>\n",
              "      <td>Other</td>\n",
              "      <td>Product_Type_0</td>\n",
              "      <td>Size_4</td>\n",
              "      <td>Product_Category_B_16</td>\n",
              "      <td>0.42</td>\n",
              "      <td>USD</td>\n",
              "      <td>NaT</td>\n",
              "      <td>6/2/2017</td>\n",
              "      <td>3/27/2018</td>\n",
              "      <td>Person_Name_8</td>\n",
              "      <td>Product_Family_209</td>\n",
              "      <td>Product_Name_432</td>\n",
              "      <td>USD</td>\n",
              "      <td>0.53</td>\n",
              "      <td>USD</td>\n",
              "      <td>0.53</td>\n",
              "      <td>2/1/2018</td>\n",
              "      <td>2/28/2018</td>\n",
              "      <td>2018 - 2</td>\n",
              "      <td>Q1</td>\n",
              "      <td>2018</td>\n",
              "      <td>NaT</td>\n",
              "      <td>25</td>\n",
              "      <td>USD</td>\n",
              "      <td>13,357,192.50</td>\n",
              "      <td>USD</td>\n",
              "      <td>13,357,192.50</td>\n",
              "      <td>Closed Lost</td>\n",
              "      <td>Prod_Category_A_None</td>\n",
              "    </tr>\n",
              "  </tbody>\n",
              "</table>\n",
              "</div>"
            ],
            "text/plain": [
              "      ID    Region  ...        Stage       Prod_Category_A\n",
              "0  27761      EMEA  ...  Closed Lost  Prod_Category_A_None\n",
              "1  27760      EMEA  ...   Closed Won  Prod_Category_A_None\n",
              "2  27446  Americas  ...   Closed Won  Prod_Category_A_None\n",
              "3  16808  Americas  ...  Closed Lost  Prod_Category_A_None\n",
              "4  16805  Americas  ...  Closed Lost  Prod_Category_A_None\n",
              "\n",
              "[5 rows x 52 columns]"
            ]
          },
          "metadata": {
            "tags": []
          },
          "execution_count": 2
        }
      ]
    },
    {
      "cell_type": "markdown",
      "metadata": {
        "id": "URz4DFiuxY8N"
      },
      "source": [
        "### Datos de interes"
      ]
    },
    {
      "cell_type": "markdown",
      "metadata": {
        "id": "aGUqiaqXxY8P",
        "pycharm": {
          "name": "#%% md\n"
        }
      },
      "source": [
        "Notacion: % datos. Datos de interes\n",
        "- ID: 100%. No hay ids repetidos, esperable\n",
        "- Region: 100%. Solo hay 5 valores: Japan, EMEA, Americas, APAC, Middle East\n",
        "- Territory: 70,5%. Hay 76 valores\n",
        "- Pricing, Delivery_Terms_Quote_Appr: 100%. Es un booleano\n",
        "- Pricing, Delivery_Terms_Approved: 100%. Es un booleano\n",
        "- Bureaucratic_Code_0_Approval: 100%. Es un booleano\n",
        "- Bureaucratic_Code_0_Approved: 100%. Es un booleano\n",
        "- Submitted_for_Approval: 100%. Todos los campos son 0, no aporta informacion\n",
        "- Bureaucratic_Code: 100%. Solo hay 7 valores, 2 de los cuales solo tienen 3 datos. Se dejan solo 5\n",
        "- Account_Created_Date: 100%. Son 809 valores\n",
        "- Source: 42,4%. Son 13 valores, 3 de los cuales tienen solo 10 datos. Se dejan solo 10\n",
        "- Billing_Country: 100%. Son 80 valores, concentrando el 50% de los datos los valores que aparecen menos de 10 veces.\n",
        "- Account_Name: 100%. Son 1635 valores\n",
        "- Opportunity_Name: 100%. Son 9841 valores\n",
        "- Opportunity_ID: 100%. Son 9841 valores, de los cuales el 29,6% tiene mas de un registro\n"
      ]
    },
    {
      "cell_type": "markdown",
      "metadata": {
        "id": "O6KjkCaRxY8R"
      },
      "source": [
        "### Preparacion del df"
      ]
    },
    {
      "cell_type": "code",
      "metadata": {
        "id": "18McMPMaxY8T",
        "pycharm": {
          "is_executing": false,
          "name": "#%%\n"
        },
        "outputId": "c1a45abd-8f65-49ed-fcea-010c4fbe9487",
        "colab": {
          "base_uri": "https://localhost:8080/"
        }
      },
      "source": [
        "def convertirATiempo(df,lista):\n",
        "    for columna in lista:\n",
        "        df[columna] = pd.to_datetime(df[columna])\n",
        "    return df\n",
        "\n",
        "def convertirATipo(df,lista,tipo):\n",
        "    for columna in lista:\n",
        "        df[columna] = df[columna].astype(tipo)\n",
        "    return df\n",
        "\n",
        "def convertirAFlotante(df,lista):\n",
        "    for columna in lista:\n",
        "        df[columna] = df[columna].apply(lambda x: None if (x == \"None\" or x == \"Other\") else float(x))\n",
        "    return df\n",
        "\n",
        "def establecerTipos(df):\n",
        "    \"\"\"cambia los tipos de las columnas\"\"\"\n",
        "    \n",
        "    #fechas\n",
        "    listaDeColumnasFechas = ['Account_Created_Date','Opportunity_Created_Date','Quote_Expiry_Date','Last_Modified_Date','Delivery_Year','Planned_Delivery_End_Date','Planned_Delivery_Start_Date']\n",
        "    df = convertirATiempo(df,listaDeColumnasFechas)\n",
        "    #enteros\n",
        "    listaDeColumnasEnteras = ['ID','Opportunity_ID']\n",
        "    convertirATipo(df,listaDeColumnasEnteras,'int')\n",
        "    #decimales\n",
        "    listaDeColumnasEnteras = ['Price','ASP','ASP_(converted)','Total_Taxable_Amount','Total_Amount']\n",
        "    convertirAFlotante(df,listaDeColumnasEnteras)\n",
        "    #booleanos\n",
        "    listaDeColumnasBooleanas = ['Pricing, Delivery_Terms_Quote_Appr','Pricing, Delivery_Terms_Approved','Bureaucratic_Code_0_Approval','Bureaucratic_Code_0_Approved']\n",
        "    convertirATipo(df,listaDeColumnasBooleanas,'bool')\n",
        "    #categoricas\n",
        "    listaDeColumnasCategoricas = ['Product_Category_B','Product_Family','Region','Territory','Bureaucratic_Code','Source ','Billing_Country','Account_Name','Opportunity_Name']\n",
        "    convertirATipo(df,listaDeColumnasCategoricas,'category')\n",
        "    return df\n",
        "\n",
        "def eliminarColumnasSinImportancia(df):\n",
        "    #\"Last_Activity\" y \"Actual_Delivery_Date\" son puros nulos\n",
        "    #\"Submitted_for_Approval\" puros valores nulos\n",
        "    #\"Prod_Category_A\" tiene todos sus valores iguales\n",
        "    df = df.drop(['Submitted_for_Approval','Last_Activity','Actual_Delivery_Date','Prod_Category_A'], axis=1)\n",
        "    return df\n",
        "\n",
        "def agragarColumnas(df):\n",
        "    df['Closed'] = df['Stage'].replace({'Closed Won': True, 'Closed Lost': True, 'Negotiation':False,'Proposal':False,'Qualification':False})#\"Source \" columna con un espacio en el nombre\n",
        "    df['Won'] = df['Stage'].replace({'Closed Won': True, 'Closed Lost': False, 'Negotiation':False,'Proposal':False,'Qualification':False})#\"Source \" columna con un espacio en el nombre\n",
        "    return df\n",
        "\n",
        "#def unaFilaUnaOportunidad(df):\n",
        "#    \"\"\"se supone que en el df original puede haber mas de una fila por oportunidad de negocio\"\"\"\n",
        "#    return df\n",
        "\n",
        "def correccionDeTerritorios(df):\n",
        "    #se refiere a diferentes partes de usa\n",
        "    df = df.replace({'Territory':{'Central US':'USA','NE America':'USA', 'NW America':'USA','SW America':'USA','SE America':'USA'}})\n",
        "    #se refiere a diferentes partes de usaSaudi Arabia\n",
        "    df = df.replace({'Territory':{'KSA':'Saudi Arabia'}})\n",
        "    #No se ha encontrado la dorma de los siguientes datos 'Kosovo','South America', 'South East Asia', 'UAE (Dubai)', 'UAE (Others)' (en el caso de kosovo no lo grafica)\n",
        "    return df\n",
        "\n",
        "def preparacionDelDataFrame(df):\n",
        "    df = eliminarColumnasSinImportancia(df)\n",
        "    df = establecerTipos(df)\n",
        "    #df = unaFilaUnaOportunidad(df)\n",
        "    df = correccionDeTerritorios(df)\n",
        "    df = agragarColumnas(df)\n",
        "    df.rename(columns = {'Source ':'Source'}, inplace = True)\n",
        "    return df\n",
        "    \n",
        "entrenamiento = preparacionDelDataFrame(entrenamiento)\n",
        "entrenamiento.info()"
      ],
      "execution_count": 3,
      "outputs": [
        {
          "output_type": "stream",
          "text": [
            "<class 'pandas.core.frame.DataFrame'>\n",
            "RangeIndex: 16947 entries, 0 to 16946\n",
            "Data columns (total 50 columns):\n",
            " #   Column                              Non-Null Count  Dtype         \n",
            "---  ------                              --------------  -----         \n",
            " 0   ID                                  16947 non-null  int64         \n",
            " 1   Region                              16947 non-null  category      \n",
            " 2   Territory                           16947 non-null  object        \n",
            " 3   Pricing, Delivery_Terms_Quote_Appr  16947 non-null  bool          \n",
            " 4   Pricing, Delivery_Terms_Approved    16947 non-null  bool          \n",
            " 5   Bureaucratic_Code_0_Approval        16947 non-null  bool          \n",
            " 6   Bureaucratic_Code_0_Approved        16947 non-null  bool          \n",
            " 7   Bureaucratic_Code                   16947 non-null  category      \n",
            " 8   Account_Created_Date                16947 non-null  datetime64[ns]\n",
            " 9   Source                              16947 non-null  category      \n",
            " 10  Billing_Country                     16947 non-null  category      \n",
            " 11  Account_Name                        16947 non-null  category      \n",
            " 12  Opportunity_Name                    16947 non-null  category      \n",
            " 13  Opportunity_ID                      16947 non-null  int64         \n",
            " 14  Sales_Contract_No                   16947 non-null  object        \n",
            " 15  Account_Owner                       16947 non-null  object        \n",
            " 16  Opportunity_Owner                   16947 non-null  object        \n",
            " 17  Account_Type                        16947 non-null  object        \n",
            " 18  Opportunity_Type                    16947 non-null  object        \n",
            " 19  Quote_Type                          16947 non-null  object        \n",
            " 20  Delivery_Terms                      16947 non-null  object        \n",
            " 21  Opportunity_Created_Date            16947 non-null  datetime64[ns]\n",
            " 22  Brand                               16947 non-null  object        \n",
            " 23  Product_Type                        16947 non-null  object        \n",
            " 24  Size                                16947 non-null  object        \n",
            " 25  Product_Category_B                  16947 non-null  category      \n",
            " 26  Price                               356 non-null    float64       \n",
            " 27  Currency                            16947 non-null  object        \n",
            " 28  Quote_Expiry_Date                   12322 non-null  datetime64[ns]\n",
            " 29  Last_Modified_Date                  16947 non-null  datetime64[ns]\n",
            " 30  Last_Modified_By                    16947 non-null  object        \n",
            " 31  Product_Family                      16947 non-null  category      \n",
            " 32  Product_Name                        16947 non-null  object        \n",
            " 33  ASP_Currency                        16947 non-null  object        \n",
            " 34  ASP                                 13738 non-null  float64       \n",
            " 35  ASP_(converted)_Currency            16947 non-null  object        \n",
            " 36  ASP_(converted)                     13738 non-null  float64       \n",
            " 37  Planned_Delivery_Start_Date         16947 non-null  datetime64[ns]\n",
            " 38  Planned_Delivery_End_Date           16872 non-null  datetime64[ns]\n",
            " 39  Month                               16947 non-null  object        \n",
            " 40  Delivery_Quarter                    16947 non-null  object        \n",
            " 41  Delivery_Year                       16947 non-null  datetime64[ns]\n",
            " 42  TRF                                 16947 non-null  int64         \n",
            " 43  Total_Amount_Currency               16947 non-null  object        \n",
            " 44  Total_Amount                        16888 non-null  float64       \n",
            " 45  Total_Taxable_Amount_Currency       16947 non-null  object        \n",
            " 46  Total_Taxable_Amount                16947 non-null  float64       \n",
            " 47  Stage                               16947 non-null  object        \n",
            " 48  Closed                              16947 non-null  bool          \n",
            " 49  Won                                 16947 non-null  bool          \n",
            "dtypes: bool(6), category(8), datetime64[ns](7), float64(5), int64(3), object(21)\n",
            "memory usage: 5.4+ MB\n"
          ],
          "name": "stdout"
        }
      ]
    },
    {
      "cell_type": "code",
      "metadata": {
        "id": "uWvU-_WqxY8a",
        "pycharm": {
          "is_executing": false,
          "name": "#%%\n"
        },
        "outputId": "33d27206-7d23-4cc7-e6e9-178df003f016",
        "colab": {
          "base_uri": "https://localhost:8080/"
        }
      },
      "source": [
        "entrenamiento['Territory'].value_counts()"
      ],
      "execution_count": 4,
      "outputs": [
        {
          "output_type": "execute_result",
          "data": {
            "text/plain": [
              "None              4999\n",
              "USA               3281\n",
              "Germany           1682\n",
              "Australia         1208\n",
              "India              809\n",
              "                  ... \n",
              "Croatia              1\n",
              "Georgia              1\n",
              "Burma                1\n",
              "Monaco               1\n",
              "Czech Republic       1\n",
              "Name: Territory, Length: 71, dtype: int64"
            ]
          },
          "metadata": {
            "tags": []
          },
          "execution_count": 4
        }
      ]
    },
    {
      "cell_type": "markdown",
      "metadata": {
        "id": "orsFjgsLn6Hg"
      },
      "source": [
        "### agrupacion de oportunidades"
      ]
    },
    {
      "cell_type": "code",
      "metadata": {
        "id": "D1DcjWlioAM7",
        "outputId": "86255dae-1ec3-4863-cd18-a3feb886d507",
        "colab": {
          "base_uri": "https://localhost:8080/"
        }
      },
      "source": [
        "def agrupacionDeOportunidades(df):\n",
        "  df['modificaciones'] = 1\n",
        "  data = df.groupby('Opportunity_ID').agg({'Won':'sum','Closed':'sum','modificaciones':'sum',\n",
        "                                           'Last_Modified_Date':'max','Opportunity_Created_Date':'min',\n",
        "                                           'Price':'mean','Quote_Expiry_Date':'max',\n",
        "                                           'Pricing, Delivery_Terms_Quote_Appr':'sum',\n",
        "                                           'Pricing, Delivery_Terms_Approved':'sum',\n",
        "                                           'Bureaucratic_Code_0_Approval':'sum',\n",
        "                                           'Bureaucratic_Code_0_Approved':'sum',\n",
        "                                           'Account_Created_Date':'min'})#hay que seguir agregando cosas que son importantes\n",
        "  data['Closed'] = data['Closed'].agg(lambda x: 1 if x > 0 else 0)\n",
        "  data['Won'] = data['Won'].agg(lambda x: 1 if x > 0 else 0)\n",
        "  data['Lost'] = data['Closed'] - data['Won']#si es won es closed pero si es closed y no es won es perdido\n",
        "  data['Lost'] = data['Lost'].agg(lambda x: 1 if x > 0 else 0)\n",
        "\n",
        "  data['Pricing, Delivery_Terms_Quote_Appr'] = data['Pricing, Delivery_Terms_Quote_Appr'].agg(lambda x: 1 if x > 0 else 0)\n",
        "  data['Pricing, Delivery_Terms_Approved'] = data['Pricing, Delivery_Terms_Approved'].agg(lambda x: 1 if x > 0 else 0)\n",
        "  data['Bureaucratic_Code_0_Approval'] = data['Bureaucratic_Code_0_Approval'].agg(lambda x: 1 if x > 0 else 0)\n",
        "  data['Bureaucratic_Code_0_Approved'] = data['Bureaucratic_Code_0_Approved'].agg(lambda x: 1 if x > 0 else 0)\n",
        "  #data = data.replace({'Won':})\n",
        "  data = data[data['Closed'] > 0]#no interesan los que no se cerraron\n",
        "  return data\n",
        "\n",
        "agrupacion = agrupacionDeOportunidades(entrenamiento)\n",
        "agrupacion.info()\n",
        "#agrupacion.Lost.value_counts()"
      ],
      "execution_count": 55,
      "outputs": [
        {
          "output_type": "stream",
          "text": [
            "<class 'pandas.core.frame.DataFrame'>\n",
            "Int64Index: 9791 entries, 0 to 12803\n",
            "Data columns (total 13 columns):\n",
            " #   Column                              Non-Null Count  Dtype         \n",
            "---  ------                              --------------  -----         \n",
            " 0   Won                                 9791 non-null   int64         \n",
            " 1   Closed                              9791 non-null   int64         \n",
            " 2   modificaciones                      9791 non-null   int64         \n",
            " 3   Last_Modified_Date                  9791 non-null   datetime64[ns]\n",
            " 4   Opportunity_Created_Date            9791 non-null   datetime64[ns]\n",
            " 5   Price                               267 non-null    float64       \n",
            " 6   Quote_Expiry_Date                   7463 non-null   datetime64[ns]\n",
            " 7   Pricing, Delivery_Terms_Quote_Appr  9791 non-null   int64         \n",
            " 8   Pricing, Delivery_Terms_Approved    9791 non-null   int64         \n",
            " 9   Bureaucratic_Code_0_Approval        9791 non-null   int64         \n",
            " 10  Bureaucratic_Code_0_Approved        9791 non-null   int64         \n",
            " 11  Account_Created_Date                9791 non-null   datetime64[ns]\n",
            " 12  Lost                                9791 non-null   int64         \n",
            "dtypes: datetime64[ns](4), float64(1), int64(8)\n",
            "memory usage: 1.0 MB\n"
          ],
          "name": "stdout"
        }
      ]
    },
    {
      "cell_type": "code",
      "metadata": {
        "id": "NzhvwcsfMcjG",
        "outputId": "1089ec4e-2688-4220-ee39-42253340feb5",
        "colab": {
          "base_uri": "https://localhost:8080/"
        }
      },
      "source": [
        "agrupacion['modificaciones'].value_counts()"
      ],
      "execution_count": 31,
      "outputs": [
        {
          "output_type": "execute_result",
          "data": {
            "text/plain": [
              "1     6882\n",
              "2     1585\n",
              "3      376\n",
              "6      268\n",
              "5      257\n",
              "4      193\n",
              "7      103\n",
              "8       59\n",
              "9       20\n",
              "10      18\n",
              "16       6\n",
              "12       5\n",
              "11       5\n",
              "14       4\n",
              "13       4\n",
              "26       2\n",
              "36       2\n",
              "18       1\n",
              "24       1\n",
              "Name: modificaciones, dtype: int64"
            ]
          },
          "metadata": {
            "tags": []
          },
          "execution_count": 31
        }
      ]
    },
    {
      "cell_type": "code",
      "metadata": {
        "id": "-GoBth2ZOqiI",
        "outputId": "3bb3771c-232a-454a-e5b9-60beb77f36e2",
        "colab": {
          "base_uri": "https://localhost:8080/",
          "height": 362
        }
      },
      "source": [
        "def tortaDeExitosYFracasos(df,columna):\n",
        "  #df.plot.pie(y=columna, figsize=(5, 5))\n",
        "  data = df[['Won','modificaciones']]\n",
        "  plot = data.plot.pie(subplots=True, figsize=(11, 6))\n",
        "  return plot\n",
        "\n",
        "tortaDeExitosYFracasos(agrupacion,'Won')"
      ],
      "execution_count": null,
      "outputs": [
        {
          "output_type": "error",
          "ename": "KeyboardInterrupt",
          "evalue": "ignored",
          "traceback": [
            "\u001b[0;31m---------------------------------------------------------------------------\u001b[0m",
            "\u001b[0;31mKeyboardInterrupt\u001b[0m                         Traceback (most recent call last)",
            "\u001b[0;32m<ipython-input-103-949c08933340>\u001b[0m in \u001b[0;36m<module>\u001b[0;34m()\u001b[0m\n\u001b[1;32m      5\u001b[0m   \u001b[0;32mreturn\u001b[0m \u001b[0mplot\u001b[0m\u001b[0;34m\u001b[0m\u001b[0;34m\u001b[0m\u001b[0m\n\u001b[1;32m      6\u001b[0m \u001b[0;34m\u001b[0m\u001b[0m\n\u001b[0;32m----> 7\u001b[0;31m \u001b[0mtortaDeExitosYFracasos\u001b[0m\u001b[0;34m(\u001b[0m\u001b[0magrupacion\u001b[0m\u001b[0;34m,\u001b[0m\u001b[0;34m'Won'\u001b[0m\u001b[0;34m)\u001b[0m\u001b[0;34m\u001b[0m\u001b[0;34m\u001b[0m\u001b[0m\n\u001b[0m",
            "\u001b[0;32m<ipython-input-103-949c08933340>\u001b[0m in \u001b[0;36mtortaDeExitosYFracasos\u001b[0;34m(df, columna)\u001b[0m\n\u001b[1;32m      2\u001b[0m   \u001b[0;31m#df.plot.pie(y=columna, figsize=(5, 5))\u001b[0m\u001b[0;34m\u001b[0m\u001b[0;34m\u001b[0m\u001b[0;34m\u001b[0m\u001b[0m\n\u001b[1;32m      3\u001b[0m   \u001b[0mdata\u001b[0m \u001b[0;34m=\u001b[0m \u001b[0mdf\u001b[0m\u001b[0;34m[\u001b[0m\u001b[0;34m[\u001b[0m\u001b[0;34m'Won'\u001b[0m\u001b[0;34m,\u001b[0m\u001b[0;34m'modificaciones'\u001b[0m\u001b[0;34m]\u001b[0m\u001b[0;34m]\u001b[0m\u001b[0;34m\u001b[0m\u001b[0;34m\u001b[0m\u001b[0m\n\u001b[0;32m----> 4\u001b[0;31m   \u001b[0mplot\u001b[0m \u001b[0;34m=\u001b[0m \u001b[0mdata\u001b[0m\u001b[0;34m.\u001b[0m\u001b[0mplot\u001b[0m\u001b[0;34m.\u001b[0m\u001b[0mpie\u001b[0m\u001b[0;34m(\u001b[0m\u001b[0msubplots\u001b[0m\u001b[0;34m=\u001b[0m\u001b[0;32mTrue\u001b[0m\u001b[0;34m,\u001b[0m \u001b[0mfigsize\u001b[0m\u001b[0;34m=\u001b[0m\u001b[0;34m(\u001b[0m\u001b[0;36m11\u001b[0m\u001b[0;34m,\u001b[0m \u001b[0;36m6\u001b[0m\u001b[0;34m)\u001b[0m\u001b[0;34m)\u001b[0m\u001b[0;34m\u001b[0m\u001b[0;34m\u001b[0m\u001b[0m\n\u001b[0m\u001b[1;32m      5\u001b[0m   \u001b[0;32mreturn\u001b[0m \u001b[0mplot\u001b[0m\u001b[0;34m\u001b[0m\u001b[0;34m\u001b[0m\u001b[0m\n\u001b[1;32m      6\u001b[0m \u001b[0;34m\u001b[0m\u001b[0m\n",
            "\u001b[0;32m/usr/local/lib/python3.6/dist-packages/pandas/plotting/_core.py\u001b[0m in \u001b[0;36mpie\u001b[0;34m(self, **kwargs)\u001b[0m\n\u001b[1;32m   1526\u001b[0m         ):\n\u001b[1;32m   1527\u001b[0m             \u001b[0;32mraise\u001b[0m \u001b[0mValueError\u001b[0m\u001b[0;34m(\u001b[0m\u001b[0;34m\"pie requires either y column or 'subplots=True'\"\u001b[0m\u001b[0;34m)\u001b[0m\u001b[0;34m\u001b[0m\u001b[0;34m\u001b[0m\u001b[0m\n\u001b[0;32m-> 1528\u001b[0;31m         \u001b[0;32mreturn\u001b[0m \u001b[0mself\u001b[0m\u001b[0;34m(\u001b[0m\u001b[0mkind\u001b[0m\u001b[0;34m=\u001b[0m\u001b[0;34m\"pie\"\u001b[0m\u001b[0;34m,\u001b[0m \u001b[0;34m**\u001b[0m\u001b[0mkwargs\u001b[0m\u001b[0;34m)\u001b[0m\u001b[0;34m\u001b[0m\u001b[0;34m\u001b[0m\u001b[0m\n\u001b[0m\u001b[1;32m   1529\u001b[0m \u001b[0;34m\u001b[0m\u001b[0m\n\u001b[1;32m   1530\u001b[0m     \u001b[0;32mdef\u001b[0m \u001b[0mscatter\u001b[0m\u001b[0;34m(\u001b[0m\u001b[0mself\u001b[0m\u001b[0;34m,\u001b[0m \u001b[0mx\u001b[0m\u001b[0;34m,\u001b[0m \u001b[0my\u001b[0m\u001b[0;34m,\u001b[0m \u001b[0ms\u001b[0m\u001b[0;34m=\u001b[0m\u001b[0;32mNone\u001b[0m\u001b[0;34m,\u001b[0m \u001b[0mc\u001b[0m\u001b[0;34m=\u001b[0m\u001b[0;32mNone\u001b[0m\u001b[0;34m,\u001b[0m \u001b[0;34m**\u001b[0m\u001b[0mkwargs\u001b[0m\u001b[0;34m)\u001b[0m\u001b[0;34m:\u001b[0m\u001b[0;34m\u001b[0m\u001b[0;34m\u001b[0m\u001b[0m\n",
            "\u001b[0;32m/usr/local/lib/python3.6/dist-packages/pandas/plotting/_core.py\u001b[0m in \u001b[0;36m__call__\u001b[0;34m(self, *args, **kwargs)\u001b[0m\n\u001b[1;32m    947\u001b[0m                     \u001b[0mdata\u001b[0m\u001b[0;34m.\u001b[0m\u001b[0mcolumns\u001b[0m \u001b[0;34m=\u001b[0m \u001b[0mlabel_name\u001b[0m\u001b[0;34m\u001b[0m\u001b[0;34m\u001b[0m\u001b[0m\n\u001b[1;32m    948\u001b[0m \u001b[0;34m\u001b[0m\u001b[0m\n\u001b[0;32m--> 949\u001b[0;31m         \u001b[0;32mreturn\u001b[0m \u001b[0mplot_backend\u001b[0m\u001b[0;34m.\u001b[0m\u001b[0mplot\u001b[0m\u001b[0;34m(\u001b[0m\u001b[0mdata\u001b[0m\u001b[0;34m,\u001b[0m \u001b[0mkind\u001b[0m\u001b[0;34m=\u001b[0m\u001b[0mkind\u001b[0m\u001b[0;34m,\u001b[0m \u001b[0;34m**\u001b[0m\u001b[0mkwargs\u001b[0m\u001b[0;34m)\u001b[0m\u001b[0;34m\u001b[0m\u001b[0;34m\u001b[0m\u001b[0m\n\u001b[0m\u001b[1;32m    950\u001b[0m \u001b[0;34m\u001b[0m\u001b[0m\n\u001b[1;32m    951\u001b[0m     \u001b[0m__call__\u001b[0m\u001b[0;34m.\u001b[0m\u001b[0m__doc__\u001b[0m \u001b[0;34m=\u001b[0m \u001b[0m__doc__\u001b[0m\u001b[0;34m\u001b[0m\u001b[0;34m\u001b[0m\u001b[0m\n",
            "\u001b[0;32m/usr/local/lib/python3.6/dist-packages/pandas/plotting/_matplotlib/__init__.py\u001b[0m in \u001b[0;36mplot\u001b[0;34m(data, kind, **kwargs)\u001b[0m\n\u001b[1;32m     59\u001b[0m             \u001b[0mkwargs\u001b[0m\u001b[0;34m[\u001b[0m\u001b[0;34m\"ax\"\u001b[0m\u001b[0;34m]\u001b[0m \u001b[0;34m=\u001b[0m \u001b[0mgetattr\u001b[0m\u001b[0;34m(\u001b[0m\u001b[0max\u001b[0m\u001b[0;34m,\u001b[0m \u001b[0;34m\"left_ax\"\u001b[0m\u001b[0;34m,\u001b[0m \u001b[0max\u001b[0m\u001b[0;34m)\u001b[0m\u001b[0;34m\u001b[0m\u001b[0;34m\u001b[0m\u001b[0m\n\u001b[1;32m     60\u001b[0m     \u001b[0mplot_obj\u001b[0m \u001b[0;34m=\u001b[0m \u001b[0mPLOT_CLASSES\u001b[0m\u001b[0;34m[\u001b[0m\u001b[0mkind\u001b[0m\u001b[0;34m]\u001b[0m\u001b[0;34m(\u001b[0m\u001b[0mdata\u001b[0m\u001b[0;34m,\u001b[0m \u001b[0;34m**\u001b[0m\u001b[0mkwargs\u001b[0m\u001b[0;34m)\u001b[0m\u001b[0;34m\u001b[0m\u001b[0;34m\u001b[0m\u001b[0m\n\u001b[0;32m---> 61\u001b[0;31m     \u001b[0mplot_obj\u001b[0m\u001b[0;34m.\u001b[0m\u001b[0mgenerate\u001b[0m\u001b[0;34m(\u001b[0m\u001b[0;34m)\u001b[0m\u001b[0;34m\u001b[0m\u001b[0;34m\u001b[0m\u001b[0m\n\u001b[0m\u001b[1;32m     62\u001b[0m     \u001b[0mplot_obj\u001b[0m\u001b[0;34m.\u001b[0m\u001b[0mdraw\u001b[0m\u001b[0;34m(\u001b[0m\u001b[0;34m)\u001b[0m\u001b[0;34m\u001b[0m\u001b[0;34m\u001b[0m\u001b[0m\n\u001b[1;32m     63\u001b[0m     \u001b[0;32mreturn\u001b[0m \u001b[0mplot_obj\u001b[0m\u001b[0;34m.\u001b[0m\u001b[0mresult\u001b[0m\u001b[0;34m\u001b[0m\u001b[0;34m\u001b[0m\u001b[0m\n",
            "\u001b[0;32m/usr/local/lib/python3.6/dist-packages/pandas/plotting/_matplotlib/core.py\u001b[0m in \u001b[0;36mgenerate\u001b[0;34m(self)\u001b[0m\n\u001b[1;32m    271\u001b[0m         \u001b[0mself\u001b[0m\u001b[0;34m.\u001b[0m\u001b[0m_make_plot\u001b[0m\u001b[0;34m(\u001b[0m\u001b[0;34m)\u001b[0m\u001b[0;34m\u001b[0m\u001b[0;34m\u001b[0m\u001b[0m\n\u001b[1;32m    272\u001b[0m         \u001b[0mself\u001b[0m\u001b[0;34m.\u001b[0m\u001b[0m_add_table\u001b[0m\u001b[0;34m(\u001b[0m\u001b[0;34m)\u001b[0m\u001b[0;34m\u001b[0m\u001b[0;34m\u001b[0m\u001b[0m\n\u001b[0;32m--> 273\u001b[0;31m         \u001b[0mself\u001b[0m\u001b[0;34m.\u001b[0m\u001b[0m_make_legend\u001b[0m\u001b[0;34m(\u001b[0m\u001b[0;34m)\u001b[0m\u001b[0;34m\u001b[0m\u001b[0;34m\u001b[0m\u001b[0m\n\u001b[0m\u001b[1;32m    274\u001b[0m         \u001b[0mself\u001b[0m\u001b[0;34m.\u001b[0m\u001b[0m_adorn_subplots\u001b[0m\u001b[0;34m(\u001b[0m\u001b[0;34m)\u001b[0m\u001b[0;34m\u001b[0m\u001b[0;34m\u001b[0m\u001b[0m\n\u001b[1;32m    275\u001b[0m \u001b[0;34m\u001b[0m\u001b[0m\n",
            "\u001b[0;32m/usr/local/lib/python3.6/dist-packages/pandas/plotting/_matplotlib/core.py\u001b[0m in \u001b[0;36m_make_legend\u001b[0;34m(self)\u001b[0m\n\u001b[1;32m    587\u001b[0m             \u001b[0;32mfor\u001b[0m \u001b[0max\u001b[0m \u001b[0;32min\u001b[0m \u001b[0mself\u001b[0m\u001b[0;34m.\u001b[0m\u001b[0maxes\u001b[0m\u001b[0;34m:\u001b[0m\u001b[0;34m\u001b[0m\u001b[0;34m\u001b[0m\u001b[0m\n\u001b[1;32m    588\u001b[0m                 \u001b[0;32mif\u001b[0m \u001b[0max\u001b[0m\u001b[0;34m.\u001b[0m\u001b[0mget_visible\u001b[0m\u001b[0;34m(\u001b[0m\u001b[0;34m)\u001b[0m\u001b[0;34m:\u001b[0m\u001b[0;34m\u001b[0m\u001b[0;34m\u001b[0m\u001b[0m\n\u001b[0;32m--> 589\u001b[0;31m                     \u001b[0max\u001b[0m\u001b[0;34m.\u001b[0m\u001b[0mlegend\u001b[0m\u001b[0;34m(\u001b[0m\u001b[0mloc\u001b[0m\u001b[0;34m=\u001b[0m\u001b[0;34m\"best\"\u001b[0m\u001b[0;34m)\u001b[0m\u001b[0;34m\u001b[0m\u001b[0;34m\u001b[0m\u001b[0m\n\u001b[0m\u001b[1;32m    590\u001b[0m \u001b[0;34m\u001b[0m\u001b[0m\n\u001b[1;32m    591\u001b[0m     \u001b[0;32mdef\u001b[0m \u001b[0m_get_ax_legend_handle\u001b[0m\u001b[0;34m(\u001b[0m\u001b[0mself\u001b[0m\u001b[0;34m,\u001b[0m \u001b[0max\u001b[0m\u001b[0;34m)\u001b[0m\u001b[0;34m:\u001b[0m\u001b[0;34m\u001b[0m\u001b[0;34m\u001b[0m\u001b[0m\n",
            "\u001b[0;32m/usr/local/lib/python3.6/dist-packages/matplotlib/axes/_axes.py\u001b[0m in \u001b[0;36mlegend\u001b[0;34m(self, *args, **kwargs)\u001b[0m\n\u001b[1;32m    399\u001b[0m         \u001b[0;32mif\u001b[0m \u001b[0mlen\u001b[0m\u001b[0;34m(\u001b[0m\u001b[0mextra_args\u001b[0m\u001b[0;34m)\u001b[0m\u001b[0;34m:\u001b[0m\u001b[0;34m\u001b[0m\u001b[0;34m\u001b[0m\u001b[0m\n\u001b[1;32m    400\u001b[0m             \u001b[0;32mraise\u001b[0m \u001b[0mTypeError\u001b[0m\u001b[0;34m(\u001b[0m\u001b[0;34m'legend only accepts two non-keyword arguments'\u001b[0m\u001b[0;34m)\u001b[0m\u001b[0;34m\u001b[0m\u001b[0;34m\u001b[0m\u001b[0m\n\u001b[0;32m--> 401\u001b[0;31m         \u001b[0mself\u001b[0m\u001b[0;34m.\u001b[0m\u001b[0mlegend_\u001b[0m \u001b[0;34m=\u001b[0m \u001b[0mmlegend\u001b[0m\u001b[0;34m.\u001b[0m\u001b[0mLegend\u001b[0m\u001b[0;34m(\u001b[0m\u001b[0mself\u001b[0m\u001b[0;34m,\u001b[0m \u001b[0mhandles\u001b[0m\u001b[0;34m,\u001b[0m \u001b[0mlabels\u001b[0m\u001b[0;34m,\u001b[0m \u001b[0;34m**\u001b[0m\u001b[0mkwargs\u001b[0m\u001b[0;34m)\u001b[0m\u001b[0;34m\u001b[0m\u001b[0;34m\u001b[0m\u001b[0m\n\u001b[0m\u001b[1;32m    402\u001b[0m         \u001b[0mself\u001b[0m\u001b[0;34m.\u001b[0m\u001b[0mlegend_\u001b[0m\u001b[0;34m.\u001b[0m\u001b[0m_remove_method\u001b[0m \u001b[0;34m=\u001b[0m \u001b[0mself\u001b[0m\u001b[0;34m.\u001b[0m\u001b[0m_remove_legend\u001b[0m\u001b[0;34m\u001b[0m\u001b[0;34m\u001b[0m\u001b[0m\n\u001b[1;32m    403\u001b[0m         \u001b[0;32mreturn\u001b[0m \u001b[0mself\u001b[0m\u001b[0;34m.\u001b[0m\u001b[0mlegend_\u001b[0m\u001b[0;34m\u001b[0m\u001b[0;34m\u001b[0m\u001b[0m\n",
            "\u001b[0;32m/usr/local/lib/python3.6/dist-packages/matplotlib/legend.py\u001b[0m in \u001b[0;36m__init__\u001b[0;34m(self, parent, handles, labels, loc, numpoints, markerscale, markerfirst, scatterpoints, scatteryoffsets, prop, fontsize, borderpad, labelspacing, handlelength, handleheight, handletextpad, borderaxespad, columnspacing, ncol, mode, fancybox, shadow, title, title_fontsize, framealpha, edgecolor, facecolor, bbox_to_anchor, bbox_transform, frameon, handler_map)\u001b[0m\n\u001b[1;32m    533\u001b[0m \u001b[0;34m\u001b[0m\u001b[0m\n\u001b[1;32m    534\u001b[0m         \u001b[0;31m# init with null renderer\u001b[0m\u001b[0;34m\u001b[0m\u001b[0;34m\u001b[0m\u001b[0;34m\u001b[0m\u001b[0m\n\u001b[0;32m--> 535\u001b[0;31m         \u001b[0mself\u001b[0m\u001b[0;34m.\u001b[0m\u001b[0m_init_legend_box\u001b[0m\u001b[0;34m(\u001b[0m\u001b[0mhandles\u001b[0m\u001b[0;34m,\u001b[0m \u001b[0mlabels\u001b[0m\u001b[0;34m,\u001b[0m \u001b[0mmarkerfirst\u001b[0m\u001b[0;34m)\u001b[0m\u001b[0;34m\u001b[0m\u001b[0;34m\u001b[0m\u001b[0m\n\u001b[0m\u001b[1;32m    536\u001b[0m \u001b[0;34m\u001b[0m\u001b[0m\n\u001b[1;32m    537\u001b[0m         \u001b[0;31m# If shadow is activated use framealpha if not\u001b[0m\u001b[0;34m\u001b[0m\u001b[0;34m\u001b[0m\u001b[0;34m\u001b[0m\u001b[0m\n",
            "\u001b[0;32m/usr/local/lib/python3.6/dist-packages/matplotlib/legend.py\u001b[0m in \u001b[0;36m_init_legend_box\u001b[0;34m(self, handles, labels, markerfirst)\u001b[0m\n\u001b[1;32m    782\u001b[0m                 textbox = TextArea(lab, textprops=label_prop,\n\u001b[1;32m    783\u001b[0m                                    \u001b[0mmultilinebaseline\u001b[0m\u001b[0;34m=\u001b[0m\u001b[0;32mTrue\u001b[0m\u001b[0;34m,\u001b[0m\u001b[0;34m\u001b[0m\u001b[0;34m\u001b[0m\u001b[0m\n\u001b[0;32m--> 784\u001b[0;31m                                    minimumdescent=True)\n\u001b[0m\u001b[1;32m    785\u001b[0m                 handlebox = DrawingArea(width=self.handlelength * fontsize,\n\u001b[1;32m    786\u001b[0m                                         \u001b[0mheight\u001b[0m\u001b[0;34m=\u001b[0m\u001b[0mheight\u001b[0m\u001b[0;34m,\u001b[0m\u001b[0;34m\u001b[0m\u001b[0;34m\u001b[0m\u001b[0m\n",
            "\u001b[0;32m/usr/local/lib/python3.6/dist-packages/matplotlib/offsetbox.py\u001b[0m in \u001b[0;36m__init__\u001b[0;34m(self, s, textprops, multilinebaseline, minimumdescent)\u001b[0m\n\u001b[1;32m    806\u001b[0m             \u001b[0mtextprops\u001b[0m \u001b[0;34m=\u001b[0m \u001b[0;34m{\u001b[0m\u001b[0;34m}\u001b[0m\u001b[0;34m\u001b[0m\u001b[0;34m\u001b[0m\u001b[0m\n\u001b[1;32m    807\u001b[0m         \u001b[0mtextprops\u001b[0m\u001b[0;34m.\u001b[0m\u001b[0msetdefault\u001b[0m\u001b[0;34m(\u001b[0m\u001b[0;34m\"va\"\u001b[0m\u001b[0;34m,\u001b[0m \u001b[0;34m\"baseline\"\u001b[0m\u001b[0;34m)\u001b[0m\u001b[0;34m\u001b[0m\u001b[0;34m\u001b[0m\u001b[0m\n\u001b[0;32m--> 808\u001b[0;31m         \u001b[0mself\u001b[0m\u001b[0;34m.\u001b[0m\u001b[0m_text\u001b[0m \u001b[0;34m=\u001b[0m \u001b[0mmtext\u001b[0m\u001b[0;34m.\u001b[0m\u001b[0mText\u001b[0m\u001b[0;34m(\u001b[0m\u001b[0;36m0\u001b[0m\u001b[0;34m,\u001b[0m \u001b[0;36m0\u001b[0m\u001b[0;34m,\u001b[0m \u001b[0ms\u001b[0m\u001b[0;34m,\u001b[0m \u001b[0;34m**\u001b[0m\u001b[0mtextprops\u001b[0m\u001b[0;34m)\u001b[0m\u001b[0;34m\u001b[0m\u001b[0;34m\u001b[0m\u001b[0m\n\u001b[0m\u001b[1;32m    809\u001b[0m         \u001b[0mOffsetBox\u001b[0m\u001b[0;34m.\u001b[0m\u001b[0m__init__\u001b[0m\u001b[0;34m(\u001b[0m\u001b[0mself\u001b[0m\u001b[0;34m)\u001b[0m\u001b[0;34m\u001b[0m\u001b[0;34m\u001b[0m\u001b[0m\n\u001b[1;32m    810\u001b[0m         \u001b[0mself\u001b[0m\u001b[0;34m.\u001b[0m\u001b[0m_children\u001b[0m \u001b[0;34m=\u001b[0m \u001b[0;34m[\u001b[0m\u001b[0mself\u001b[0m\u001b[0;34m.\u001b[0m\u001b[0m_text\u001b[0m\u001b[0;34m]\u001b[0m\u001b[0;34m\u001b[0m\u001b[0;34m\u001b[0m\u001b[0m\n",
            "\u001b[0;32m/usr/local/lib/python3.6/dist-packages/matplotlib/text.py\u001b[0m in \u001b[0;36m__init__\u001b[0;34m(self, x, y, text, color, verticalalignment, horizontalalignment, multialignment, fontproperties, rotation, linespacing, rotation_mode, usetex, wrap, **kwargs)\u001b[0m\n\u001b[1;32m    155\u001b[0m         \u001b[0mself\u001b[0m\u001b[0;34m.\u001b[0m\u001b[0mset_usetex\u001b[0m\u001b[0;34m(\u001b[0m\u001b[0musetex\u001b[0m\u001b[0;34m)\u001b[0m\u001b[0;34m\u001b[0m\u001b[0;34m\u001b[0m\u001b[0m\n\u001b[1;32m    156\u001b[0m         \u001b[0mself\u001b[0m\u001b[0;34m.\u001b[0m\u001b[0mset_wrap\u001b[0m\u001b[0;34m(\u001b[0m\u001b[0mwrap\u001b[0m\u001b[0;34m)\u001b[0m\u001b[0;34m\u001b[0m\u001b[0;34m\u001b[0m\u001b[0m\n\u001b[0;32m--> 157\u001b[0;31m         \u001b[0mself\u001b[0m\u001b[0;34m.\u001b[0m\u001b[0mset_verticalalignment\u001b[0m\u001b[0;34m(\u001b[0m\u001b[0mverticalalignment\u001b[0m\u001b[0;34m)\u001b[0m\u001b[0;34m\u001b[0m\u001b[0;34m\u001b[0m\u001b[0m\n\u001b[0m\u001b[1;32m    158\u001b[0m         \u001b[0mself\u001b[0m\u001b[0;34m.\u001b[0m\u001b[0mset_horizontalalignment\u001b[0m\u001b[0;34m(\u001b[0m\u001b[0mhorizontalalignment\u001b[0m\u001b[0;34m)\u001b[0m\u001b[0;34m\u001b[0m\u001b[0;34m\u001b[0m\u001b[0m\n\u001b[1;32m    159\u001b[0m         \u001b[0mself\u001b[0m\u001b[0;34m.\u001b[0m\u001b[0m_multialignment\u001b[0m \u001b[0;34m=\u001b[0m \u001b[0mmultialignment\u001b[0m\u001b[0;34m\u001b[0m\u001b[0;34m\u001b[0m\u001b[0m\n",
            "\u001b[0;32m/usr/local/lib/python3.6/dist-packages/matplotlib/text.py\u001b[0m in \u001b[0;36mset_verticalalignment\u001b[0;34m(self, align)\u001b[0m\n\u001b[1;32m   1145\u001b[0m         cbook._check_in_list(\n\u001b[1;32m   1146\u001b[0m             \u001b[0;34m[\u001b[0m\u001b[0;34m'top'\u001b[0m\u001b[0;34m,\u001b[0m \u001b[0;34m'bottom'\u001b[0m\u001b[0;34m,\u001b[0m \u001b[0;34m'center'\u001b[0m\u001b[0;34m,\u001b[0m \u001b[0;34m'baseline'\u001b[0m\u001b[0;34m,\u001b[0m \u001b[0;34m'center_baseline'\u001b[0m\u001b[0;34m]\u001b[0m\u001b[0;34m,\u001b[0m\u001b[0;34m\u001b[0m\u001b[0;34m\u001b[0m\u001b[0m\n\u001b[0;32m-> 1147\u001b[0;31m             align=align)\n\u001b[0m\u001b[1;32m   1148\u001b[0m         \u001b[0mself\u001b[0m\u001b[0;34m.\u001b[0m\u001b[0m_verticalalignment\u001b[0m \u001b[0;34m=\u001b[0m \u001b[0malign\u001b[0m\u001b[0;34m\u001b[0m\u001b[0;34m\u001b[0m\u001b[0m\n\u001b[1;32m   1149\u001b[0m         \u001b[0mself\u001b[0m\u001b[0;34m.\u001b[0m\u001b[0mstale\u001b[0m \u001b[0;34m=\u001b[0m \u001b[0;32mTrue\u001b[0m\u001b[0;34m\u001b[0m\u001b[0;34m\u001b[0m\u001b[0m\n",
            "\u001b[0;32m/usr/local/lib/python3.6/dist-packages/matplotlib/cbook/__init__.py\u001b[0m in \u001b[0;36m_check_in_list\u001b[0;34m(_values, **kwargs)\u001b[0m\n\u001b[1;32m   2139\u001b[0m     \"\"\"\n\u001b[1;32m   2140\u001b[0m     \u001b[0mvalues\u001b[0m \u001b[0;34m=\u001b[0m \u001b[0m_values\u001b[0m\u001b[0;34m\u001b[0m\u001b[0;34m\u001b[0m\u001b[0m\n\u001b[0;32m-> 2141\u001b[0;31m     \u001b[0;32mfor\u001b[0m \u001b[0mk\u001b[0m\u001b[0;34m,\u001b[0m \u001b[0mv\u001b[0m \u001b[0;32min\u001b[0m \u001b[0mkwargs\u001b[0m\u001b[0;34m.\u001b[0m\u001b[0mitems\u001b[0m\u001b[0;34m(\u001b[0m\u001b[0;34m)\u001b[0m\u001b[0;34m:\u001b[0m\u001b[0;34m\u001b[0m\u001b[0;34m\u001b[0m\u001b[0m\n\u001b[0m\u001b[1;32m   2142\u001b[0m         \u001b[0;32mif\u001b[0m \u001b[0mv\u001b[0m \u001b[0;32mnot\u001b[0m \u001b[0;32min\u001b[0m \u001b[0mvalues\u001b[0m\u001b[0;34m:\u001b[0m\u001b[0;34m\u001b[0m\u001b[0;34m\u001b[0m\u001b[0m\n\u001b[1;32m   2143\u001b[0m             raise ValueError(\n",
            "\u001b[0;31mKeyboardInterrupt\u001b[0m: "
          ]
        }
      ]
    },
    {
      "cell_type": "markdown",
      "metadata": {
        "id": "Y_hZNKCcxY8r"
      },
      "source": [
        "### Stage sin condiciones"
      ]
    },
    {
      "cell_type": "code",
      "metadata": {
        "id": "Ncfsr5ETxY8s",
        "pycharm": {
          "is_executing": false,
          "name": "#%%\n"
        },
        "outputId": "298fa1c1-603a-46d9-b091-1e970b883f9c",
        "colab": {
          "base_uri": "https://localhost:8080/"
        }
      },
      "source": [
        "cantidadStage = entrenamiento['Stage'].value_counts()\n",
        "cantidadStage"
      ],
      "execution_count": 8,
      "outputs": [
        {
          "output_type": "execute_result",
          "data": {
            "text/plain": [
              "Closed Won       9533\n",
              "Closed Lost      7350\n",
              "Proposal           35\n",
              "Negotiation        18\n",
              "Qualification      11\n",
              "Name: Stage, dtype: int64"
            ]
          },
          "metadata": {
            "tags": []
          },
          "execution_count": 8
        }
      ]
    },
    {
      "cell_type": "code",
      "metadata": {
        "id": "LDueZxNexY86",
        "pycharm": {
          "is_executing": false,
          "name": "#%%\n"
        }
      },
      "source": [
        "def cantidadDeStage(csv,cerrados,proporcion=False):\n",
        "    cantidadStage = csv['Stage'].value_counts()\n",
        "    if (cerrados):\n",
        "        filtro = ['Closed Won','Closed Lost']\n",
        "    else:\n",
        "        filtro = ['Negotiation','Proposal','Qualification']\n",
        "    cantidadStageFiltrado = cantidadStage.filter(items=filtro)\n",
        "    if (proporcion):\n",
        "        cantidadStageFiltrado = cantidadStageFiltrado / cantidadStageFiltrado.sum()\n",
        "    return cantidadStageFiltrado"
      ],
      "execution_count": 35,
      "outputs": []
    },
    {
      "cell_type": "code",
      "metadata": {
        "id": "XQ8FpNgvxY9A",
        "pycharm": {
          "is_executing": false,
          "name": "#%%\n"
        },
        "outputId": "79b236e3-f565-462e-f6eb-8f9fef87671c",
        "colab": {
          "base_uri": "https://localhost:8080/"
        }
      },
      "source": [
        "print(\"Stage Cerrados cantidad\\n\")\n",
        "print(cantidadDeStage(entrenamiento,True))\n",
        "print(\"\\n\")\n",
        "print(\"Stage Cerrados proporcion\\n\")\n",
        "print(cantidadDeStage(entrenamiento,True,True))\n",
        "print(\"\\n\")\n",
        "print(\"Stage no Cerrados cantidad\\n\")\n",
        "print(cantidadDeStage(entrenamiento,False))\n",
        "print(\"\\n\")\n",
        "print(\"Stage no Cerrados proporcion\\n\")\n",
        "print(cantidadDeStage(entrenamiento,False,True))"
      ],
      "execution_count": 36,
      "outputs": [
        {
          "output_type": "stream",
          "text": [
            "Stage Cerrados cantidad\n",
            "\n",
            "Closed Won     9533\n",
            "Closed Lost    7350\n",
            "Name: Stage, dtype: int64\n",
            "\n",
            "\n",
            "Stage Cerrados proporcion\n",
            "\n",
            "Closed Won                    0.56\n",
            "Closed Lost                   0.44\n",
            "Name: Stage, dtype: float64\n",
            "\n",
            "\n",
            "Stage no Cerrados cantidad\n",
            "\n",
            "Negotiation      18\n",
            "Proposal         35\n",
            "Qualification    11\n",
            "Name: Stage, dtype: int64\n",
            "\n",
            "\n",
            "Stage no Cerrados proporcion\n",
            "\n",
            "Negotiation                     0.28\n",
            "Proposal                        0.55\n",
            "Qualification                   0.17\n",
            "Name: Stage, dtype: float64\n"
          ],
          "name": "stdout"
        }
      ]
    },
    {
      "cell_type": "markdown",
      "metadata": {
        "id": "b2c5dCo7xY9H",
        "pycharm": {
          "is_executing": false,
          "name": "#%% md\n"
        }
      },
      "source": [
        "### stages por tiempos"
      ]
    },
    {
      "cell_type": "code",
      "metadata": {
        "id": "qcZFq9uwxY9J",
        "pycharm": {
          "is_executing": false,
          "name": "#%%\n"
        }
      },
      "source": [
        "def cantidadDeTipoDeStagePorTiempo(df,tiempo,columna='Closed',invertir=False,noNulos=True):\n",
        "    data = df[[columna,tiempo]]\n",
        "    data = data.dropna(how='any',axis=0) \n",
        "    data['mes'] = data[tiempo].agg(lambda x: x.month)\n",
        "    data['anio'] = data[tiempo].agg(lambda x: x.year)\n",
        "    if (invertir):\n",
        "        data[columna] = (data[columna] - 1) * (-1)\n",
        "    data = pd.pivot_table(data,index='anio',columns='mes',values=columna, aggfunc='sum')\n",
        "    data = data.fillna(0.0)\n",
        "    if (noNulos):\n",
        "        data['totalAnio'] = 0\n",
        "        for col in data.columns:\n",
        "            data['totalAnio'] += data[col]\n",
        "        data = data[data['totalAnio'] > 0]\n",
        "        data = data.drop(['totalAnio'],axis=1)\n",
        "    return data\n",
        "\n",
        "def cantidadDeStageTotalesPorTiempo(df,tiempo,noNulos=True):\n",
        "    data = df[[tiempo]]\n",
        "    data['cantidadTotal'] = 1\n",
        "    data['mes'] = data[tiempo].agg(lambda x: x.month)\n",
        "    data['anio'] = data[tiempo].agg(lambda x: x.year)\n",
        "    data = pd.pivot_table(data,index='anio',columns='mes',values='cantidadTotal', aggfunc='sum')\n",
        "    data = data.fillna(0)\n",
        "    if (noNulos):\n",
        "        data['totalAnio'] = 0\n",
        "        for col in data.columns:\n",
        "            data['totalAnio'] += data[col]\n",
        "        data = data[data['totalAnio'] > 0]\n",
        "        data = data.drop(['totalAnio'],axis=1)\n",
        "    return data\n",
        "\n",
        "def graficarTipoDeStagePorTiempo(data,descripcion,titulo,tamaniosDeLetra=(15,20),anotaciones=False):\n",
        "    grafico = sns.heatmap(data, annot=anotaciones)\n",
        "    grafico.set_title(titulo, fontsize= tamaniosDeLetra[1])\n",
        "    grafico.set_xlabel(\"Mes de \" + descripcion, fontsize= tamaniosDeLetra[0])\n",
        "    grafico.set_ylabel(\"Año de \" + descripcion, fontsize= tamaniosDeLetra[0])\n",
        "    return grafico"
      ],
      "execution_count": 42,
      "outputs": []
    },
    {
      "cell_type": "markdown",
      "metadata": {
        "id": "43K6g-zwxY9P"
      },
      "source": [
        "#### Opportunity_Created_DateQuote_Expiry_Date"
      ]
    },
    {
      "cell_type": "code",
      "metadata": {
        "id": "VOe6-4xvxY9Q",
        "pycharm": {
          "is_executing": false,
          "name": "#%%\n"
        }
      },
      "source": [
        "descripcion = \"creacion de oportunidad\""
      ],
      "execution_count": 58,
      "outputs": []
    },
    {
      "cell_type": "code",
      "metadata": {
        "id": "4xmZ66V7xY9X",
        "pycharm": {
          "is_executing": false,
          "name": "#%%\n"
        },
        "outputId": "77c5346a-79eb-4fc8-a7a0-48a433a2da7f",
        "colab": {
          "base_uri": "https://localhost:8080/",
          "height": 529
        }
      },
      "source": [
        "data = cantidadDeTipoDeStagePorTiempo(entrenamiento,'Opportunity_Created_Date')\n",
        "graficarTipoDeStagePorTiempo(data,descripcion,\"Cantidad de stages de modificaciones Cerrados segun \" + descripcion)\n",
        "data.head(10)"
      ],
      "execution_count": 65,
      "outputs": [
        {
          "output_type": "execute_result",
          "data": {
            "text/html": [
              "<div>\n",
              "<style scoped>\n",
              "    .dataframe tbody tr th:only-of-type {\n",
              "        vertical-align: middle;\n",
              "    }\n",
              "\n",
              "    .dataframe tbody tr th {\n",
              "        vertical-align: top;\n",
              "    }\n",
              "\n",
              "    .dataframe thead th {\n",
              "        text-align: right;\n",
              "    }\n",
              "</style>\n",
              "<table border=\"1\" class=\"dataframe\">\n",
              "  <thead>\n",
              "    <tr style=\"text-align: right;\">\n",
              "      <th>mes</th>\n",
              "      <th>1</th>\n",
              "      <th>2</th>\n",
              "      <th>3</th>\n",
              "      <th>4</th>\n",
              "      <th>5</th>\n",
              "      <th>6</th>\n",
              "      <th>7</th>\n",
              "      <th>8</th>\n",
              "      <th>9</th>\n",
              "      <th>10</th>\n",
              "      <th>11</th>\n",
              "      <th>12</th>\n",
              "    </tr>\n",
              "    <tr>\n",
              "      <th>anio</th>\n",
              "      <th></th>\n",
              "      <th></th>\n",
              "      <th></th>\n",
              "      <th></th>\n",
              "      <th></th>\n",
              "      <th></th>\n",
              "      <th></th>\n",
              "      <th></th>\n",
              "      <th></th>\n",
              "      <th></th>\n",
              "      <th></th>\n",
              "      <th></th>\n",
              "    </tr>\n",
              "  </thead>\n",
              "  <tbody>\n",
              "    <tr>\n",
              "      <th>2014</th>\n",
              "      <td>0.00</td>\n",
              "      <td>0.00</td>\n",
              "      <td>0.00</td>\n",
              "      <td>0.00</td>\n",
              "      <td>2.00</td>\n",
              "      <td>2.00</td>\n",
              "      <td>0.00</td>\n",
              "      <td>2.00</td>\n",
              "      <td>0.00</td>\n",
              "      <td>1.00</td>\n",
              "      <td>0.00</td>\n",
              "      <td>10.00</td>\n",
              "    </tr>\n",
              "    <tr>\n",
              "      <th>2015</th>\n",
              "      <td>0.00</td>\n",
              "      <td>1.00</td>\n",
              "      <td>6.00</td>\n",
              "      <td>8.00</td>\n",
              "      <td>41.00</td>\n",
              "      <td>7.00</td>\n",
              "      <td>4.00</td>\n",
              "      <td>3.00</td>\n",
              "      <td>43.00</td>\n",
              "      <td>24.00</td>\n",
              "      <td>36.00</td>\n",
              "      <td>103.00</td>\n",
              "    </tr>\n",
              "    <tr>\n",
              "      <th>2016</th>\n",
              "      <td>150.00</td>\n",
              "      <td>100.00</td>\n",
              "      <td>140.00</td>\n",
              "      <td>163.00</td>\n",
              "      <td>107.00</td>\n",
              "      <td>129.00</td>\n",
              "      <td>242.00</td>\n",
              "      <td>170.00</td>\n",
              "      <td>201.00</td>\n",
              "      <td>232.00</td>\n",
              "      <td>245.00</td>\n",
              "      <td>219.00</td>\n",
              "    </tr>\n",
              "    <tr>\n",
              "      <th>2017</th>\n",
              "      <td>282.00</td>\n",
              "      <td>301.00</td>\n",
              "      <td>469.00</td>\n",
              "      <td>428.00</td>\n",
              "      <td>507.00</td>\n",
              "      <td>503.00</td>\n",
              "      <td>297.00</td>\n",
              "      <td>260.00</td>\n",
              "      <td>345.00</td>\n",
              "      <td>435.00</td>\n",
              "      <td>303.00</td>\n",
              "      <td>239.00</td>\n",
              "    </tr>\n",
              "    <tr>\n",
              "      <th>2018</th>\n",
              "      <td>371.00</td>\n",
              "      <td>185.00</td>\n",
              "      <td>244.00</td>\n",
              "      <td>256.00</td>\n",
              "      <td>301.00</td>\n",
              "      <td>228.00</td>\n",
              "      <td>204.00</td>\n",
              "      <td>192.00</td>\n",
              "      <td>183.00</td>\n",
              "      <td>268.00</td>\n",
              "      <td>218.00</td>\n",
              "      <td>123.00</td>\n",
              "    </tr>\n",
              "  </tbody>\n",
              "</table>\n",
              "</div>"
            ],
            "text/plain": [
              "mes                    1   ...                   12\n",
              "anio                       ...                     \n",
              "2014                 0.00  ...                10.00\n",
              "2015                 0.00  ...               103.00\n",
              "2016               150.00  ...               219.00\n",
              "2017               282.00  ...               239.00\n",
              "2018               371.00  ...               123.00\n",
              "\n",
              "[5 rows x 12 columns]"
            ]
          },
          "metadata": {
            "tags": []
          },
          "execution_count": 65
        },
        {
          "output_type": "display_data",
          "data": {
            "image/png": "[encoded data removed]",
            "text/plain": [
              "<Figure size 432x288 with 2 Axes>"
            ]
          },
          "metadata": {
            "tags": [],
            "needs_background": "light"
          }
        }
      ]
    },
    {
      "cell_type": "code",
      "metadata": {
        "id": "Rpviv_rDxY9d",
        "pycharm": {
          "is_executing": false,
          "name": "#%%\n"
        },
        "outputId": "bbf54e82-e4fc-4f3c-860e-8e3e28d70607",
        "colab": {
          "base_uri": "https://localhost:8080/",
          "height": 560
        }
      },
      "source": [
        "data = cantidadDeTipoDeStagePorTiempo(entrenamiento,'Opportunity_Created_Date',invertir=True)\n",
        "graficarTipoDeStagePorTiempo(data,descripcion,\"Cantidad de stages de modificaciones sin cerrar segun \" + descripcion)\n",
        "data.head(10)"
      ],
      "execution_count": 66,
      "outputs": [
        {
          "output_type": "execute_result",
          "data": {
            "text/html": [
              "<div>\n",
              "<style scoped>\n",
              "    .dataframe tbody tr th:only-of-type {\n",
              "        vertical-align: middle;\n",
              "    }\n",
              "\n",
              "    .dataframe tbody tr th {\n",
              "        vertical-align: top;\n",
              "    }\n",
              "\n",
              "    .dataframe thead th {\n",
              "        text-align: right;\n",
              "    }\n",
              "</style>\n",
              "<table border=\"1\" class=\"dataframe\">\n",
              "  <thead>\n",
              "    <tr style=\"text-align: right;\">\n",
              "      <th>mes</th>\n",
              "      <th>1</th>\n",
              "      <th>2</th>\n",
              "      <th>3</th>\n",
              "      <th>4</th>\n",
              "      <th>5</th>\n",
              "      <th>6</th>\n",
              "      <th>7</th>\n",
              "      <th>8</th>\n",
              "      <th>9</th>\n",
              "      <th>10</th>\n",
              "      <th>11</th>\n",
              "      <th>12</th>\n",
              "    </tr>\n",
              "    <tr>\n",
              "      <th>anio</th>\n",
              "      <th></th>\n",
              "      <th></th>\n",
              "      <th></th>\n",
              "      <th></th>\n",
              "      <th></th>\n",
              "      <th></th>\n",
              "      <th></th>\n",
              "      <th></th>\n",
              "      <th></th>\n",
              "      <th></th>\n",
              "      <th></th>\n",
              "      <th></th>\n",
              "    </tr>\n",
              "  </thead>\n",
              "  <tbody>\n",
              "    <tr>\n",
              "      <th>2013</th>\n",
              "      <td>0.00</td>\n",
              "      <td>0.00</td>\n",
              "      <td>0.00</td>\n",
              "      <td>0.00</td>\n",
              "      <td>0.00</td>\n",
              "      <td>0.00</td>\n",
              "      <td>0.00</td>\n",
              "      <td>0.00</td>\n",
              "      <td>0.00</td>\n",
              "      <td>0.00</td>\n",
              "      <td>1.00</td>\n",
              "      <td>0.00</td>\n",
              "    </tr>\n",
              "    <tr>\n",
              "      <th>2014</th>\n",
              "      <td>0.00</td>\n",
              "      <td>0.00</td>\n",
              "      <td>3.00</td>\n",
              "      <td>0.00</td>\n",
              "      <td>1.00</td>\n",
              "      <td>0.00</td>\n",
              "      <td>2.00</td>\n",
              "      <td>0.00</td>\n",
              "      <td>9.00</td>\n",
              "      <td>6.00</td>\n",
              "      <td>0.00</td>\n",
              "      <td>2.00</td>\n",
              "    </tr>\n",
              "    <tr>\n",
              "      <th>2015</th>\n",
              "      <td>9.00</td>\n",
              "      <td>6.00</td>\n",
              "      <td>6.00</td>\n",
              "      <td>40.00</td>\n",
              "      <td>14.00</td>\n",
              "      <td>21.00</td>\n",
              "      <td>43.00</td>\n",
              "      <td>39.00</td>\n",
              "      <td>193.00</td>\n",
              "      <td>63.00</td>\n",
              "      <td>110.00</td>\n",
              "      <td>192.00</td>\n",
              "    </tr>\n",
              "    <tr>\n",
              "      <th>2016</th>\n",
              "      <td>307.00</td>\n",
              "      <td>273.00</td>\n",
              "      <td>188.00</td>\n",
              "      <td>141.00</td>\n",
              "      <td>195.00</td>\n",
              "      <td>143.00</td>\n",
              "      <td>164.00</td>\n",
              "      <td>106.00</td>\n",
              "      <td>146.00</td>\n",
              "      <td>192.00</td>\n",
              "      <td>111.00</td>\n",
              "      <td>291.00</td>\n",
              "    </tr>\n",
              "    <tr>\n",
              "      <th>2017</th>\n",
              "      <td>170.00</td>\n",
              "      <td>189.00</td>\n",
              "      <td>245.00</td>\n",
              "      <td>213.00</td>\n",
              "      <td>251.00</td>\n",
              "      <td>315.00</td>\n",
              "      <td>143.00</td>\n",
              "      <td>127.00</td>\n",
              "      <td>190.00</td>\n",
              "      <td>235.00</td>\n",
              "      <td>205.00</td>\n",
              "      <td>269.00</td>\n",
              "    </tr>\n",
              "    <tr>\n",
              "      <th>2018</th>\n",
              "      <td>256.00</td>\n",
              "      <td>217.00</td>\n",
              "      <td>175.00</td>\n",
              "      <td>135.00</td>\n",
              "      <td>177.00</td>\n",
              "      <td>161.00</td>\n",
              "      <td>202.00</td>\n",
              "      <td>147.00</td>\n",
              "      <td>81.00</td>\n",
              "      <td>124.00</td>\n",
              "      <td>110.00</td>\n",
              "      <td>60.00</td>\n",
              "    </tr>\n",
              "  </tbody>\n",
              "</table>\n",
              "</div>"
            ],
            "text/plain": [
              "mes                    1   ...                   12\n",
              "anio                       ...                     \n",
              "2013                 0.00  ...                 0.00\n",
              "2014                 0.00  ...                 2.00\n",
              "2015                 9.00  ...               192.00\n",
              "2016               307.00  ...               291.00\n",
              "2017               170.00  ...               269.00\n",
              "2018               256.00  ...                60.00\n",
              "\n",
              "[6 rows x 12 columns]"
            ]
          },
          "metadata": {
            "tags": []
          },
          "execution_count": 66
        },
        {
          "output_type": "display_data",
          "data": {
            "image/png": "[encoded data removed]",
            "text/plain": [
              "<Figure size 432x288 with 2 Axes>"
            ]
          },
          "metadata": {
            "tags": [],
            "needs_background": "light"
          }
        }
      ]
    },
    {
      "cell_type": "code",
      "metadata": {
        "id": "hLM_S7r2xY9j",
        "pycharm": {
          "is_executing": false,
          "name": "#%%\n"
        },
        "outputId": "5142cbad-ff9c-44ac-a959-9d87dd2d8df5",
        "colab": {
          "base_uri": "https://localhost:8080/",
          "height": 529
        }
      },
      "source": [
        "data = cantidadDeTipoDeStagePorTiempo(agrupacion,'Opportunity_Created_Date',columna='Won')\n",
        "graficarTipoDeStagePorTiempo(data,descripcion,\"Cantidad de stages Cerrados con exito segun \" + descripcion)\n",
        "data.head(10)"
      ],
      "execution_count": 67,
      "outputs": [
        {
          "output_type": "execute_result",
          "data": {
            "text/html": [
              "<div>\n",
              "<style scoped>\n",
              "    .dataframe tbody tr th:only-of-type {\n",
              "        vertical-align: middle;\n",
              "    }\n",
              "\n",
              "    .dataframe tbody tr th {\n",
              "        vertical-align: top;\n",
              "    }\n",
              "\n",
              "    .dataframe thead th {\n",
              "        text-align: right;\n",
              "    }\n",
              "</style>\n",
              "<table border=\"1\" class=\"dataframe\">\n",
              "  <thead>\n",
              "    <tr style=\"text-align: right;\">\n",
              "      <th>mes</th>\n",
              "      <th>1</th>\n",
              "      <th>2</th>\n",
              "      <th>3</th>\n",
              "      <th>4</th>\n",
              "      <th>5</th>\n",
              "      <th>6</th>\n",
              "      <th>7</th>\n",
              "      <th>8</th>\n",
              "      <th>9</th>\n",
              "      <th>10</th>\n",
              "      <th>11</th>\n",
              "      <th>12</th>\n",
              "    </tr>\n",
              "    <tr>\n",
              "      <th>anio</th>\n",
              "      <th></th>\n",
              "      <th></th>\n",
              "      <th></th>\n",
              "      <th></th>\n",
              "      <th></th>\n",
              "      <th></th>\n",
              "      <th></th>\n",
              "      <th></th>\n",
              "      <th></th>\n",
              "      <th></th>\n",
              "      <th></th>\n",
              "      <th></th>\n",
              "    </tr>\n",
              "  </thead>\n",
              "  <tbody>\n",
              "    <tr>\n",
              "      <th>2014</th>\n",
              "      <td>0.00</td>\n",
              "      <td>0.00</td>\n",
              "      <td>0.00</td>\n",
              "      <td>0.00</td>\n",
              "      <td>1.00</td>\n",
              "      <td>1.00</td>\n",
              "      <td>0.00</td>\n",
              "      <td>2.00</td>\n",
              "      <td>0.00</td>\n",
              "      <td>1.00</td>\n",
              "      <td>0.00</td>\n",
              "      <td>2.00</td>\n",
              "    </tr>\n",
              "    <tr>\n",
              "      <th>2015</th>\n",
              "      <td>0.00</td>\n",
              "      <td>1.00</td>\n",
              "      <td>3.00</td>\n",
              "      <td>3.00</td>\n",
              "      <td>5.00</td>\n",
              "      <td>2.00</td>\n",
              "      <td>4.00</td>\n",
              "      <td>3.00</td>\n",
              "      <td>12.00</td>\n",
              "      <td>10.00</td>\n",
              "      <td>26.00</td>\n",
              "      <td>59.00</td>\n",
              "    </tr>\n",
              "    <tr>\n",
              "      <th>2016</th>\n",
              "      <td>69.00</td>\n",
              "      <td>58.00</td>\n",
              "      <td>81.00</td>\n",
              "      <td>71.00</td>\n",
              "      <td>61.00</td>\n",
              "      <td>79.00</td>\n",
              "      <td>93.00</td>\n",
              "      <td>118.00</td>\n",
              "      <td>109.00</td>\n",
              "      <td>136.00</td>\n",
              "      <td>135.00</td>\n",
              "      <td>170.00</td>\n",
              "    </tr>\n",
              "    <tr>\n",
              "      <th>2017</th>\n",
              "      <td>139.00</td>\n",
              "      <td>165.00</td>\n",
              "      <td>237.00</td>\n",
              "      <td>212.00</td>\n",
              "      <td>275.00</td>\n",
              "      <td>260.00</td>\n",
              "      <td>194.00</td>\n",
              "      <td>181.00</td>\n",
              "      <td>155.00</td>\n",
              "      <td>190.00</td>\n",
              "      <td>121.00</td>\n",
              "      <td>121.00</td>\n",
              "    </tr>\n",
              "    <tr>\n",
              "      <th>2018</th>\n",
              "      <td>157.00</td>\n",
              "      <td>94.00</td>\n",
              "      <td>111.00</td>\n",
              "      <td>116.00</td>\n",
              "      <td>140.00</td>\n",
              "      <td>118.00</td>\n",
              "      <td>141.00</td>\n",
              "      <td>110.00</td>\n",
              "      <td>124.00</td>\n",
              "      <td>174.00</td>\n",
              "      <td>139.00</td>\n",
              "      <td>83.00</td>\n",
              "    </tr>\n",
              "  </tbody>\n",
              "</table>\n",
              "</div>"
            ],
            "text/plain": [
              "mes                    1   ...                   12\n",
              "anio                       ...                     \n",
              "2014                 0.00  ...                 2.00\n",
              "2015                 0.00  ...                59.00\n",
              "2016                69.00  ...               170.00\n",
              "2017               139.00  ...               121.00\n",
              "2018               157.00  ...                83.00\n",
              "\n",
              "[5 rows x 12 columns]"
            ]
          },
          "metadata": {
            "tags": []
          },
          "execution_count": 67
        },
        {
          "output_type": "display_data",
          "data": {
            "image/png": "[encoded data removed]",
            "text/plain": [
              "<Figure size 432x288 with 2 Axes>"
            ]
          },
          "metadata": {
            "tags": [],
            "needs_background": "light"
          }
        }
      ]
    },
    {
      "cell_type": "code",
      "metadata": {
        "id": "ZXzq4Wx4xY9p",
        "pycharm": {
          "is_executing": false,
          "name": "#%%\n"
        },
        "outputId": "905a9dcb-5059-4cfd-9c2b-75dee5d3705f",
        "colab": {
          "base_uri": "https://localhost:8080/",
          "height": 560
        }
      },
      "source": [
        "data = cantidadDeStageTotalesPorTiempo(agrupacion,'Opportunity_Created_Date')\n",
        "graficarTipoDeStagePorTiempo(data,descripcion,\"Cantidad de creaciones de oportunidades segun fecha de \" + descripcion)\n",
        "data.head(10)"
      ],
      "execution_count": 68,
      "outputs": [
        {
          "output_type": "execute_result",
          "data": {
            "text/html": [
              "<div>\n",
              "<style scoped>\n",
              "    .dataframe tbody tr th:only-of-type {\n",
              "        vertical-align: middle;\n",
              "    }\n",
              "\n",
              "    .dataframe tbody tr th {\n",
              "        vertical-align: top;\n",
              "    }\n",
              "\n",
              "    .dataframe thead th {\n",
              "        text-align: right;\n",
              "    }\n",
              "</style>\n",
              "<table border=\"1\" class=\"dataframe\">\n",
              "  <thead>\n",
              "    <tr style=\"text-align: right;\">\n",
              "      <th>mes</th>\n",
              "      <th>1</th>\n",
              "      <th>2</th>\n",
              "      <th>3</th>\n",
              "      <th>4</th>\n",
              "      <th>5</th>\n",
              "      <th>6</th>\n",
              "      <th>7</th>\n",
              "      <th>8</th>\n",
              "      <th>9</th>\n",
              "      <th>10</th>\n",
              "      <th>11</th>\n",
              "      <th>12</th>\n",
              "    </tr>\n",
              "    <tr>\n",
              "      <th>anio</th>\n",
              "      <th></th>\n",
              "      <th></th>\n",
              "      <th></th>\n",
              "      <th></th>\n",
              "      <th></th>\n",
              "      <th></th>\n",
              "      <th></th>\n",
              "      <th></th>\n",
              "      <th></th>\n",
              "      <th></th>\n",
              "      <th></th>\n",
              "      <th></th>\n",
              "    </tr>\n",
              "  </thead>\n",
              "  <tbody>\n",
              "    <tr>\n",
              "      <th>2013</th>\n",
              "      <td>0.00</td>\n",
              "      <td>0.00</td>\n",
              "      <td>0.00</td>\n",
              "      <td>0.00</td>\n",
              "      <td>0.00</td>\n",
              "      <td>0.00</td>\n",
              "      <td>0.00</td>\n",
              "      <td>0.00</td>\n",
              "      <td>0.00</td>\n",
              "      <td>0.00</td>\n",
              "      <td>1.00</td>\n",
              "      <td>0.00</td>\n",
              "    </tr>\n",
              "    <tr>\n",
              "      <th>2014</th>\n",
              "      <td>0.00</td>\n",
              "      <td>0.00</td>\n",
              "      <td>2.00</td>\n",
              "      <td>0.00</td>\n",
              "      <td>2.00</td>\n",
              "      <td>1.00</td>\n",
              "      <td>2.00</td>\n",
              "      <td>2.00</td>\n",
              "      <td>3.00</td>\n",
              "      <td>7.00</td>\n",
              "      <td>0.00</td>\n",
              "      <td>4.00</td>\n",
              "    </tr>\n",
              "    <tr>\n",
              "      <th>2015</th>\n",
              "      <td>4.00</td>\n",
              "      <td>6.00</td>\n",
              "      <td>9.00</td>\n",
              "      <td>42.00</td>\n",
              "      <td>10.00</td>\n",
              "      <td>19.00</td>\n",
              "      <td>35.00</td>\n",
              "      <td>19.00</td>\n",
              "      <td>103.00</td>\n",
              "      <td>48.00</td>\n",
              "      <td>73.00</td>\n",
              "      <td>143.00</td>\n",
              "    </tr>\n",
              "    <tr>\n",
              "      <th>2016</th>\n",
              "      <td>167.00</td>\n",
              "      <td>157.00</td>\n",
              "      <td>165.00</td>\n",
              "      <td>138.00</td>\n",
              "      <td>167.00</td>\n",
              "      <td>172.00</td>\n",
              "      <td>243.00</td>\n",
              "      <td>213.00</td>\n",
              "      <td>227.00</td>\n",
              "      <td>271.00</td>\n",
              "      <td>234.00</td>\n",
              "      <td>415.00</td>\n",
              "    </tr>\n",
              "    <tr>\n",
              "      <th>2017</th>\n",
              "      <td>265.00</td>\n",
              "      <td>321.00</td>\n",
              "      <td>437.00</td>\n",
              "      <td>362.00</td>\n",
              "      <td>477.00</td>\n",
              "      <td>487.00</td>\n",
              "      <td>305.00</td>\n",
              "      <td>290.00</td>\n",
              "      <td>308.00</td>\n",
              "      <td>322.00</td>\n",
              "      <td>211.00</td>\n",
              "      <td>260.00</td>\n",
              "    </tr>\n",
              "    <tr>\n",
              "      <th>2018</th>\n",
              "      <td>287.00</td>\n",
              "      <td>235.00</td>\n",
              "      <td>222.00</td>\n",
              "      <td>210.00</td>\n",
              "      <td>260.00</td>\n",
              "      <td>212.00</td>\n",
              "      <td>266.00</td>\n",
              "      <td>208.00</td>\n",
              "      <td>178.00</td>\n",
              "      <td>256.00</td>\n",
              "      <td>208.00</td>\n",
              "      <td>100.00</td>\n",
              "    </tr>\n",
              "  </tbody>\n",
              "</table>\n",
              "</div>"
            ],
            "text/plain": [
              "mes                    1   ...                   12\n",
              "anio                       ...                     \n",
              "2013                 0.00  ...                 0.00\n",
              "2014                 0.00  ...                 4.00\n",
              "2015                 4.00  ...               143.00\n",
              "2016               167.00  ...               415.00\n",
              "2017               265.00  ...               260.00\n",
              "2018               287.00  ...               100.00\n",
              "\n",
              "[6 rows x 12 columns]"
            ]
          },
          "metadata": {
            "tags": []
          },
          "execution_count": 68
        },
        {
          "output_type": "display_data",
          "data": {
            "image/png": "[encoded data removed]",
            "text/plain": [
              "<Figure size 432x288 with 2 Axes>"
            ]
          },
          "metadata": {
            "tags": [],
            "needs_background": "light"
          }
        }
      ]
    },
    {
      "cell_type": "markdown",
      "metadata": {
        "id": "Zuw9g-qVxY9u"
      },
      "source": [
        "#### Quote_Expiry_Date"
      ]
    },
    {
      "cell_type": "code",
      "metadata": {
        "id": "hxeNmR9VxY9v",
        "pycharm": {
          "is_executing": false,
          "name": "#%%\n"
        }
      },
      "source": [
        "descripcion = \"vencimiento del presupuesto\""
      ],
      "execution_count": 69,
      "outputs": []
    },
    {
      "cell_type": "code",
      "metadata": {
        "id": "UY_ufOn0xY91",
        "pycharm": {
          "is_executing": false,
          "name": "#%%\n"
        },
        "outputId": "182950c8-1cf8-4aaa-f1dd-0a9a2c5c8579",
        "colab": {
          "base_uri": "https://localhost:8080/",
          "height": 537
        }
      },
      "source": [
        "data = cantidadDeTipoDeStagePorTiempo(entrenamiento,'Quote_Expiry_Date')\n",
        "graficarTipoDeStagePorTiempo(data,descripcion,\"Cantidad de stages de modificaciones Cerrados segun \" + descripcion)\n",
        "data.head(10)"
      ],
      "execution_count": 70,
      "outputs": [
        {
          "output_type": "execute_result",
          "data": {
            "text/html": [
              "<div>\n",
              "<style scoped>\n",
              "    .dataframe tbody tr th:only-of-type {\n",
              "        vertical-align: middle;\n",
              "    }\n",
              "\n",
              "    .dataframe tbody tr th {\n",
              "        vertical-align: top;\n",
              "    }\n",
              "\n",
              "    .dataframe thead th {\n",
              "        text-align: right;\n",
              "    }\n",
              "</style>\n",
              "<table border=\"1\" class=\"dataframe\">\n",
              "  <thead>\n",
              "    <tr style=\"text-align: right;\">\n",
              "      <th>mes</th>\n",
              "      <th>1</th>\n",
              "      <th>2</th>\n",
              "      <th>3</th>\n",
              "      <th>4</th>\n",
              "      <th>5</th>\n",
              "      <th>6</th>\n",
              "      <th>7</th>\n",
              "      <th>8</th>\n",
              "      <th>9</th>\n",
              "      <th>10</th>\n",
              "      <th>11</th>\n",
              "      <th>12</th>\n",
              "    </tr>\n",
              "    <tr>\n",
              "      <th>anio</th>\n",
              "      <th></th>\n",
              "      <th></th>\n",
              "      <th></th>\n",
              "      <th></th>\n",
              "      <th></th>\n",
              "      <th></th>\n",
              "      <th></th>\n",
              "      <th></th>\n",
              "      <th></th>\n",
              "      <th></th>\n",
              "      <th></th>\n",
              "      <th></th>\n",
              "    </tr>\n",
              "  </thead>\n",
              "  <tbody>\n",
              "    <tr>\n",
              "      <th>2015</th>\n",
              "      <td>2.00</td>\n",
              "      <td>0.00</td>\n",
              "      <td>0.00</td>\n",
              "      <td>10.00</td>\n",
              "      <td>2.00</td>\n",
              "      <td>4.00</td>\n",
              "      <td>36.00</td>\n",
              "      <td>2.00</td>\n",
              "      <td>1.00</td>\n",
              "      <td>9.00</td>\n",
              "      <td>8.00</td>\n",
              "      <td>36.00</td>\n",
              "    </tr>\n",
              "    <tr>\n",
              "      <th>2016</th>\n",
              "      <td>134.00</td>\n",
              "      <td>84.00</td>\n",
              "      <td>164.00</td>\n",
              "      <td>145.00</td>\n",
              "      <td>103.00</td>\n",
              "      <td>123.00</td>\n",
              "      <td>150.00</td>\n",
              "      <td>167.00</td>\n",
              "      <td>245.00</td>\n",
              "      <td>184.00</td>\n",
              "      <td>225.00</td>\n",
              "      <td>308.00</td>\n",
              "    </tr>\n",
              "    <tr>\n",
              "      <th>2017</th>\n",
              "      <td>199.00</td>\n",
              "      <td>180.00</td>\n",
              "      <td>527.00</td>\n",
              "      <td>325.00</td>\n",
              "      <td>352.00</td>\n",
              "      <td>548.00</td>\n",
              "      <td>268.00</td>\n",
              "      <td>211.00</td>\n",
              "      <td>379.00</td>\n",
              "      <td>279.00</td>\n",
              "      <td>332.00</td>\n",
              "      <td>297.00</td>\n",
              "    </tr>\n",
              "    <tr>\n",
              "      <th>2018</th>\n",
              "      <td>225.00</td>\n",
              "      <td>116.00</td>\n",
              "      <td>193.00</td>\n",
              "      <td>218.00</td>\n",
              "      <td>208.00</td>\n",
              "      <td>177.00</td>\n",
              "      <td>181.00</td>\n",
              "      <td>127.00</td>\n",
              "      <td>131.00</td>\n",
              "      <td>146.00</td>\n",
              "      <td>152.00</td>\n",
              "      <td>108.00</td>\n",
              "    </tr>\n",
              "    <tr>\n",
              "      <th>2019</th>\n",
              "      <td>32.00</td>\n",
              "      <td>1.00</td>\n",
              "      <td>1.00</td>\n",
              "      <td>0.00</td>\n",
              "      <td>0.00</td>\n",
              "      <td>0.00</td>\n",
              "      <td>0.00</td>\n",
              "      <td>0.00</td>\n",
              "      <td>0.00</td>\n",
              "      <td>0.00</td>\n",
              "      <td>0.00</td>\n",
              "      <td>0.00</td>\n",
              "    </tr>\n",
              "  </tbody>\n",
              "</table>\n",
              "</div>"
            ],
            "text/plain": [
              "mes                    1   ...                   12\n",
              "anio                       ...                     \n",
              "2015                 2.00  ...                36.00\n",
              "2016               134.00  ...               308.00\n",
              "2017               199.00  ...               297.00\n",
              "2018               225.00  ...               108.00\n",
              "2019                32.00  ...                 0.00\n",
              "\n",
              "[5 rows x 12 columns]"
            ]
          },
          "metadata": {
            "tags": []
          },
          "execution_count": 70
        },
        {
          "output_type": "display_data",
          "data": {
            "image/png": "[encoded data removed]",
            "text/plain": [
              "<Figure size 432x288 with 2 Axes>"
            ]
          },
          "metadata": {
            "tags": [],
            "needs_background": "light"
          }
        }
      ]
    },
    {
      "cell_type": "code",
      "metadata": {
        "id": "Pq9UmWAqxY96",
        "pycharm": {
          "is_executing": false,
          "name": "#%%\n"
        },
        "outputId": "c18e0333-6966-4fa6-b1e3-62efdfdc4c2a",
        "colab": {
          "base_uri": "https://localhost:8080/",
          "height": 568
        }
      },
      "source": [
        "data = cantidadDeTipoDeStagePorTiempo(entrenamiento,'Quote_Expiry_Date',invertir=True)\n",
        "graficarTipoDeStagePorTiempo(data,descripcion,\"Cantidad de stages de modificaciones sin cerrar segun \" + descripcion)\n",
        "data.head(10)"
      ],
      "execution_count": 71,
      "outputs": [
        {
          "output_type": "execute_result",
          "data": {
            "text/html": [
              "<div>\n",
              "<style scoped>\n",
              "    .dataframe tbody tr th:only-of-type {\n",
              "        vertical-align: middle;\n",
              "    }\n",
              "\n",
              "    .dataframe tbody tr th {\n",
              "        vertical-align: top;\n",
              "    }\n",
              "\n",
              "    .dataframe thead th {\n",
              "        text-align: right;\n",
              "    }\n",
              "</style>\n",
              "<table border=\"1\" class=\"dataframe\">\n",
              "  <thead>\n",
              "    <tr style=\"text-align: right;\">\n",
              "      <th>mes</th>\n",
              "      <th>1</th>\n",
              "      <th>2</th>\n",
              "      <th>3</th>\n",
              "      <th>4</th>\n",
              "      <th>5</th>\n",
              "      <th>6</th>\n",
              "      <th>7</th>\n",
              "      <th>8</th>\n",
              "      <th>9</th>\n",
              "      <th>10</th>\n",
              "      <th>11</th>\n",
              "      <th>12</th>\n",
              "    </tr>\n",
              "    <tr>\n",
              "      <th>anio</th>\n",
              "      <th></th>\n",
              "      <th></th>\n",
              "      <th></th>\n",
              "      <th></th>\n",
              "      <th></th>\n",
              "      <th></th>\n",
              "      <th></th>\n",
              "      <th></th>\n",
              "      <th></th>\n",
              "      <th></th>\n",
              "      <th></th>\n",
              "      <th></th>\n",
              "    </tr>\n",
              "  </thead>\n",
              "  <tbody>\n",
              "    <tr>\n",
              "      <th>2014</th>\n",
              "      <td>0.00</td>\n",
              "      <td>0.00</td>\n",
              "      <td>0.00</td>\n",
              "      <td>0.00</td>\n",
              "      <td>0.00</td>\n",
              "      <td>0.00</td>\n",
              "      <td>0.00</td>\n",
              "      <td>0.00</td>\n",
              "      <td>1.00</td>\n",
              "      <td>1.00</td>\n",
              "      <td>0.00</td>\n",
              "      <td>0.00</td>\n",
              "    </tr>\n",
              "    <tr>\n",
              "      <th>2015</th>\n",
              "      <td>1.00</td>\n",
              "      <td>3.00</td>\n",
              "      <td>3.00</td>\n",
              "      <td>6.00</td>\n",
              "      <td>18.00</td>\n",
              "      <td>9.00</td>\n",
              "      <td>10.00</td>\n",
              "      <td>11.00</td>\n",
              "      <td>10.00</td>\n",
              "      <td>23.00</td>\n",
              "      <td>41.00</td>\n",
              "      <td>46.00</td>\n",
              "    </tr>\n",
              "    <tr>\n",
              "      <th>2016</th>\n",
              "      <td>48.00</td>\n",
              "      <td>48.00</td>\n",
              "      <td>91.00</td>\n",
              "      <td>58.00</td>\n",
              "      <td>41.00</td>\n",
              "      <td>72.00</td>\n",
              "      <td>61.00</td>\n",
              "      <td>60.00</td>\n",
              "      <td>45.00</td>\n",
              "      <td>113.00</td>\n",
              "      <td>84.00</td>\n",
              "      <td>183.00</td>\n",
              "    </tr>\n",
              "    <tr>\n",
              "      <th>2017</th>\n",
              "      <td>109.00</td>\n",
              "      <td>110.00</td>\n",
              "      <td>180.00</td>\n",
              "      <td>135.00</td>\n",
              "      <td>161.00</td>\n",
              "      <td>227.00</td>\n",
              "      <td>215.00</td>\n",
              "      <td>91.00</td>\n",
              "      <td>109.00</td>\n",
              "      <td>157.00</td>\n",
              "      <td>113.00</td>\n",
              "      <td>177.00</td>\n",
              "    </tr>\n",
              "    <tr>\n",
              "      <th>2018</th>\n",
              "      <td>154.00</td>\n",
              "      <td>104.00</td>\n",
              "      <td>140.00</td>\n",
              "      <td>87.00</td>\n",
              "      <td>171.00</td>\n",
              "      <td>131.00</td>\n",
              "      <td>126.00</td>\n",
              "      <td>98.00</td>\n",
              "      <td>89.00</td>\n",
              "      <td>93.00</td>\n",
              "      <td>102.00</td>\n",
              "      <td>56.00</td>\n",
              "    </tr>\n",
              "    <tr>\n",
              "      <th>2019</th>\n",
              "      <td>29.00</td>\n",
              "      <td>3.00</td>\n",
              "      <td>2.00</td>\n",
              "      <td>4.00</td>\n",
              "      <td>0.00</td>\n",
              "      <td>7.00</td>\n",
              "      <td>0.00</td>\n",
              "      <td>0.00</td>\n",
              "      <td>0.00</td>\n",
              "      <td>0.00</td>\n",
              "      <td>0.00</td>\n",
              "      <td>0.00</td>\n",
              "    </tr>\n",
              "  </tbody>\n",
              "</table>\n",
              "</div>"
            ],
            "text/plain": [
              "mes                    1   ...                   12\n",
              "anio                       ...                     \n",
              "2014                 0.00  ...                 0.00\n",
              "2015                 1.00  ...                46.00\n",
              "2016                48.00  ...               183.00\n",
              "2017               109.00  ...               177.00\n",
              "2018               154.00  ...                56.00\n",
              "2019                29.00  ...                 0.00\n",
              "\n",
              "[6 rows x 12 columns]"
            ]
          },
          "metadata": {
            "tags": []
          },
          "execution_count": 71
        },
        {
          "output_type": "display_data",
          "data": {
            "image/png": "[encoded data removed]",
            "text/plain": [
              "<Figure size 432x288 with 2 Axes>"
            ]
          },
          "metadata": {
            "tags": [],
            "needs_background": "light"
          }
        }
      ]
    },
    {
      "cell_type": "code",
      "metadata": {
        "id": "DyEMWknqxY-A",
        "pycharm": {
          "is_executing": false,
          "name": "#%%\n"
        },
        "outputId": "a056caa8-6cfb-42ac-e721-342219578930",
        "colab": {
          "base_uri": "https://localhost:8080/",
          "height": 537
        }
      },
      "source": [
        "data = cantidadDeTipoDeStagePorTiempo(agrupacion,'Quote_Expiry_Date',columna='Won')\n",
        "graficarTipoDeStagePorTiempo(data,descripcion,\"Cantidad de stages Cerrados con exito segun \" + descripcion)\n",
        "data.head(10)"
      ],
      "execution_count": 72,
      "outputs": [
        {
          "output_type": "execute_result",
          "data": {
            "text/html": [
              "<div>\n",
              "<style scoped>\n",
              "    .dataframe tbody tr th:only-of-type {\n",
              "        vertical-align: middle;\n",
              "    }\n",
              "\n",
              "    .dataframe tbody tr th {\n",
              "        vertical-align: top;\n",
              "    }\n",
              "\n",
              "    .dataframe thead th {\n",
              "        text-align: right;\n",
              "    }\n",
              "</style>\n",
              "<table border=\"1\" class=\"dataframe\">\n",
              "  <thead>\n",
              "    <tr style=\"text-align: right;\">\n",
              "      <th>mes</th>\n",
              "      <th>1</th>\n",
              "      <th>2</th>\n",
              "      <th>3</th>\n",
              "      <th>4</th>\n",
              "      <th>5</th>\n",
              "      <th>6</th>\n",
              "      <th>7</th>\n",
              "      <th>8</th>\n",
              "      <th>9</th>\n",
              "      <th>10</th>\n",
              "      <th>11</th>\n",
              "      <th>12</th>\n",
              "    </tr>\n",
              "    <tr>\n",
              "      <th>anio</th>\n",
              "      <th></th>\n",
              "      <th></th>\n",
              "      <th></th>\n",
              "      <th></th>\n",
              "      <th></th>\n",
              "      <th></th>\n",
              "      <th></th>\n",
              "      <th></th>\n",
              "      <th></th>\n",
              "      <th></th>\n",
              "      <th></th>\n",
              "      <th></th>\n",
              "    </tr>\n",
              "  </thead>\n",
              "  <tbody>\n",
              "    <tr>\n",
              "      <th>2015</th>\n",
              "      <td>1.00</td>\n",
              "      <td>0.00</td>\n",
              "      <td>0.00</td>\n",
              "      <td>3.00</td>\n",
              "      <td>1.00</td>\n",
              "      <td>3.00</td>\n",
              "      <td>1.00</td>\n",
              "      <td>1.00</td>\n",
              "      <td>1.00</td>\n",
              "      <td>8.00</td>\n",
              "      <td>6.00</td>\n",
              "      <td>27.00</td>\n",
              "    </tr>\n",
              "    <tr>\n",
              "      <th>2016</th>\n",
              "      <td>68.00</td>\n",
              "      <td>49.00</td>\n",
              "      <td>69.00</td>\n",
              "      <td>59.00</td>\n",
              "      <td>47.00</td>\n",
              "      <td>75.00</td>\n",
              "      <td>65.00</td>\n",
              "      <td>80.00</td>\n",
              "      <td>146.00</td>\n",
              "      <td>89.00</td>\n",
              "      <td>127.00</td>\n",
              "      <td>198.00</td>\n",
              "    </tr>\n",
              "    <tr>\n",
              "      <th>2017</th>\n",
              "      <td>107.00</td>\n",
              "      <td>87.00</td>\n",
              "      <td>287.00</td>\n",
              "      <td>158.00</td>\n",
              "      <td>156.00</td>\n",
              "      <td>290.00</td>\n",
              "      <td>156.00</td>\n",
              "      <td>112.00</td>\n",
              "      <td>210.00</td>\n",
              "      <td>130.00</td>\n",
              "      <td>130.00</td>\n",
              "      <td>171.00</td>\n",
              "    </tr>\n",
              "    <tr>\n",
              "      <th>2018</th>\n",
              "      <td>107.00</td>\n",
              "      <td>64.00</td>\n",
              "      <td>91.00</td>\n",
              "      <td>95.00</td>\n",
              "      <td>107.00</td>\n",
              "      <td>111.00</td>\n",
              "      <td>114.00</td>\n",
              "      <td>84.00</td>\n",
              "      <td>77.00</td>\n",
              "      <td>95.00</td>\n",
              "      <td>112.00</td>\n",
              "      <td>78.00</td>\n",
              "    </tr>\n",
              "    <tr>\n",
              "      <th>2019</th>\n",
              "      <td>12.00</td>\n",
              "      <td>1.00</td>\n",
              "      <td>1.00</td>\n",
              "      <td>0.00</td>\n",
              "      <td>0.00</td>\n",
              "      <td>0.00</td>\n",
              "      <td>0.00</td>\n",
              "      <td>0.00</td>\n",
              "      <td>0.00</td>\n",
              "      <td>0.00</td>\n",
              "      <td>0.00</td>\n",
              "      <td>0.00</td>\n",
              "    </tr>\n",
              "  </tbody>\n",
              "</table>\n",
              "</div>"
            ],
            "text/plain": [
              "mes                    1   ...                   12\n",
              "anio                       ...                     \n",
              "2015                 1.00  ...                27.00\n",
              "2016                68.00  ...               198.00\n",
              "2017               107.00  ...               171.00\n",
              "2018               107.00  ...                78.00\n",
              "2019                12.00  ...                 0.00\n",
              "\n",
              "[5 rows x 12 columns]"
            ]
          },
          "metadata": {
            "tags": []
          },
          "execution_count": 72
        },
        {
          "output_type": "display_data",
          "data": {
            "image/png": "[encoded data removed]",
            "text/plain": [
              "<Figure size 432x288 with 2 Axes>"
            ]
          },
          "metadata": {
            "tags": [],
            "needs_background": "light"
          }
        }
      ]
    },
    {
      "cell_type": "code",
      "metadata": {
        "id": "g9aBYuGcxY-E",
        "pycharm": {
          "is_executing": false,
          "name": "#%%\n"
        },
        "outputId": "a0a66666-e6c2-40da-d826-87e2781aba5b",
        "colab": {
          "base_uri": "https://localhost:8080/",
          "height": 583
        }
      },
      "source": [
        "data = cantidadDeStageTotalesPorTiempo(agrupacion,'Quote_Expiry_Date')\n",
        "graficarTipoDeStagePorTiempo(data,descripcion,\"Cantidad de creaciones de oportunidades segun fecha de \" + descripcion)\n",
        "data.head(10)"
      ],
      "execution_count": 73,
      "outputs": [
        {
          "output_type": "execute_result",
          "data": {
            "text/html": [
              "<div>\n",
              "<style scoped>\n",
              "    .dataframe tbody tr th:only-of-type {\n",
              "        vertical-align: middle;\n",
              "    }\n",
              "\n",
              "    .dataframe tbody tr th {\n",
              "        vertical-align: top;\n",
              "    }\n",
              "\n",
              "    .dataframe thead th {\n",
              "        text-align: right;\n",
              "    }\n",
              "</style>\n",
              "<table border=\"1\" class=\"dataframe\">\n",
              "  <thead>\n",
              "    <tr style=\"text-align: right;\">\n",
              "      <th>mes</th>\n",
              "      <th>1.00</th>\n",
              "      <th>2.00</th>\n",
              "      <th>3.00</th>\n",
              "      <th>4.00</th>\n",
              "      <th>5.00</th>\n",
              "      <th>6.00</th>\n",
              "      <th>7.00</th>\n",
              "      <th>8.00</th>\n",
              "      <th>9.00</th>\n",
              "      <th>10.00</th>\n",
              "      <th>11.00</th>\n",
              "      <th>12.00</th>\n",
              "    </tr>\n",
              "    <tr>\n",
              "      <th>anio</th>\n",
              "      <th></th>\n",
              "      <th></th>\n",
              "      <th></th>\n",
              "      <th></th>\n",
              "      <th></th>\n",
              "      <th></th>\n",
              "      <th></th>\n",
              "      <th></th>\n",
              "      <th></th>\n",
              "      <th></th>\n",
              "      <th></th>\n",
              "      <th></th>\n",
              "    </tr>\n",
              "  </thead>\n",
              "  <tbody>\n",
              "    <tr>\n",
              "      <th>2,014.00</th>\n",
              "      <td>0.00</td>\n",
              "      <td>0.00</td>\n",
              "      <td>0.00</td>\n",
              "      <td>0.00</td>\n",
              "      <td>0.00</td>\n",
              "      <td>0.00</td>\n",
              "      <td>0.00</td>\n",
              "      <td>0.00</td>\n",
              "      <td>1.00</td>\n",
              "      <td>1.00</td>\n",
              "      <td>0.00</td>\n",
              "      <td>0.00</td>\n",
              "    </tr>\n",
              "    <tr>\n",
              "      <th>2,015.00</th>\n",
              "      <td>2.00</td>\n",
              "      <td>3.00</td>\n",
              "      <td>3.00</td>\n",
              "      <td>8.00</td>\n",
              "      <td>19.00</td>\n",
              "      <td>12.00</td>\n",
              "      <td>8.00</td>\n",
              "      <td>4.00</td>\n",
              "      <td>10.00</td>\n",
              "      <td>25.00</td>\n",
              "      <td>31.00</td>\n",
              "      <td>56.00</td>\n",
              "    </tr>\n",
              "    <tr>\n",
              "      <th>2,016.00</th>\n",
              "      <td>110.00</td>\n",
              "      <td>95.00</td>\n",
              "      <td>129.00</td>\n",
              "      <td>109.00</td>\n",
              "      <td>76.00</td>\n",
              "      <td>137.00</td>\n",
              "      <td>112.00</td>\n",
              "      <td>138.00</td>\n",
              "      <td>188.00</td>\n",
              "      <td>170.00</td>\n",
              "      <td>181.00</td>\n",
              "      <td>341.00</td>\n",
              "    </tr>\n",
              "    <tr>\n",
              "      <th>2,017.00</th>\n",
              "      <td>198.00</td>\n",
              "      <td>179.00</td>\n",
              "      <td>421.00</td>\n",
              "      <td>255.00</td>\n",
              "      <td>272.00</td>\n",
              "      <td>463.00</td>\n",
              "      <td>315.00</td>\n",
              "      <td>189.00</td>\n",
              "      <td>301.00</td>\n",
              "      <td>252.00</td>\n",
              "      <td>214.00</td>\n",
              "      <td>291.00</td>\n",
              "    </tr>\n",
              "    <tr>\n",
              "      <th>2,018.00</th>\n",
              "      <td>218.00</td>\n",
              "      <td>140.00</td>\n",
              "      <td>184.00</td>\n",
              "      <td>162.00</td>\n",
              "      <td>223.00</td>\n",
              "      <td>200.00</td>\n",
              "      <td>204.00</td>\n",
              "      <td>165.00</td>\n",
              "      <td>137.00</td>\n",
              "      <td>171.00</td>\n",
              "      <td>194.00</td>\n",
              "      <td>119.00</td>\n",
              "    </tr>\n",
              "    <tr>\n",
              "      <th>2,019.00</th>\n",
              "      <td>22.00</td>\n",
              "      <td>3.00</td>\n",
              "      <td>2.00</td>\n",
              "      <td>0.00</td>\n",
              "      <td>0.00</td>\n",
              "      <td>0.00</td>\n",
              "      <td>0.00</td>\n",
              "      <td>0.00</td>\n",
              "      <td>0.00</td>\n",
              "      <td>0.00</td>\n",
              "      <td>0.00</td>\n",
              "      <td>0.00</td>\n",
              "    </tr>\n",
              "  </tbody>\n",
              "</table>\n",
              "</div>"
            ],
            "text/plain": [
              "mes                      1.00  ...                12.00\n",
              "anio                           ...                     \n",
              "2,014.00                 0.00  ...                 0.00\n",
              "2,015.00                 2.00  ...                56.00\n",
              "2,016.00               110.00  ...               341.00\n",
              "2,017.00               198.00  ...               291.00\n",
              "2,018.00               218.00  ...               119.00\n",
              "2,019.00                22.00  ...                 0.00\n",
              "\n",
              "[6 rows x 12 columns]"
            ]
          },
          "metadata": {
            "tags": []
          },
          "execution_count": 73
        },
        {
          "output_type": "display_data",
          "data": {
            "image/png": "[encoded data removed]",
            "text/plain": [
              "<Figure size 432x288 with 2 Axes>"
            ]
          },
          "metadata": {
            "tags": [],
            "needs_background": "light"
          }
        }
      ]
    },
    {
      "cell_type": "markdown",
      "metadata": {
        "id": "tzRxPEyRxY-J"
      },
      "source": [
        "#### Account_Created_Date"
      ]
    },
    {
      "cell_type": "code",
      "metadata": {
        "id": "gpJYAm6PxY-K",
        "pycharm": {
          "is_executing": false,
          "name": "#%%\n"
        }
      },
      "source": [
        "descripcion = \"creacion de cuenta de clientes\""
      ],
      "execution_count": 74,
      "outputs": []
    },
    {
      "cell_type": "code",
      "metadata": {
        "id": "v0T5iXpyxY-P",
        "pycharm": {
          "is_executing": false,
          "name": "#%%\n"
        },
        "outputId": "c4c507e4-3547-4d06-9293-6e76c3373576",
        "colab": {
          "base_uri": "https://localhost:8080/",
          "height": 574
        }
      },
      "source": [
        "data = cantidadDeTipoDeStagePorTiempo(entrenamiento,'Account_Created_Date')\n",
        "graficarTipoDeStagePorTiempo(data,descripcion,\"Cantidad de stages de modificaciones Cerrados segun \" + descripcion)\n",
        "data.head(10)"
      ],
      "execution_count": 79,
      "outputs": [
        {
          "output_type": "execute_result",
          "data": {
            "text/html": [
              "<div>\n",
              "<style scoped>\n",
              "    .dataframe tbody tr th:only-of-type {\n",
              "        vertical-align: middle;\n",
              "    }\n",
              "\n",
              "    .dataframe tbody tr th {\n",
              "        vertical-align: top;\n",
              "    }\n",
              "\n",
              "    .dataframe thead th {\n",
              "        text-align: right;\n",
              "    }\n",
              "</style>\n",
              "<table border=\"1\" class=\"dataframe\">\n",
              "  <thead>\n",
              "    <tr style=\"text-align: right;\">\n",
              "      <th>mes</th>\n",
              "      <th>1</th>\n",
              "      <th>2</th>\n",
              "      <th>3</th>\n",
              "      <th>4</th>\n",
              "      <th>5</th>\n",
              "      <th>6</th>\n",
              "      <th>7</th>\n",
              "      <th>8</th>\n",
              "      <th>9</th>\n",
              "      <th>10</th>\n",
              "      <th>11</th>\n",
              "      <th>12</th>\n",
              "    </tr>\n",
              "    <tr>\n",
              "      <th>anio</th>\n",
              "      <th></th>\n",
              "      <th></th>\n",
              "      <th></th>\n",
              "      <th></th>\n",
              "      <th></th>\n",
              "      <th></th>\n",
              "      <th></th>\n",
              "      <th></th>\n",
              "      <th></th>\n",
              "      <th></th>\n",
              "      <th></th>\n",
              "      <th></th>\n",
              "    </tr>\n",
              "  </thead>\n",
              "  <tbody>\n",
              "    <tr>\n",
              "      <th>2013</th>\n",
              "      <td>0.00</td>\n",
              "      <td>0.00</td>\n",
              "      <td>0.00</td>\n",
              "      <td>0.00</td>\n",
              "      <td>0.00</td>\n",
              "      <td>0.00</td>\n",
              "      <td>2,023.00</td>\n",
              "      <td>162.00</td>\n",
              "      <td>654.00</td>\n",
              "      <td>314.00</td>\n",
              "      <td>21.00</td>\n",
              "      <td>24.00</td>\n",
              "    </tr>\n",
              "    <tr>\n",
              "      <th>2014</th>\n",
              "      <td>69.00</td>\n",
              "      <td>90.00</td>\n",
              "      <td>2.00</td>\n",
              "      <td>19.00</td>\n",
              "      <td>30.00</td>\n",
              "      <td>60.00</td>\n",
              "      <td>39.00</td>\n",
              "      <td>37.00</td>\n",
              "      <td>251.00</td>\n",
              "      <td>15.00</td>\n",
              "      <td>10.00</td>\n",
              "      <td>56.00</td>\n",
              "    </tr>\n",
              "    <tr>\n",
              "      <th>2015</th>\n",
              "      <td>10.00</td>\n",
              "      <td>34.00</td>\n",
              "      <td>55.00</td>\n",
              "      <td>1,921.00</td>\n",
              "      <td>4.00</td>\n",
              "      <td>136.00</td>\n",
              "      <td>77.00</td>\n",
              "      <td>2.00</td>\n",
              "      <td>25.00</td>\n",
              "      <td>108.00</td>\n",
              "      <td>3.00</td>\n",
              "      <td>430.00</td>\n",
              "    </tr>\n",
              "    <tr>\n",
              "      <th>2016</th>\n",
              "      <td>285.00</td>\n",
              "      <td>56.00</td>\n",
              "      <td>162.00</td>\n",
              "      <td>125.00</td>\n",
              "      <td>86.00</td>\n",
              "      <td>165.00</td>\n",
              "      <td>155.00</td>\n",
              "      <td>106.00</td>\n",
              "      <td>277.00</td>\n",
              "      <td>46.00</td>\n",
              "      <td>43.00</td>\n",
              "      <td>99.00</td>\n",
              "    </tr>\n",
              "    <tr>\n",
              "      <th>2017</th>\n",
              "      <td>114.00</td>\n",
              "      <td>108.00</td>\n",
              "      <td>91.00</td>\n",
              "      <td>38.00</td>\n",
              "      <td>180.00</td>\n",
              "      <td>119.00</td>\n",
              "      <td>71.00</td>\n",
              "      <td>48.00</td>\n",
              "      <td>43.00</td>\n",
              "      <td>42.00</td>\n",
              "      <td>29.00</td>\n",
              "      <td>76.00</td>\n",
              "    </tr>\n",
              "    <tr>\n",
              "      <th>2018</th>\n",
              "      <td>21.00</td>\n",
              "      <td>23.00</td>\n",
              "      <td>11.00</td>\n",
              "      <td>22.00</td>\n",
              "      <td>31.00</td>\n",
              "      <td>34.00</td>\n",
              "      <td>48.00</td>\n",
              "      <td>51.00</td>\n",
              "      <td>12.00</td>\n",
              "      <td>15.00</td>\n",
              "      <td>12.00</td>\n",
              "      <td>8.00</td>\n",
              "    </tr>\n",
              "  </tbody>\n",
              "</table>\n",
              "</div>"
            ],
            "text/plain": [
              "mes                    1   ...                   12\n",
              "anio                       ...                     \n",
              "2013                 0.00  ...                24.00\n",
              "2014                69.00  ...                56.00\n",
              "2015                10.00  ...               430.00\n",
              "2016               285.00  ...                99.00\n",
              "2017               114.00  ...                76.00\n",
              "2018                21.00  ...                 8.00\n",
              "\n",
              "[6 rows x 12 columns]"
            ]
          },
          "metadata": {
            "tags": []
          },
          "execution_count": 79
        },
        {
          "output_type": "display_data",
          "data": {
            "image/png": "[encoded data removed]",
            "text/plain": [
              "<Figure size 432x288 with 2 Axes>"
            ]
          },
          "metadata": {
            "tags": [],
            "needs_background": "light"
          }
        }
      ]
    },
    {
      "cell_type": "code",
      "metadata": {
        "id": "ekdlnJ3pxY-V",
        "pycharm": {
          "is_executing": false,
          "name": "#%%\n"
        },
        "outputId": "6bd04998-68f2-41f5-b464-9e768450da90",
        "colab": {
          "base_uri": "https://localhost:8080/",
          "height": 574
        }
      },
      "source": [
        "data = cantidadDeTipoDeStagePorTiempo(entrenamiento,'Account_Created_Date',invertir=True)\n",
        "graficarTipoDeStagePorTiempo(data,descripcion,\"Cantidad de stages de modificaciones sin cerrar segun \" + descripcion)\n",
        "data.head(10)"
      ],
      "execution_count": 80,
      "outputs": [
        {
          "output_type": "execute_result",
          "data": {
            "text/html": [
              "<div>\n",
              "<style scoped>\n",
              "    .dataframe tbody tr th:only-of-type {\n",
              "        vertical-align: middle;\n",
              "    }\n",
              "\n",
              "    .dataframe tbody tr th {\n",
              "        vertical-align: top;\n",
              "    }\n",
              "\n",
              "    .dataframe thead th {\n",
              "        text-align: right;\n",
              "    }\n",
              "</style>\n",
              "<table border=\"1\" class=\"dataframe\">\n",
              "  <thead>\n",
              "    <tr style=\"text-align: right;\">\n",
              "      <th>mes</th>\n",
              "      <th>1</th>\n",
              "      <th>2</th>\n",
              "      <th>3</th>\n",
              "      <th>4</th>\n",
              "      <th>5</th>\n",
              "      <th>6</th>\n",
              "      <th>7</th>\n",
              "      <th>8</th>\n",
              "      <th>9</th>\n",
              "      <th>10</th>\n",
              "      <th>11</th>\n",
              "      <th>12</th>\n",
              "    </tr>\n",
              "    <tr>\n",
              "      <th>anio</th>\n",
              "      <th></th>\n",
              "      <th></th>\n",
              "      <th></th>\n",
              "      <th></th>\n",
              "      <th></th>\n",
              "      <th></th>\n",
              "      <th></th>\n",
              "      <th></th>\n",
              "      <th></th>\n",
              "      <th></th>\n",
              "      <th></th>\n",
              "      <th></th>\n",
              "    </tr>\n",
              "  </thead>\n",
              "  <tbody>\n",
              "    <tr>\n",
              "      <th>2013</th>\n",
              "      <td>0.00</td>\n",
              "      <td>0.00</td>\n",
              "      <td>0.00</td>\n",
              "      <td>0.00</td>\n",
              "      <td>0.00</td>\n",
              "      <td>0.00</td>\n",
              "      <td>909.00</td>\n",
              "      <td>170.00</td>\n",
              "      <td>130.00</td>\n",
              "      <td>78.00</td>\n",
              "      <td>24.00</td>\n",
              "      <td>41.00</td>\n",
              "    </tr>\n",
              "    <tr>\n",
              "      <th>2014</th>\n",
              "      <td>59.00</td>\n",
              "      <td>117.00</td>\n",
              "      <td>26.00</td>\n",
              "      <td>11.00</td>\n",
              "      <td>42.00</td>\n",
              "      <td>50.00</td>\n",
              "      <td>21.00</td>\n",
              "      <td>27.00</td>\n",
              "      <td>250.00</td>\n",
              "      <td>41.00</td>\n",
              "      <td>30.00</td>\n",
              "      <td>29.00</td>\n",
              "    </tr>\n",
              "    <tr>\n",
              "      <th>2015</th>\n",
              "      <td>14.00</td>\n",
              "      <td>53.00</td>\n",
              "      <td>59.00</td>\n",
              "      <td>1,312.00</td>\n",
              "      <td>59.00</td>\n",
              "      <td>138.00</td>\n",
              "      <td>81.00</td>\n",
              "      <td>34.00</td>\n",
              "      <td>124.00</td>\n",
              "      <td>82.00</td>\n",
              "      <td>39.00</td>\n",
              "      <td>127.00</td>\n",
              "    </tr>\n",
              "    <tr>\n",
              "      <th>2016</th>\n",
              "      <td>82.00</td>\n",
              "      <td>74.00</td>\n",
              "      <td>170.00</td>\n",
              "      <td>101.00</td>\n",
              "      <td>111.00</td>\n",
              "      <td>210.00</td>\n",
              "      <td>123.00</td>\n",
              "      <td>88.00</td>\n",
              "      <td>188.00</td>\n",
              "      <td>98.00</td>\n",
              "      <td>122.00</td>\n",
              "      <td>143.00</td>\n",
              "    </tr>\n",
              "    <tr>\n",
              "      <th>2017</th>\n",
              "      <td>83.00</td>\n",
              "      <td>163.00</td>\n",
              "      <td>154.00</td>\n",
              "      <td>75.00</td>\n",
              "      <td>190.00</td>\n",
              "      <td>120.00</td>\n",
              "      <td>104.00</td>\n",
              "      <td>46.00</td>\n",
              "      <td>66.00</td>\n",
              "      <td>43.00</td>\n",
              "      <td>76.00</td>\n",
              "      <td>131.00</td>\n",
              "    </tr>\n",
              "    <tr>\n",
              "      <th>2018</th>\n",
              "      <td>42.00</td>\n",
              "      <td>61.00</td>\n",
              "      <td>35.00</td>\n",
              "      <td>36.00</td>\n",
              "      <td>36.00</td>\n",
              "      <td>45.00</td>\n",
              "      <td>99.00</td>\n",
              "      <td>41.00</td>\n",
              "      <td>16.00</td>\n",
              "      <td>42.00</td>\n",
              "      <td>14.00</td>\n",
              "      <td>9.00</td>\n",
              "    </tr>\n",
              "  </tbody>\n",
              "</table>\n",
              "</div>"
            ],
            "text/plain": [
              "mes                    1   ...                   12\n",
              "anio                       ...                     \n",
              "2013                 0.00  ...                41.00\n",
              "2014                59.00  ...                29.00\n",
              "2015                14.00  ...               127.00\n",
              "2016                82.00  ...               143.00\n",
              "2017                83.00  ...               131.00\n",
              "2018                42.00  ...                 9.00\n",
              "\n",
              "[6 rows x 12 columns]"
            ]
          },
          "metadata": {
            "tags": []
          },
          "execution_count": 80
        },
        {
          "output_type": "display_data",
          "data": {
            "image/png": "[encoded data removed]",
            "text/plain": [
              "<Figure size 432x288 with 2 Axes>"
            ]
          },
          "metadata": {
            "tags": [],
            "needs_background": "light"
          }
        }
      ]
    },
    {
      "cell_type": "code",
      "metadata": {
        "id": "eR8JmvZ1xY-a",
        "pycharm": {
          "is_executing": false,
          "name": "#%%\n"
        },
        "outputId": "84e4dfe7-6230-44e7-b081-7206b7f0dd53",
        "colab": {
          "base_uri": "https://localhost:8080/",
          "height": 574
        }
      },
      "source": [
        "data = cantidadDeTipoDeStagePorTiempo(agrupacion,'Account_Created_Date',columna='Won')\n",
        "graficarTipoDeStagePorTiempo(data,descripcion,\"Cantidad de stages Cerrados con exito segun \" + descripcion)\n",
        "data.head(10)"
      ],
      "execution_count": 77,
      "outputs": [
        {
          "output_type": "execute_result",
          "data": {
            "text/html": [
              "<div>\n",
              "<style scoped>\n",
              "    .dataframe tbody tr th:only-of-type {\n",
              "        vertical-align: middle;\n",
              "    }\n",
              "\n",
              "    .dataframe tbody tr th {\n",
              "        vertical-align: top;\n",
              "    }\n",
              "\n",
              "    .dataframe thead th {\n",
              "        text-align: right;\n",
              "    }\n",
              "</style>\n",
              "<table border=\"1\" class=\"dataframe\">\n",
              "  <thead>\n",
              "    <tr style=\"text-align: right;\">\n",
              "      <th>mes</th>\n",
              "      <th>1</th>\n",
              "      <th>2</th>\n",
              "      <th>3</th>\n",
              "      <th>4</th>\n",
              "      <th>5</th>\n",
              "      <th>6</th>\n",
              "      <th>7</th>\n",
              "      <th>8</th>\n",
              "      <th>9</th>\n",
              "      <th>10</th>\n",
              "      <th>11</th>\n",
              "      <th>12</th>\n",
              "    </tr>\n",
              "    <tr>\n",
              "      <th>anio</th>\n",
              "      <th></th>\n",
              "      <th></th>\n",
              "      <th></th>\n",
              "      <th></th>\n",
              "      <th></th>\n",
              "      <th></th>\n",
              "      <th></th>\n",
              "      <th></th>\n",
              "      <th></th>\n",
              "      <th></th>\n",
              "      <th></th>\n",
              "      <th></th>\n",
              "    </tr>\n",
              "  </thead>\n",
              "  <tbody>\n",
              "    <tr>\n",
              "      <th>2013</th>\n",
              "      <td>0.00</td>\n",
              "      <td>0.00</td>\n",
              "      <td>0.00</td>\n",
              "      <td>0.00</td>\n",
              "      <td>0.00</td>\n",
              "      <td>0.00</td>\n",
              "      <td>1,133.00</td>\n",
              "      <td>75.00</td>\n",
              "      <td>402.00</td>\n",
              "      <td>245.00</td>\n",
              "      <td>16.00</td>\n",
              "      <td>10.00</td>\n",
              "    </tr>\n",
              "    <tr>\n",
              "      <th>2014</th>\n",
              "      <td>63.00</td>\n",
              "      <td>65.00</td>\n",
              "      <td>2.00</td>\n",
              "      <td>13.00</td>\n",
              "      <td>18.00</td>\n",
              "      <td>34.00</td>\n",
              "      <td>37.00</td>\n",
              "      <td>15.00</td>\n",
              "      <td>146.00</td>\n",
              "      <td>13.00</td>\n",
              "      <td>6.00</td>\n",
              "      <td>54.00</td>\n",
              "    </tr>\n",
              "    <tr>\n",
              "      <th>2015</th>\n",
              "      <td>9.00</td>\n",
              "      <td>21.00</td>\n",
              "      <td>37.00</td>\n",
              "      <td>430.00</td>\n",
              "      <td>2.00</td>\n",
              "      <td>96.00</td>\n",
              "      <td>72.00</td>\n",
              "      <td>2.00</td>\n",
              "      <td>14.00</td>\n",
              "      <td>63.00</td>\n",
              "      <td>3.00</td>\n",
              "      <td>162.00</td>\n",
              "    </tr>\n",
              "    <tr>\n",
              "      <th>2016</th>\n",
              "      <td>84.00</td>\n",
              "      <td>39.00</td>\n",
              "      <td>109.00</td>\n",
              "      <td>71.00</td>\n",
              "      <td>58.00</td>\n",
              "      <td>124.00</td>\n",
              "      <td>77.00</td>\n",
              "      <td>88.00</td>\n",
              "      <td>173.00</td>\n",
              "      <td>39.00</td>\n",
              "      <td>35.00</td>\n",
              "      <td>62.00</td>\n",
              "    </tr>\n",
              "    <tr>\n",
              "      <th>2017</th>\n",
              "      <td>77.00</td>\n",
              "      <td>39.00</td>\n",
              "      <td>56.00</td>\n",
              "      <td>24.00</td>\n",
              "      <td>125.00</td>\n",
              "      <td>90.00</td>\n",
              "      <td>52.00</td>\n",
              "      <td>41.00</td>\n",
              "      <td>33.00</td>\n",
              "      <td>38.00</td>\n",
              "      <td>21.00</td>\n",
              "      <td>45.00</td>\n",
              "    </tr>\n",
              "    <tr>\n",
              "      <th>2018</th>\n",
              "      <td>14.00</td>\n",
              "      <td>17.00</td>\n",
              "      <td>9.00</td>\n",
              "      <td>16.00</td>\n",
              "      <td>22.00</td>\n",
              "      <td>22.00</td>\n",
              "      <td>34.00</td>\n",
              "      <td>40.00</td>\n",
              "      <td>11.00</td>\n",
              "      <td>13.00</td>\n",
              "      <td>10.00</td>\n",
              "      <td>6.00</td>\n",
              "    </tr>\n",
              "  </tbody>\n",
              "</table>\n",
              "</div>"
            ],
            "text/plain": [
              "mes                    1   ...                   12\n",
              "anio                       ...                     \n",
              "2013                 0.00  ...                10.00\n",
              "2014                63.00  ...                54.00\n",
              "2015                 9.00  ...               162.00\n",
              "2016                84.00  ...                62.00\n",
              "2017                77.00  ...                45.00\n",
              "2018                14.00  ...                 6.00\n",
              "\n",
              "[6 rows x 12 columns]"
            ]
          },
          "metadata": {
            "tags": []
          },
          "execution_count": 77
        },
        {
          "output_type": "display_data",
          "data": {
            "image/png": "[encoded data removed]",
            "text/plain": [
              "<Figure size 432x288 with 2 Axes>"
            ]
          },
          "metadata": {
            "tags": [],
            "needs_background": "light"
          }
        }
      ]
    },
    {
      "cell_type": "code",
      "metadata": {
        "id": "v2SjbBimxY-f",
        "pycharm": {
          "is_executing": false,
          "name": "#%%\n"
        },
        "outputId": "b2e4c2ba-874f-4ac6-ee02-c935223d27bf",
        "colab": {
          "base_uri": "https://localhost:8080/",
          "height": 574
        }
      },
      "source": [
        "data = cantidadDeStageTotalesPorTiempo(agrupacion,'Account_Created_Date')\n",
        "graficarTipoDeStagePorTiempo(data,descripcion,\"Cantidad de creaciones de oportunidades segun fecha de \" + descripcion)\n",
        "data.head(10)"
      ],
      "execution_count": 78,
      "outputs": [
        {
          "output_type": "execute_result",
          "data": {
            "text/html": [
              "<div>\n",
              "<style scoped>\n",
              "    .dataframe tbody tr th:only-of-type {\n",
              "        vertical-align: middle;\n",
              "    }\n",
              "\n",
              "    .dataframe tbody tr th {\n",
              "        vertical-align: top;\n",
              "    }\n",
              "\n",
              "    .dataframe thead th {\n",
              "        text-align: right;\n",
              "    }\n",
              "</style>\n",
              "<table border=\"1\" class=\"dataframe\">\n",
              "  <thead>\n",
              "    <tr style=\"text-align: right;\">\n",
              "      <th>mes</th>\n",
              "      <th>1</th>\n",
              "      <th>2</th>\n",
              "      <th>3</th>\n",
              "      <th>4</th>\n",
              "      <th>5</th>\n",
              "      <th>6</th>\n",
              "      <th>7</th>\n",
              "      <th>8</th>\n",
              "      <th>9</th>\n",
              "      <th>10</th>\n",
              "      <th>11</th>\n",
              "      <th>12</th>\n",
              "    </tr>\n",
              "    <tr>\n",
              "      <th>anio</th>\n",
              "      <th></th>\n",
              "      <th></th>\n",
              "      <th></th>\n",
              "      <th></th>\n",
              "      <th></th>\n",
              "      <th></th>\n",
              "      <th></th>\n",
              "      <th></th>\n",
              "      <th></th>\n",
              "      <th></th>\n",
              "      <th></th>\n",
              "      <th></th>\n",
              "    </tr>\n",
              "  </thead>\n",
              "  <tbody>\n",
              "    <tr>\n",
              "      <th>2013</th>\n",
              "      <td>0.00</td>\n",
              "      <td>0.00</td>\n",
              "      <td>0.00</td>\n",
              "      <td>0.00</td>\n",
              "      <td>0.00</td>\n",
              "      <td>0.00</td>\n",
              "      <td>1,745.00</td>\n",
              "      <td>195.00</td>\n",
              "      <td>510.00</td>\n",
              "      <td>310.00</td>\n",
              "      <td>33.00</td>\n",
              "      <td>40.00</td>\n",
              "    </tr>\n",
              "    <tr>\n",
              "      <th>2014</th>\n",
              "      <td>106.00</td>\n",
              "      <td>149.00</td>\n",
              "      <td>16.00</td>\n",
              "      <td>20.00</td>\n",
              "      <td>49.00</td>\n",
              "      <td>65.00</td>\n",
              "      <td>55.00</td>\n",
              "      <td>34.00</td>\n",
              "      <td>239.00</td>\n",
              "      <td>48.00</td>\n",
              "      <td>23.00</td>\n",
              "      <td>81.00</td>\n",
              "    </tr>\n",
              "    <tr>\n",
              "      <th>2015</th>\n",
              "      <td>18.00</td>\n",
              "      <td>61.00</td>\n",
              "      <td>87.00</td>\n",
              "      <td>807.00</td>\n",
              "      <td>53.00</td>\n",
              "      <td>186.00</td>\n",
              "      <td>135.00</td>\n",
              "      <td>30.00</td>\n",
              "      <td>105.00</td>\n",
              "      <td>130.00</td>\n",
              "      <td>36.00</td>\n",
              "      <td>247.00</td>\n",
              "    </tr>\n",
              "    <tr>\n",
              "      <th>2016</th>\n",
              "      <td>144.00</td>\n",
              "      <td>102.00</td>\n",
              "      <td>243.00</td>\n",
              "      <td>139.00</td>\n",
              "      <td>160.00</td>\n",
              "      <td>302.00</td>\n",
              "      <td>164.00</td>\n",
              "      <td>169.00</td>\n",
              "      <td>288.00</td>\n",
              "      <td>115.00</td>\n",
              "      <td>133.00</td>\n",
              "      <td>167.00</td>\n",
              "    </tr>\n",
              "    <tr>\n",
              "      <th>2017</th>\n",
              "      <td>148.00</td>\n",
              "      <td>140.00</td>\n",
              "      <td>168.00</td>\n",
              "      <td>82.00</td>\n",
              "      <td>245.00</td>\n",
              "      <td>194.00</td>\n",
              "      <td>133.00</td>\n",
              "      <td>78.00</td>\n",
              "      <td>87.00</td>\n",
              "      <td>70.00</td>\n",
              "      <td>62.00</td>\n",
              "      <td>111.00</td>\n",
              "    </tr>\n",
              "    <tr>\n",
              "      <th>2018</th>\n",
              "      <td>46.00</td>\n",
              "      <td>55.00</td>\n",
              "      <td>37.00</td>\n",
              "      <td>47.00</td>\n",
              "      <td>44.00</td>\n",
              "      <td>55.00</td>\n",
              "      <td>95.00</td>\n",
              "      <td>68.00</td>\n",
              "      <td>26.00</td>\n",
              "      <td>38.00</td>\n",
              "      <td>17.00</td>\n",
              "      <td>6.00</td>\n",
              "    </tr>\n",
              "  </tbody>\n",
              "</table>\n",
              "</div>"
            ],
            "text/plain": [
              "mes                    1   ...                   12\n",
              "anio                       ...                     \n",
              "2013                 0.00  ...                40.00\n",
              "2014               106.00  ...                81.00\n",
              "2015                18.00  ...               247.00\n",
              "2016               144.00  ...               167.00\n",
              "2017               148.00  ...               111.00\n",
              "2018                46.00  ...                 6.00\n",
              "\n",
              "[6 rows x 12 columns]"
            ]
          },
          "metadata": {
            "tags": []
          },
          "execution_count": 78
        },
        {
          "output_type": "display_data",
          "data": {
            "image/png": "[encoded data removed]",
            "text/plain": [
              "<Figure size 432x288 with 2 Axes>"
            ]
          },
          "metadata": {
            "tags": [],
            "needs_background": "light"
          }
        }
      ]
    },
    {
      "cell_type": "markdown",
      "metadata": {
        "id": "ZFSJkkMCxY-k"
      },
      "source": [
        "### stage por tipos"
      ]
    },
    {
      "cell_type": "code",
      "metadata": {
        "id": "Lq6gsnS1xY-l",
        "pycharm": {
          "is_executing": false,
          "name": "#%%\n"
        },
        "outputId": "2770a6cc-ed9e-4f1f-c616-5d10b9d90a04",
        "colab": {
          "base_uri": "https://localhost:8080/",
          "height": 54
        }
      },
      "source": [
        "def categorias(df,categorias):\n",
        "    #if (stageConDicionCerrada):\n",
        "    #    stage = 'Closed'\n",
        "    #else:\n",
        "    #    stage = 'Stage'\n",
        "    df = df.groupby(categorias).agg({'Stage':'value_counts'})\n",
        "    df.columns = ['cantidad']\n",
        "    return df\n",
        "\"\"\"\n",
        "def graficoCategoricoEnArbol(df):#FALLA REVISAR\n",
        "    data = df.copy()\n",
        "    data = data.reset_index()\n",
        "    columnas = data.columns[:-1]\n",
        "    fig = px.treemap(data, \n",
        "                 path=columnas, \n",
        "                 values='cantidad'\n",
        "                )\n",
        "    fig.show()\n",
        "    return\n",
        "\"\"\""
      ],
      "execution_count": 81,
      "outputs": [
        {
          "output_type": "execute_result",
          "data": {
            "application/vnd.google.colaboratory.intrinsic+json": {
              "type": "string"
            },
            "text/plain": [
              "\"\\ndef graficoCategoricoEnArbol(df):#FALLA REVISAR\\n    data = df.copy()\\n    data = data.reset_index()\\n    columnas = data.columns[:-1]\\n    fig = px.treemap(data, \\n                 path=columnas, \\n                 values='cantidad'\\n                )\\n    fig.show()\\n    return\\n\""
            ]
          },
          "metadata": {
            "tags": []
          },
          "execution_count": 81
        }
      ]
    },
    {
      "cell_type": "code",
      "metadata": {
        "id": "k_pPn5SexY-p",
        "pycharm": {
          "is_executing": false,
          "name": "#%%\n"
        },
        "outputId": "e00f4412-aa09-48aa-fc9e-d90837aa7fbe",
        "colab": {
          "base_uri": "https://localhost:8080/",
          "height": 363
        }
      },
      "source": [
        "categoria = ['Product_Type','Product_Category_B']\n",
        "data = categorias(entrenamiento,categoria)\n",
        "#graficoCategoricoEnArbol(data)\n",
        "data.reset_index().head(10)"
      ],
      "execution_count": 82,
      "outputs": [
        {
          "output_type": "execute_result",
          "data": {
            "text/html": [
              "<div>\n",
              "<style scoped>\n",
              "    .dataframe tbody tr th:only-of-type {\n",
              "        vertical-align: middle;\n",
              "    }\n",
              "\n",
              "    .dataframe tbody tr th {\n",
              "        vertical-align: top;\n",
              "    }\n",
              "\n",
              "    .dataframe thead th {\n",
              "        text-align: right;\n",
              "    }\n",
              "</style>\n",
              "<table border=\"1\" class=\"dataframe\">\n",
              "  <thead>\n",
              "    <tr style=\"text-align: right;\">\n",
              "      <th></th>\n",
              "      <th>Product_Type</th>\n",
              "      <th>Product_Category_B</th>\n",
              "      <th>Stage</th>\n",
              "      <th>cantidad</th>\n",
              "    </tr>\n",
              "  </thead>\n",
              "  <tbody>\n",
              "    <tr>\n",
              "      <th>0</th>\n",
              "      <td>None</td>\n",
              "      <td>None</td>\n",
              "      <td>Closed Won</td>\n",
              "      <td>9533</td>\n",
              "    </tr>\n",
              "    <tr>\n",
              "      <th>1</th>\n",
              "      <td>None</td>\n",
              "      <td>None</td>\n",
              "      <td>Closed Lost</td>\n",
              "      <td>6328</td>\n",
              "    </tr>\n",
              "    <tr>\n",
              "      <th>2</th>\n",
              "      <td>None</td>\n",
              "      <td>None</td>\n",
              "      <td>Proposal</td>\n",
              "      <td>35</td>\n",
              "    </tr>\n",
              "    <tr>\n",
              "      <th>3</th>\n",
              "      <td>None</td>\n",
              "      <td>None</td>\n",
              "      <td>Negotiation</td>\n",
              "      <td>18</td>\n",
              "    </tr>\n",
              "    <tr>\n",
              "      <th>4</th>\n",
              "      <td>None</td>\n",
              "      <td>None</td>\n",
              "      <td>Qualification</td>\n",
              "      <td>11</td>\n",
              "    </tr>\n",
              "    <tr>\n",
              "      <th>5</th>\n",
              "      <td>None</td>\n",
              "      <td>Product_Category_B_1</td>\n",
              "      <td>Closed Lost</td>\n",
              "      <td>1</td>\n",
              "    </tr>\n",
              "    <tr>\n",
              "      <th>6</th>\n",
              "      <td>None</td>\n",
              "      <td>Product_Category_B_16</td>\n",
              "      <td>Closed Lost</td>\n",
              "      <td>3</td>\n",
              "    </tr>\n",
              "    <tr>\n",
              "      <th>7</th>\n",
              "      <td>None</td>\n",
              "      <td>Product_Category_B_19</td>\n",
              "      <td>Closed Lost</td>\n",
              "      <td>2</td>\n",
              "    </tr>\n",
              "    <tr>\n",
              "      <th>8</th>\n",
              "      <td>None</td>\n",
              "      <td>Product_Category_B_7</td>\n",
              "      <td>Closed Lost</td>\n",
              "      <td>4</td>\n",
              "    </tr>\n",
              "    <tr>\n",
              "      <th>9</th>\n",
              "      <td>Other</td>\n",
              "      <td>None</td>\n",
              "      <td>Closed Lost</td>\n",
              "      <td>1</td>\n",
              "    </tr>\n",
              "  </tbody>\n",
              "</table>\n",
              "</div>"
            ],
            "text/plain": [
              "  Product_Type     Product_Category_B          Stage  cantidad\n",
              "0         None                   None     Closed Won      9533\n",
              "1         None                   None    Closed Lost      6328\n",
              "2         None                   None       Proposal        35\n",
              "3         None                   None    Negotiation        18\n",
              "4         None                   None  Qualification        11\n",
              "5         None   Product_Category_B_1    Closed Lost         1\n",
              "6         None  Product_Category_B_16    Closed Lost         3\n",
              "7         None  Product_Category_B_19    Closed Lost         2\n",
              "8         None   Product_Category_B_7    Closed Lost         4\n",
              "9        Other                   None    Closed Lost         1"
            ]
          },
          "metadata": {
            "tags": []
          },
          "execution_count": 82
        }
      ]
    },
    {
      "cell_type": "markdown",
      "metadata": {
        "id": "lag1ogu0xY-u"
      },
      "source": [
        "### stage por numericos"
      ]
    },
    {
      "cell_type": "code",
      "metadata": {
        "id": "uC0LbtaqxY-v",
        "pycharm": {
          "is_executing": false,
          "name": "#%%\n"
        }
      },
      "source": [
        "def stagePorNumerico(df,colValor):\n",
        "    data = df[[colValor,'Stage']]\n",
        "    data = data[data[colValor] != \"None\"]\n",
        "    data = data[data[colValor] != \"Other\"]\n",
        "    data = data.dropna(subset = [colValor])#elimino las filas sin valores\n",
        "    data[colValor] = data[colValor].astype('float')\n",
        "    listaDePosibles = [\"Proposal\", \"Closed Lost\", \"Closed Won\", \"Negotiation\", \"Qualification\"]\n",
        "    for posible in listaDePosibles:\n",
        "        data.loc[data['Stage'] == posible, posible] = data[colValor]\n",
        "    data = data[listaDePosibles]\n",
        "    return data\n",
        "\n",
        "def stageCerradoPorNumerico(df,colValor):\n",
        "    data = df[[colValor,'Closed']]\n",
        "    data = data[data[colValor] != \"None\"]\n",
        "    data = data[data[colValor] != \"Other\"]\n",
        "    data = data.dropna(subset = [colValor])#elimino las filas sin valores\n",
        "    data[colValor] = data[colValor].astype('float')\n",
        "    data.loc[data['Closed'], \"cerrado\"] = data[colValor]\n",
        "    data.loc[data['Closed'] == False, \"abierta\"] = data[colValor]\n",
        "    data = data[[\"cerrado\",\"abierta\"]]\n",
        "    return data\n",
        "\n",
        "def graficoDensidad(df):\n",
        "    df.plot.hist(bins=12, alpha=0.5)\n",
        "    return"
      ],
      "execution_count": 83,
      "outputs": []
    },
    {
      "cell_type": "code",
      "metadata": {
        "id": "2PRMdsQpxY-y",
        "pycharm": {
          "is_executing": false,
          "name": "#%%\n"
        },
        "outputId": "205d24df-1685-4b64-f1f2-69cf2747158f",
        "colab": {
          "base_uri": "https://localhost:8080/",
          "height": 490
        }
      },
      "source": [
        "data = stagePorNumerico(entrenamiento,'Price')\n",
        "graficoDensidad(data)\n",
        "#data.head(10)\n",
        "data.info()"
      ],
      "execution_count": 84,
      "outputs": [
        {
          "output_type": "stream",
          "text": [
            "<class 'pandas.core.frame.DataFrame'>\n",
            "Int64Index: 356 entries, 3 to 16132\n",
            "Data columns (total 5 columns):\n",
            " #   Column         Non-Null Count  Dtype  \n",
            "---  ------         --------------  -----  \n",
            " 0   Proposal       0 non-null      float64\n",
            " 1   Closed Lost    356 non-null    float64\n",
            " 2   Closed Won     0 non-null      float64\n",
            " 3   Negotiation    0 non-null      float64\n",
            " 4   Qualification  0 non-null      float64\n",
            "dtypes: float64(5)\n",
            "memory usage: 16.7 KB\n"
          ],
          "name": "stdout"
        },
        {
          "output_type": "display_data",
          "data": {
            "image/png": "[encoded data removed]",
            "text/plain": [
              "<Figure size 432x288 with 1 Axes>"
            ]
          },
          "metadata": {
            "tags": [],
            "needs_background": "light"
          }
        }
      ]
    },
    {
      "cell_type": "code",
      "metadata": {
        "id": "Stkszf0BxY-5",
        "pycharm": {
          "is_executing": false,
          "name": "#%%\n"
        },
        "outputId": "bd3d04ea-084b-418f-bea0-7c7259b569a3",
        "colab": {
          "base_uri": "https://localhost:8080/",
          "height": 435
        }
      },
      "source": [
        "data = stageCerradoPorNumerico(entrenamiento,'Price')\n",
        "graficoDensidad(data)\n",
        "#data.head(10)\n",
        "data.info()"
      ],
      "execution_count": 85,
      "outputs": [
        {
          "output_type": "stream",
          "text": [
            "<class 'pandas.core.frame.DataFrame'>\n",
            "Int64Index: 356 entries, 3 to 16132\n",
            "Data columns (total 2 columns):\n",
            " #   Column   Non-Null Count  Dtype  \n",
            "---  ------   --------------  -----  \n",
            " 0   cerrado  356 non-null    float64\n",
            " 1   abierta  0 non-null      float64\n",
            "dtypes: float64(2)\n",
            "memory usage: 8.3 KB\n"
          ],
          "name": "stdout"
        },
        {
          "output_type": "display_data",
          "data": {
            "image/png": "[encoded data removed]",
            "text/plain": [
              "<Figure size 432x288 with 1 Axes>"
            ]
          },
          "metadata": {
            "tags": [],
            "needs_background": "light"
          }
        }
      ]
    },
    {
      "cell_type": "code",
      "metadata": {
        "id": "T2AH3onfxY--",
        "pycharm": {
          "is_executing": false,
          "name": "#%%\n"
        },
        "outputId": "308b1586-203e-45e1-c772-a5cbec29a320",
        "colab": {
          "base_uri": "https://localhost:8080/"
        }
      },
      "source": [
        "# pruevas\n",
        "#entrenamiento['Total_Power'].value_counts()\n",
        "entrenamiento['Stage'].head(10)"
      ],
      "execution_count": 86,
      "outputs": [
        {
          "output_type": "execute_result",
          "data": {
            "text/plain": [
              "0    Closed Lost\n",
              "1     Closed Won\n",
              "2     Closed Won\n",
              "3    Closed Lost\n",
              "4    Closed Lost\n",
              "5    Closed Lost\n",
              "6    Closed Lost\n",
              "7     Closed Won\n",
              "8    Closed Lost\n",
              "9    Closed Lost\n",
              "Name: Stage, dtype: object"
            ]
          },
          "metadata": {
            "tags": []
          },
          "execution_count": 86
        }
      ]
    },
    {
      "cell_type": "markdown",
      "metadata": {
        "id": "5JV8YnXd115b"
      },
      "source": [
        "### mapa"
      ]
    },
    {
      "cell_type": "code",
      "metadata": {
        "id": "lARGvo9U21bJ"
      },
      "source": [
        "def porID(df):\n",
        "  data = df.groupby(['Territory']).agg(\n",
        "      {'Price':['sum','mean'],'Won':['sum','mean'],\n",
        "       'ASP_(converted)':['sum','mean'],'Closed':['sum','mean'],\n",
        "       'Opportunity_Created_Date':['min','max']})\n",
        "  data.reset_index()\n",
        "  level0 = data.columns.get_level_values(0)\n",
        "  level1 = data.columns.get_level_values(1)\n",
        "  data.columns = level0 + '_' + level1\n",
        "  \"\"\"data.rename(columns={'Price_sum':'Precio Total','Price_mean':'Precio Promedio',\n",
        "                       'Won_sum':'Ganados Total','Won_mean':'Ganados Promedio',\n",
        "                       'ASP_(converted)_sum':'ASP Total','ASP_(converted)_mean':'ASP Promedio',\n",
        "                       'Closed_sum':'Cerrados Total','Closed_mean':'Cerrados Promedio',\n",
        "                       'Opportunity_Created_Date_min':'Inicio de oportunidades','Opportunity_Created_Date_max':'Ultima nueva oportunidad'})\"\"\"\n",
        "  data.columns=['Precio Total','Precio Promedio',\n",
        "                       'Ganados Total','Ganados Promedio',\n",
        "                       'ASP Total','ASP Promedio',\n",
        "                       'Cerrados Total','Cerrados Promedio',\n",
        "                       'Inicio de oportunidades','Ultima nueva oportunidad']\n",
        "  data['Territory'] = data.index\n",
        "  data = data.rename_axis(None)\n",
        "  regiones = df[['Territory','Region']].drop_duplicates()\n",
        "  data = data.merge(regiones,on='Territory',how='inner')\n",
        "  data = data[data['Territory'] != \"None\"]\n",
        "  data = data.drop_duplicates('Territory')\n",
        "  return data"
      ],
      "execution_count": 87,
      "outputs": []
    },
    {
      "cell_type": "code",
      "metadata": {
        "id": "q5MEskodCCyG"
      },
      "source": [
        "def mapa(datos):\n",
        "  fig = go.Figure(go.Choropleth(\n",
        "    locations = datos['Territory'],\n",
        "    locationmode = \"country names\",\n",
        "    z = datos['Ganados Promedio']*100,\n",
        "    text = datos['Ganados Total'],\n",
        "    colorscale = 'Hot',\n",
        "    autocolorscale = False,\n",
        "    reversescale = True,\n",
        "    marker_line_color = '#efefef',\n",
        "    marker_line_width = 0.5,\n",
        "    colorbar_ticksuffix = '%',\n",
        "    colorbar_title = 'Porcentage Ganados',\n",
        "    )\n",
        "  )\n",
        "  fig.update_layout(\n",
        "    title_text = 'Porcentages de oportunidades ganadas',\n",
        "    showlegend = False,\n",
        "    width = 1000,\n",
        "    height = 800,\n",
        "    geo = dict(\n",
        "        scope = 'world',\n",
        "        resolution = 50,\n",
        "        projection_type = 'miller',\n",
        "        showcoastlines = True,\n",
        "        showocean = True,\n",
        "        showcountries = True,\n",
        "        oceancolor = '#eaeaea',\n",
        "        lakecolor = '#eaeaea',\n",
        "        coastlinecolor = '#dadada'\n",
        "    )\n",
        "  )\n",
        "  fig.show()\n",
        "  return\n",
        "\n",
        "def lineaDeTiempo(datos):\n",
        "  colors = ['blue', 'orange', 'green', 'red', 'purple']\n",
        "\n",
        "  opt = []\n",
        "  opts = []\n",
        "  for i in range(0, len(colors)):\n",
        "      try:\n",
        "          opt = dict(\n",
        "              target = datos['Region'][[i]].unique(), value = dict(marker = dict(color = colors[i]))\n",
        "          )\n",
        "          opts.append(opt)\n",
        "      except:\n",
        "        break\n",
        "\n",
        "\n",
        "  data = [dict(\n",
        "    type = 'scatter',\n",
        "    mode = 'markers',\n",
        "    x = datos['Inicio de oportunidades'],\n",
        "    y = datos['Ultima nueva oportunidad'],\n",
        "    text = datos['Territory'],\n",
        "    hoverinfo = 'text',\n",
        "    opacity = 0.8,\n",
        "    marker = dict(\n",
        "        size = datos['Ganados Total']*2,\n",
        "        sizemode = 'area',\n",
        "        sizeref = 1\n",
        "    ),\n",
        "    transforms = [\n",
        "        dict(\n",
        "          type = 'groupby',\n",
        "          groups = datos['Region'],\n",
        "          styles = opts\n",
        "        ),\n",
        "        dict(\n",
        "          type = 'aggregate',\n",
        "          groups = datos['Territory'],\n",
        "          aggregations = [\n",
        "              dict(target = 'x', func = 'avg'),\n",
        "              dict(target = 'y', func = 'avg'),\n",
        "              dict(target = 'marker.size', func = 'sum')\n",
        "          ]\n",
        "        )]\n",
        "  )]\n",
        "\n",
        "  layout = dict(\n",
        "      title = '<b>Oportunidades</b><br>cerradas con exito ordenadas segun nuevas oportunidades',\n",
        "      xaxis=dict(\n",
        "          title=\"Inicio de nuevas oportunidades\"\n",
        "      ),\n",
        "      yaxis=dict(\n",
        "          title=\"Ultima nueva oportunidad\"\n",
        "      ),\n",
        "      width = 1720,\n",
        "      height = 980,\n",
        "      uniformtext_mode='hide'\n",
        "  )\n",
        "\n",
        "  fig_dict = dict(data=data, layout=layout)\n",
        "  pio.show(fig_dict, validate=False)\n",
        "  return"
      ],
      "execution_count": 88,
      "outputs": []
    },
    {
      "cell_type": "code",
      "metadata": {
        "id": "I_4m7dfB16wu",
        "outputId": "78ddc723-b4de-4236-fd16-0aecd0f4f0c8",
        "colab": {
          "base_uri": "https://localhost:8080/",
          "height": 398
        }
      },
      "source": [
        "data = porID(entrenamiento)\n",
        "data.head(10)"
      ],
      "execution_count": 89,
      "outputs": [
        {
          "output_type": "execute_result",
          "data": {
            "text/html": [
              "<div>\n",
              "<style scoped>\n",
              "    .dataframe tbody tr th:only-of-type {\n",
              "        vertical-align: middle;\n",
              "    }\n",
              "\n",
              "    .dataframe tbody tr th {\n",
              "        vertical-align: top;\n",
              "    }\n",
              "\n",
              "    .dataframe thead th {\n",
              "        text-align: right;\n",
              "    }\n",
              "</style>\n",
              "<table border=\"1\" class=\"dataframe\">\n",
              "  <thead>\n",
              "    <tr style=\"text-align: right;\">\n",
              "      <th></th>\n",
              "      <th>Precio Total</th>\n",
              "      <th>Precio Promedio</th>\n",
              "      <th>Ganados Total</th>\n",
              "      <th>Ganados Promedio</th>\n",
              "      <th>ASP Total</th>\n",
              "      <th>ASP Promedio</th>\n",
              "      <th>Cerrados Total</th>\n",
              "      <th>Cerrados Promedio</th>\n",
              "      <th>Inicio de oportunidades</th>\n",
              "      <th>Ultima nueva oportunidad</th>\n",
              "      <th>Territory</th>\n",
              "      <th>Region</th>\n",
              "    </tr>\n",
              "  </thead>\n",
              "  <tbody>\n",
              "    <tr>\n",
              "      <th>0</th>\n",
              "      <td>0.00</td>\n",
              "      <td>nan</td>\n",
              "      <td>0</td>\n",
              "      <td>0.00</td>\n",
              "      <td>0.86</td>\n",
              "      <td>0.43</td>\n",
              "      <td>2</td>\n",
              "      <td>1.00</td>\n",
              "      <td>2017-11-30</td>\n",
              "      <td>2017-12-07</td>\n",
              "      <td>Albania</td>\n",
              "      <td>EMEA</td>\n",
              "    </tr>\n",
              "    <tr>\n",
              "      <th>1</th>\n",
              "      <td>0.00</td>\n",
              "      <td>nan</td>\n",
              "      <td>0</td>\n",
              "      <td>0.00</td>\n",
              "      <td>0.80</td>\n",
              "      <td>0.40</td>\n",
              "      <td>2</td>\n",
              "      <td>1.00</td>\n",
              "      <td>2016-12-08</td>\n",
              "      <td>2016-12-08</td>\n",
              "      <td>Armenia</td>\n",
              "      <td>EMEA</td>\n",
              "    </tr>\n",
              "    <tr>\n",
              "      <th>2</th>\n",
              "      <td>0.96</td>\n",
              "      <td>0.32</td>\n",
              "      <td>696</td>\n",
              "      <td>0.58</td>\n",
              "      <td>462.26</td>\n",
              "      <td>0.38</td>\n",
              "      <td>1202</td>\n",
              "      <td>1.00</td>\n",
              "      <td>2015-04-23</td>\n",
              "      <td>2018-12-20</td>\n",
              "      <td>Australia</td>\n",
              "      <td>APAC</td>\n",
              "    </tr>\n",
              "    <tr>\n",
              "      <th>3</th>\n",
              "      <td>0.96</td>\n",
              "      <td>0.24</td>\n",
              "      <td>124</td>\n",
              "      <td>0.86</td>\n",
              "      <td>66.22</td>\n",
              "      <td>0.46</td>\n",
              "      <td>145</td>\n",
              "      <td>1.00</td>\n",
              "      <td>2015-07-23</td>\n",
              "      <td>2018-11-27</td>\n",
              "      <td>Austria</td>\n",
              "      <td>EMEA</td>\n",
              "    </tr>\n",
              "    <tr>\n",
              "      <th>4</th>\n",
              "      <td>0.00</td>\n",
              "      <td>nan</td>\n",
              "      <td>0</td>\n",
              "      <td>0.00</td>\n",
              "      <td>2.02</td>\n",
              "      <td>0.51</td>\n",
              "      <td>4</td>\n",
              "      <td>1.00</td>\n",
              "      <td>2015-08-12</td>\n",
              "      <td>2016-12-09</td>\n",
              "      <td>Belarus</td>\n",
              "      <td>EMEA</td>\n",
              "    </tr>\n",
              "    <tr>\n",
              "      <th>5</th>\n",
              "      <td>2.51</td>\n",
              "      <td>0.31</td>\n",
              "      <td>187</td>\n",
              "      <td>0.66</td>\n",
              "      <td>119.79</td>\n",
              "      <td>0.42</td>\n",
              "      <td>285</td>\n",
              "      <td>1.00</td>\n",
              "      <td>2015-12-18</td>\n",
              "      <td>2018-12-08</td>\n",
              "      <td>Belgium</td>\n",
              "      <td>EMEA</td>\n",
              "    </tr>\n",
              "    <tr>\n",
              "      <th>6</th>\n",
              "      <td>0.00</td>\n",
              "      <td>nan</td>\n",
              "      <td>0</td>\n",
              "      <td>0.00</td>\n",
              "      <td>1.91</td>\n",
              "      <td>0.48</td>\n",
              "      <td>4</td>\n",
              "      <td>1.00</td>\n",
              "      <td>2016-10-21</td>\n",
              "      <td>2016-10-25</td>\n",
              "      <td>Bosnia &amp; Herzegovina</td>\n",
              "      <td>EMEA</td>\n",
              "    </tr>\n",
              "    <tr>\n",
              "      <th>7</th>\n",
              "      <td>0.00</td>\n",
              "      <td>nan</td>\n",
              "      <td>1</td>\n",
              "      <td>0.20</td>\n",
              "      <td>1.97</td>\n",
              "      <td>0.39</td>\n",
              "      <td>5</td>\n",
              "      <td>1.00</td>\n",
              "      <td>2016-11-29</td>\n",
              "      <td>2018-07-19</td>\n",
              "      <td>Bulgaria</td>\n",
              "      <td>EMEA</td>\n",
              "    </tr>\n",
              "    <tr>\n",
              "      <th>8</th>\n",
              "      <td>0.34</td>\n",
              "      <td>0.34</td>\n",
              "      <td>0</td>\n",
              "      <td>0.00</td>\n",
              "      <td>0.39</td>\n",
              "      <td>0.39</td>\n",
              "      <td>1</td>\n",
              "      <td>1.00</td>\n",
              "      <td>2018-01-17</td>\n",
              "      <td>2018-01-17</td>\n",
              "      <td>Burma</td>\n",
              "      <td>APAC</td>\n",
              "    </tr>\n",
              "    <tr>\n",
              "      <th>9</th>\n",
              "      <td>0.00</td>\n",
              "      <td>nan</td>\n",
              "      <td>2</td>\n",
              "      <td>0.50</td>\n",
              "      <td>1.81</td>\n",
              "      <td>0.45</td>\n",
              "      <td>4</td>\n",
              "      <td>1.00</td>\n",
              "      <td>2015-08-18</td>\n",
              "      <td>2018-06-28</td>\n",
              "      <td>Cambodia</td>\n",
              "      <td>APAC</td>\n",
              "    </tr>\n",
              "  </tbody>\n",
              "</table>\n",
              "</div>"
            ],
            "text/plain": [
              "          Precio Total      Precio Promedio  ...             Territory  Region\n",
              "0                 0.00                  nan  ...               Albania    EMEA\n",
              "1                 0.00                  nan  ...               Armenia    EMEA\n",
              "2                 0.96                 0.32  ...             Australia    APAC\n",
              "3                 0.96                 0.24  ...               Austria    EMEA\n",
              "4                 0.00                  nan  ...               Belarus    EMEA\n",
              "5                 2.51                 0.31  ...               Belgium    EMEA\n",
              "6                 0.00                  nan  ...  Bosnia & Herzegovina    EMEA\n",
              "7                 0.00                  nan  ...              Bulgaria    EMEA\n",
              "8                 0.34                 0.34  ...                 Burma    APAC\n",
              "9                 0.00                  nan  ...              Cambodia    APAC\n",
              "\n",
              "[10 rows x 12 columns]"
            ]
          },
          "metadata": {
            "tags": []
          },
          "execution_count": 89
        }
      ]
    },
    {
      "cell_type": "code",
      "metadata": {
        "id": "EeSjwzAHVoxh",
        "outputId": "3fcf4750-efa6-4b97-ea65-e020ba918fcb",
        "colab": {
          "base_uri": "https://localhost:8080/"
        }
      },
      "source": [
        "\n",
        "#data.Territory\n",
        "print(list(data.Territory))"
      ],
      "execution_count": 90,
      "outputs": [
        {
          "output_type": "stream",
          "text": [
            "['Albania', 'Armenia', 'Australia', 'Austria', 'Belarus', 'Belgium', 'Bosnia & Herzegovina', 'Bulgaria', 'Burma', 'Cambodia', 'Canada', 'Carribean', 'Central America', 'China (PRC)', 'Croatia', 'Cyprus', 'Czech Republic', 'Denmark', 'Egypt', 'Estonia', 'France', 'Georgia', 'Germany', 'Greece', 'Hungary', 'India', 'Indonesia', 'Ireland', 'Italy', 'Japan', 'Jordan', 'Kazakhstan', 'Kosovo', 'Kuwait', 'Lebanon', 'Luxembourg', 'Macedonia', 'Malaysia', 'Malta', 'Monaco', 'Morocco', 'Netherlands', 'New Zealand', 'Norway', 'Oman', 'Pakistan', 'Philippines', 'Poland', 'Portugal', 'Romania', 'Saudi Arabia', 'Singapore', 'Slovenia', 'Solomon Islands', 'South America', 'South East Asia', 'South Korea', 'Spain', 'Sweden', 'Switzerland', 'Taiwan', 'Thailand', 'Tunisia', 'Turkey', 'UAE (Dubai)', 'UAE (Others)', 'USA', 'Ukraine', 'United Kingdom', 'Vietnam']\n"
          ],
          "name": "stdout"
        }
      ]
    },
    {
      "cell_type": "code",
      "metadata": {
        "id": "UL6iEsheDtyR",
        "outputId": "4868877d-f99c-471d-fc3d-18e12c95ef06",
        "colab": {
          "base_uri": "https://localhost:8080/",
          "height": 817
        }
      },
      "source": [
        "mapa(data)"
      ],
      "execution_count": 91,
      "outputs": [
        {
          "output_type": "display_data",
          "data": {
            "text/html": [
              "<html>\n",
              "<head><meta charset=\"utf-8\" /></head>\n",
              "<body>\n",
              "    <div>\n",
              "            <script src=\"https://cdnjs.cloudflare.com/ajax/libs/mathjax/2.7.5/MathJax.js?config=TeX-AMS-MML_SVG\"></script><script type=\"text/javascript\">if (window.MathJax) {MathJax.Hub.Config({SVG: {font: \"STIX-Web\"}});}</script>\n",
              "                <script type=\"text/javascript\">window.PlotlyConfig = {MathJaxConfig: 'local'};</script>\n",
              "        <script src=\"https://cdn.plot.ly/plotly-latest.min.js\"></script>    \n",
              "            <div id=\"9904dbf1-8be3-446f-91de-54a11c1dfe79\" class=\"plotly-graph-div\" style=\"height:800px; width:1000px;\"></div>\n",
              "            <script type=\"text/javascript\">\n",
              "                \n",
              "                    window.PLOTLYENV=window.PLOTLYENV || {};\n",
              "                    \n",
              "                if (document.getElementById(\"9904dbf1-8be3-446f-91de-54a11c1dfe79\")) {\n",
              "                    Plotly.newPlot(\n",
              "                        '9904dbf1-8be3-446f-91de-54a11c1dfe79',\n",
              "                        [{\"autocolorscale\": false, \"colorbar\": {\"ticksuffix\": \"%\", \"title\": {\"text\": \"Porcentage Ganados\"}}, \"colorscale\": [[0.0, \"rgb(0,0,0)\"], [0.3333333333333333, \"rgb(230,0,0)\"], [0.6666666666666666, \"rgb(255,210,0)\"], [1.0, \"rgb(255,255,255)\"]], \"locationmode\": \"country names\", \"locations\": [\"Albania\", \"Armenia\", \"Australia\", \"Austria\", \"Belarus\", \"Belgium\", \"Bosnia & Herzegovina\", \"Bulgaria\", \"Burma\", \"Cambodia\", \"Canada\", \"Carribean\", \"Central America\", \"China (PRC)\", \"Croatia\", \"Cyprus\", \"Czech Republic\", \"Denmark\", \"Egypt\", \"Estonia\", \"France\", \"Georgia\", \"Germany\", \"Greece\", \"Hungary\", \"India\", \"Indonesia\", \"Ireland\", \"Italy\", \"Japan\", \"Jordan\", \"Kazakhstan\", \"Kosovo\", \"Kuwait\", \"Lebanon\", \"Luxembourg\", \"Macedonia\", \"Malaysia\", \"Malta\", \"Monaco\", \"Morocco\", \"Netherlands\", \"New Zealand\", \"Norway\", \"Oman\", \"Pakistan\", \"Philippines\", \"Poland\", \"Portugal\", \"Romania\", \"Saudi Arabia\", \"Singapore\", \"Slovenia\", \"Solomon Islands\", \"South America\", \"South East Asia\", \"South Korea\", \"Spain\", \"Sweden\", \"Switzerland\", \"Taiwan\", \"Thailand\", \"Tunisia\", \"Turkey\", \"UAE (Dubai)\", \"UAE (Others)\", \"USA\", \"Ukraine\", \"United Kingdom\", \"Vietnam\"], \"marker\": {\"line\": {\"color\": \"#efefef\", \"width\": 0.5}}, \"reversescale\": true, \"text\": [0.0, 0.0, 696.0, 124.0, 0.0, 187.0, 0.0, 1.0, 0.0, 2.0, 23.0, 13.0, 0.0, 202.0, 0.0, 32.0, 0.0, 19.0, 0.0, 7.0, 143.0, 0.0, 1023.0, 2.0, 10.0, 374.0, 55.0, 0.0, 149.0, 546.0, 33.0, 0.0, 0.0, 0.0, 0.0, 61.0, 3.0, 0.0, 5.0, 0.0, 0.0, 257.0, 31.0, 8.0, 0.0, 1.0, 42.0, 21.0, 34.0, 0.0, 7.0, 357.0, 1.0, 0.0, 0.0, 1.0, 12.0, 181.0, 4.0, 6.0, 9.0, 92.0, 0.0, 7.0, 2.0, 2.0, 1569.0, 0.0, 122.0, 23.0], \"type\": \"choropleth\", \"z\": [0.0, 0.0, 57.615894039735096, 85.51724137931035, 0.0, 65.6140350877193, 0.0, 20.0, 0.0, 50.0, 31.08108108108108, 41.935483870967744, 0.0, 92.66055045871559, 0.0, 72.72727272727273, 0.0, 50.0, 0.0, 87.5, 31.848552338530066, 0.0, 60.820451843044, 22.22222222222222, 35.714285714285715, 46.22991347342398, 35.714285714285715, 0.0, 52.65017667844523, 80.1762114537445, 32.35294117647059, 0.0, 0.0, 0.0, 0.0, 87.14285714285714, 50.0, 0.0, 83.33333333333334, 0.0, 0.0, 48.21763602251407, 81.57894736842105, 40.0, 0.0, 16.666666666666664, 38.53211009174312, 35.0, 51.515151515151516, 0.0, 36.84210526315789, 80.95238095238095, 100.0, 0.0, 0.0, 50.0, 80.0, 67.53731343283582, 33.33333333333333, 28.57142857142857, 27.27272727272727, 53.179190751445084, 0.0, 24.137931034482758, 6.451612903225806, 100.0, 47.82078634562633, 0.0, 38.977635782747605, 45.09803921568628]}],\n",
              "                        {\"geo\": {\"coastlinecolor\": \"#dadada\", \"lakecolor\": \"#eaeaea\", \"oceancolor\": \"#eaeaea\", \"projection\": {\"type\": \"miller\"}, \"resolution\": 50, \"scope\": \"world\", \"showcoastlines\": true, \"showcountries\": true, \"showocean\": true}, \"height\": 800, \"showlegend\": false, \"template\": {\"data\": {\"bar\": [{\"error_x\": {\"color\": \"#2a3f5f\"}, \"error_y\": {\"color\": \"#2a3f5f\"}, \"marker\": {\"line\": {\"color\": \"#E5ECF6\", \"width\": 0.5}}, \"type\": \"bar\"}], \"barpolar\": [{\"marker\": {\"line\": {\"color\": \"#E5ECF6\", \"width\": 0.5}}, \"type\": \"barpolar\"}], \"carpet\": [{\"aaxis\": {\"endlinecolor\": \"#2a3f5f\", \"gridcolor\": \"white\", \"linecolor\": \"white\", \"minorgridcolor\": \"white\", \"startlinecolor\": \"#2a3f5f\"}, \"baxis\": {\"endlinecolor\": \"#2a3f5f\", \"gridcolor\": \"white\", \"linecolor\": \"white\", \"minorgridcolor\": \"white\", \"startlinecolor\": \"#2a3f5f\"}, \"type\": \"carpet\"}], \"choropleth\": [{\"colorbar\": {\"outlinewidth\": 0, \"ticks\": \"\"}, \"type\": \"choropleth\"}], \"contour\": [{\"colorbar\": {\"outlinewidth\": 0, \"ticks\": \"\"}, \"colorscale\": [[0.0, \"#0d0887\"], [0.1111111111111111, \"#46039f\"], [0.2222222222222222, \"#7201a8\"], [0.3333333333333333, \"#9c179e\"], [0.4444444444444444, \"#bd3786\"], [0.5555555555555556, \"#d8576b\"], [0.6666666666666666, \"#ed7953\"], [0.7777777777777778, \"#fb9f3a\"], [0.8888888888888888, \"#fdca26\"], [1.0, \"#f0f921\"]], \"type\": \"contour\"}], \"contourcarpet\": [{\"colorbar\": {\"outlinewidth\": 0, \"ticks\": \"\"}, \"type\": \"contourcarpet\"}], \"heatmap\": [{\"colorbar\": {\"outlinewidth\": 0, \"ticks\": \"\"}, \"colorscale\": [[0.0, \"#0d0887\"], [0.1111111111111111, \"#46039f\"], [0.2222222222222222, \"#7201a8\"], [0.3333333333333333, \"#9c179e\"], [0.4444444444444444, \"#bd3786\"], [0.5555555555555556, \"#d8576b\"], [0.6666666666666666, \"#ed7953\"], [0.7777777777777778, \"#fb9f3a\"], [0.8888888888888888, \"#fdca26\"], [1.0, \"#f0f921\"]], \"type\": \"heatmap\"}], \"heatmapgl\": [{\"colorbar\": {\"outlinewidth\": 0, \"ticks\": \"\"}, \"colorscale\": [[0.0, \"#0d0887\"], [0.1111111111111111, \"#46039f\"], [0.2222222222222222, \"#7201a8\"], [0.3333333333333333, \"#9c179e\"], [0.4444444444444444, \"#bd3786\"], [0.5555555555555556, \"#d8576b\"], [0.6666666666666666, \"#ed7953\"], [0.7777777777777778, \"#fb9f3a\"], [0.8888888888888888, \"#fdca26\"], [1.0, \"#f0f921\"]], \"type\": \"heatmapgl\"}], \"histogram\": [{\"marker\": {\"colorbar\": {\"outlinewidth\": 0, \"ticks\": \"\"}}, \"type\": \"histogram\"}], \"histogram2d\": [{\"colorbar\": {\"outlinewidth\": 0, \"ticks\": \"\"}, \"colorscale\": [[0.0, \"#0d0887\"], [0.1111111111111111, \"#46039f\"], [0.2222222222222222, \"#7201a8\"], [0.3333333333333333, \"#9c179e\"], [0.4444444444444444, \"#bd3786\"], [0.5555555555555556, \"#d8576b\"], [0.6666666666666666, \"#ed7953\"], [0.7777777777777778, \"#fb9f3a\"], [0.8888888888888888, \"#fdca26\"], [1.0, \"#f0f921\"]], \"type\": \"histogram2d\"}], \"histogram2dcontour\": [{\"colorbar\": {\"outlinewidth\": 0, \"ticks\": \"\"}, \"colorscale\": [[0.0, \"#0d0887\"], [0.1111111111111111, \"#46039f\"], [0.2222222222222222, \"#7201a8\"], [0.3333333333333333, \"#9c179e\"], [0.4444444444444444, \"#bd3786\"], [0.5555555555555556, \"#d8576b\"], [0.6666666666666666, \"#ed7953\"], [0.7777777777777778, \"#fb9f3a\"], [0.8888888888888888, \"#fdca26\"], [1.0, \"#f0f921\"]], \"type\": \"histogram2dcontour\"}], \"mesh3d\": [{\"colorbar\": {\"outlinewidth\": 0, \"ticks\": \"\"}, \"type\": \"mesh3d\"}], \"parcoords\": [{\"line\": {\"colorbar\": {\"outlinewidth\": 0, \"ticks\": \"\"}}, \"type\": \"parcoords\"}], \"pie\": [{\"automargin\": true, \"type\": \"pie\"}], \"scatter\": [{\"marker\": {\"colorbar\": {\"outlinewidth\": 0, \"ticks\": \"\"}}, \"type\": \"scatter\"}], \"scatter3d\": [{\"line\": {\"colorbar\": {\"outlinewidth\": 0, \"ticks\": \"\"}}, \"marker\": {\"colorbar\": {\"outlinewidth\": 0, \"ticks\": \"\"}}, \"type\": \"scatter3d\"}], \"scattercarpet\": [{\"marker\": {\"colorbar\": {\"outlinewidth\": 0, \"ticks\": \"\"}}, \"type\": \"scattercarpet\"}], \"scattergeo\": [{\"marker\": {\"colorbar\": {\"outlinewidth\": 0, \"ticks\": \"\"}}, \"type\": \"scattergeo\"}], \"scattergl\": [{\"marker\": {\"colorbar\": {\"outlinewidth\": 0, \"ticks\": \"\"}}, \"type\": \"scattergl\"}], \"scattermapbox\": [{\"marker\": {\"colorbar\": {\"outlinewidth\": 0, \"ticks\": \"\"}}, \"type\": \"scattermapbox\"}], \"scatterpolar\": [{\"marker\": {\"colorbar\": {\"outlinewidth\": 0, \"ticks\": \"\"}}, \"type\": \"scatterpolar\"}], \"scatterpolargl\": [{\"marker\": {\"colorbar\": {\"outlinewidth\": 0, \"ticks\": \"\"}}, \"type\": \"scatterpolargl\"}], \"scatterternary\": [{\"marker\": {\"colorbar\": {\"outlinewidth\": 0, \"ticks\": \"\"}}, \"type\": \"scatterternary\"}], \"surface\": [{\"colorbar\": {\"outlinewidth\": 0, \"ticks\": \"\"}, \"colorscale\": [[0.0, \"#0d0887\"], [0.1111111111111111, \"#46039f\"], [0.2222222222222222, \"#7201a8\"], [0.3333333333333333, \"#9c179e\"], [0.4444444444444444, \"#bd3786\"], [0.5555555555555556, \"#d8576b\"], [0.6666666666666666, \"#ed7953\"], [0.7777777777777778, \"#fb9f3a\"], [0.8888888888888888, \"#fdca26\"], [1.0, \"#f0f921\"]], \"type\": \"surface\"}], \"table\": [{\"cells\": {\"fill\": {\"color\": \"#EBF0F8\"}, \"line\": {\"color\": \"white\"}}, \"header\": {\"fill\": {\"color\": \"#C8D4E3\"}, \"line\": {\"color\": \"white\"}}, \"type\": \"table\"}]}, \"layout\": {\"annotationdefaults\": {\"arrowcolor\": \"#2a3f5f\", \"arrowhead\": 0, \"arrowwidth\": 1}, \"coloraxis\": {\"colorbar\": {\"outlinewidth\": 0, \"ticks\": \"\"}}, \"colorscale\": {\"diverging\": [[0, \"#8e0152\"], [0.1, \"#c51b7d\"], [0.2, \"#de77ae\"], [0.3, \"#f1b6da\"], [0.4, \"#fde0ef\"], [0.5, \"#f7f7f7\"], [0.6, \"#e6f5d0\"], [0.7, \"#b8e186\"], [0.8, \"#7fbc41\"], [0.9, \"#4d9221\"], [1, \"#276419\"]], \"sequential\": [[0.0, \"#0d0887\"], [0.1111111111111111, \"#46039f\"], [0.2222222222222222, \"#7201a8\"], [0.3333333333333333, \"#9c179e\"], [0.4444444444444444, \"#bd3786\"], [0.5555555555555556, \"#d8576b\"], [0.6666666666666666, \"#ed7953\"], [0.7777777777777778, \"#fb9f3a\"], [0.8888888888888888, \"#fdca26\"], [1.0, \"#f0f921\"]], \"sequentialminus\": [[0.0, \"#0d0887\"], [0.1111111111111111, \"#46039f\"], [0.2222222222222222, \"#7201a8\"], [0.3333333333333333, \"#9c179e\"], [0.4444444444444444, \"#bd3786\"], [0.5555555555555556, \"#d8576b\"], [0.6666666666666666, \"#ed7953\"], [0.7777777777777778, \"#fb9f3a\"], [0.8888888888888888, \"#fdca26\"], [1.0, \"#f0f921\"]]}, \"colorway\": [\"#636efa\", \"#EF553B\", \"#00cc96\", \"#ab63fa\", \"#FFA15A\", \"#19d3f3\", \"#FF6692\", \"#B6E880\", \"#FF97FF\", \"#FECB52\"], \"font\": {\"color\": \"#2a3f5f\"}, \"geo\": {\"bgcolor\": \"white\", \"lakecolor\": \"white\", \"landcolor\": \"#E5ECF6\", \"showlakes\": true, \"showland\": true, \"subunitcolor\": \"white\"}, \"hoverlabel\": {\"align\": \"left\"}, \"hovermode\": \"closest\", \"mapbox\": {\"style\": \"light\"}, \"paper_bgcolor\": \"white\", \"plot_bgcolor\": \"#E5ECF6\", \"polar\": {\"angularaxis\": {\"gridcolor\": \"white\", \"linecolor\": \"white\", \"ticks\": \"\"}, \"bgcolor\": \"#E5ECF6\", \"radialaxis\": {\"gridcolor\": \"white\", \"linecolor\": \"white\", \"ticks\": \"\"}}, \"scene\": {\"xaxis\": {\"backgroundcolor\": \"#E5ECF6\", \"gridcolor\": \"white\", \"gridwidth\": 2, \"linecolor\": \"white\", \"showbackground\": true, \"ticks\": \"\", \"zerolinecolor\": \"white\"}, \"yaxis\": {\"backgroundcolor\": \"#E5ECF6\", \"gridcolor\": \"white\", \"gridwidth\": 2, \"linecolor\": \"white\", \"showbackground\": true, \"ticks\": \"\", \"zerolinecolor\": \"white\"}, \"zaxis\": {\"backgroundcolor\": \"#E5ECF6\", \"gridcolor\": \"white\", \"gridwidth\": 2, \"linecolor\": \"white\", \"showbackground\": true, \"ticks\": \"\", \"zerolinecolor\": \"white\"}}, \"shapedefaults\": {\"line\": {\"color\": \"#2a3f5f\"}}, \"ternary\": {\"aaxis\": {\"gridcolor\": \"white\", \"linecolor\": \"white\", \"ticks\": \"\"}, \"baxis\": {\"gridcolor\": \"white\", \"linecolor\": \"white\", \"ticks\": \"\"}, \"bgcolor\": \"#E5ECF6\", \"caxis\": {\"gridcolor\": \"white\", \"linecolor\": \"white\", \"ticks\": \"\"}}, \"title\": {\"x\": 0.05}, \"xaxis\": {\"automargin\": true, \"gridcolor\": \"white\", \"linecolor\": \"white\", \"ticks\": \"\", \"title\": {\"standoff\": 15}, \"zerolinecolor\": \"white\", \"zerolinewidth\": 2}, \"yaxis\": {\"automargin\": true, \"gridcolor\": \"white\", \"linecolor\": \"white\", \"ticks\": \"\", \"title\": {\"standoff\": 15}, \"zerolinecolor\": \"white\", \"zerolinewidth\": 2}}}, \"title\": {\"text\": \"Porcentages de oportunidades ganadas\"}, \"width\": 1000},\n",
              "                        {\"responsive\": true}\n",
              "                    ).then(function(){\n",
              "                            \n",
              "var gd = document.getElementById('9904dbf1-8be3-446f-91de-54a11c1dfe79');\n",
              "var x = new MutationObserver(function (mutations, observer) {{\n",
              "        var display = window.getComputedStyle(gd).display;\n",
              "        if (!display || display === 'none') {{\n",
              "            console.log([gd, 'removed!']);\n",
              "            Plotly.purge(gd);\n",
              "            observer.disconnect();\n",
              "        }}\n",
              "}});\n",
              "\n",
              "// Listen for the removal of the full notebook cells\n",
              "var notebookContainer = gd.closest('#notebook-container');\n",
              "if (notebookContainer) {{\n",
              "    x.observe(notebookContainer, {childList: true});\n",
              "}}\n",
              "\n",
              "// Listen for the clearing of the current output cell\n",
              "var outputEl = gd.closest('.output');\n",
              "if (outputEl) {{\n",
              "    x.observe(outputEl, {childList: true});\n",
              "}}\n",
              "\n",
              "                        })\n",
              "                };\n",
              "                \n",
              "            </script>\n",
              "        </div>\n",
              "</body>\n",
              "</html>"
            ]
          },
          "metadata": {
            "tags": []
          }
        }
      ]
    },
    {
      "cell_type": "code",
      "metadata": {
        "id": "aK_grKK3PQ2e",
        "outputId": "e63cee17-edde-4283-bb4b-2116297bbe1e",
        "colab": {
          "base_uri": "https://localhost:8080/",
          "height": 1000
        }
      },
      "source": [
        "dataEntrante = data[data['Ganados Promedio'] > 0.05]\n",
        "dataEntrante = dataEntrante[dataEntrante['Ganados Total'] > 10]\n",
        "dataEntrante.reset_index()\n",
        "lineaDeTiempo(dataEntrante)"
      ],
      "execution_count": 93,
      "outputs": [
        {
          "output_type": "display_data",
          "data": {
            "text/html": [
              "<html>\n",
              "<head><meta charset=\"utf-8\" /></head>\n",
              "<body>\n",
              "    <div>\n",
              "            <script src=\"https://cdnjs.cloudflare.com/ajax/libs/mathjax/2.7.5/MathJax.js?config=TeX-AMS-MML_SVG\"></script><script type=\"text/javascript\">if (window.MathJax) {MathJax.Hub.Config({SVG: {font: \"STIX-Web\"}});}</script>\n",
              "                <script type=\"text/javascript\">window.PlotlyConfig = {MathJaxConfig: 'local'};</script>\n",
              "        <script src=\"https://cdn.plot.ly/plotly-latest.min.js\"></script>    \n",
              "            <div id=\"0372fabf-9a9f-4e8f-84d7-1d20f822954e\" class=\"plotly-graph-div\" style=\"height:980px; width:1720px;\"></div>\n",
              "            <script type=\"text/javascript\">\n",
              "                \n",
              "                    window.PLOTLYENV=window.PLOTLYENV || {};\n",
              "                    \n",
              "                if (document.getElementById(\"0372fabf-9a9f-4e8f-84d7-1d20f822954e\")) {\n",
              "                    Plotly.newPlot(\n",
              "                        '0372fabf-9a9f-4e8f-84d7-1d20f822954e',\n",
              "                        [{\"hoverinfo\": \"text\", \"marker\": {\"size\": [1392, 248, 374, 46, 26, 404, 64, 38, 286, 2046, 748, 110, 298, 1092, 66, 122, 514, 62, 84, 42, 68, 714, 24, 362, 184, 3138, 244, 46], \"sizemode\": \"area\", \"sizeref\": 1}, \"mode\": \"markers\", \"opacity\": 0.8, \"text\": [\"Australia\", \"Austria\", \"Belgium\", \"Canada\", \"Carribean\", \"China (PRC)\", \"Cyprus\", \"Denmark\", \"France\", \"Germany\", \"India\", \"Indonesia\", \"Italy\", \"Japan\", \"Jordan\", \"Luxembourg\", \"Netherlands\", \"New Zealand\", \"Philippines\", \"Poland\", \"Portugal\", \"Singapore\", \"South Korea\", \"Spain\", \"Thailand\", \"USA\", \"United Kingdom\", \"Vietnam\"], \"transforms\": [{\"groups\": [\"APAC\", \"EMEA\", \"EMEA\", \"Americas\", \"Americas\", \"APAC\", \"EMEA\", \"EMEA\", \"EMEA\", \"EMEA\", \"APAC\", \"APAC\", \"EMEA\", \"Japan\", \"Middle East\", \"EMEA\", \"EMEA\", \"APAC\", \"APAC\", \"EMEA\", \"EMEA\", \"APAC\", \"APAC\", \"EMEA\", \"APAC\", \"Americas\", \"EMEA\", \"APAC\"], \"styles\": [], \"type\": \"groupby\"}, {\"aggregations\": [{\"func\": \"avg\", \"target\": \"x\"}, {\"func\": \"avg\", \"target\": \"y\"}, {\"func\": \"sum\", \"target\": \"marker.size\"}], \"groups\": [\"Australia\", \"Austria\", \"Belgium\", \"Canada\", \"Carribean\", \"China (PRC)\", \"Cyprus\", \"Denmark\", \"France\", \"Germany\", \"India\", \"Indonesia\", \"Italy\", \"Japan\", \"Jordan\", \"Luxembourg\", \"Netherlands\", \"New Zealand\", \"Philippines\", \"Poland\", \"Portugal\", \"Singapore\", \"South Korea\", \"Spain\", \"Thailand\", \"USA\", \"United Kingdom\", \"Vietnam\"], \"type\": \"aggregate\"}], \"type\": \"scatter\", \"x\": [\"2015-04-23T00:00:00\", \"2015-07-23T00:00:00\", \"2015-12-18T00:00:00\", \"2017-06-28T00:00:00\", \"2017-07-17T00:00:00\", \"2016-01-29T00:00:00\", \"2015-10-26T00:00:00\", \"2015-03-26T00:00:00\", \"2013-11-05T00:00:00\", \"2014-08-05T00:00:00\", \"2014-05-19T00:00:00\", \"2015-04-17T00:00:00\", \"2015-03-02T00:00:00\", \"2015-02-05T00:00:00\", \"2016-02-05T00:00:00\", \"2016-11-21T00:00:00\", \"2015-06-15T00:00:00\", \"2017-08-02T00:00:00\", \"2014-03-21T00:00:00\", \"2015-11-27T00:00:00\", \"2015-09-23T00:00:00\", \"2015-07-20T00:00:00\", \"2016-04-07T00:00:00\", \"2015-05-29T00:00:00\", \"2015-10-27T00:00:00\", \"2014-03-28T00:00:00\", \"2015-03-31T00:00:00\", \"2016-08-31T00:00:00\"], \"y\": [\"2018-12-20T00:00:00\", \"2018-11-27T00:00:00\", \"2018-12-08T00:00:00\", \"2018-06-09T00:00:00\", \"2018-11-17T00:00:00\", \"2018-08-24T00:00:00\", \"2018-11-06T00:00:00\", \"2018-12-07T00:00:00\", \"2018-12-17T00:00:00\", \"2018-12-20T00:00:00\", \"2018-12-24T00:00:00\", \"2018-12-21T00:00:00\", \"2018-12-03T00:00:00\", \"2018-12-26T00:00:00\", \"2018-12-10T00:00:00\", \"2018-09-06T00:00:00\", \"2018-12-12T00:00:00\", \"2018-10-15T00:00:00\", \"2018-10-05T00:00:00\", \"2018-12-17T00:00:00\", \"2018-07-20T00:00:00\", \"2018-12-17T00:00:00\", \"2018-06-19T00:00:00\", \"2018-12-19T00:00:00\", \"2018-12-04T00:00:00\", \"2018-12-29T00:00:00\", \"2018-12-20T00:00:00\", \"2018-10-19T00:00:00\"]}],\n",
              "                        {\"height\": 980, \"title\": \"<b>Oportunidades</b><br>cerradas con exito ordenadas segun nuevas oportunidades\", \"uniformtext_mode\": \"hide\", \"width\": 1720, \"xaxis\": {\"title\": \"Inicio de nuevas oportunidades\"}, \"yaxis\": {\"title\": \"Ultima nueva oportunidad\"}},\n",
              "                        {\"responsive\": true}\n",
              "                    ).then(function(){\n",
              "                            \n",
              "var gd = document.getElementById('0372fabf-9a9f-4e8f-84d7-1d20f822954e');\n",
              "var x = new MutationObserver(function (mutations, observer) {{\n",
              "        var display = window.getComputedStyle(gd).display;\n",
              "        if (!display || display === 'none') {{\n",
              "            console.log([gd, 'removed!']);\n",
              "            Plotly.purge(gd);\n",
              "            observer.disconnect();\n",
              "        }}\n",
              "}});\n",
              "\n",
              "// Listen for the removal of the full notebook cells\n",
              "var notebookContainer = gd.closest('#notebook-container');\n",
              "if (notebookContainer) {{\n",
              "    x.observe(notebookContainer, {childList: true});\n",
              "}}\n",
              "\n",
              "// Listen for the clearing of the current output cell\n",
              "var outputEl = gd.closest('.output');\n",
              "if (outputEl) {{\n",
              "    x.observe(outputEl, {childList: true});\n",
              "}}\n",
              "\n",
              "                        })\n",
              "                };\n",
              "                \n",
              "            </script>\n",
              "        </div>\n",
              "</body>\n",
              "</html>"
            ]
          },
          "metadata": {
            "tags": []
          }
        }
      ]
    },
    {
      "cell_type": "code",
      "metadata": {
        "id": "kr95UgjV3jjN",
        "outputId": "e07bcc84-bddc-492a-f9ec-f1c95d649dc4",
        "colab": {
          "base_uri": "https://localhost:8080/"
        }
      },
      "source": [
        "entrenamiento.Total_Amount"
      ],
      "execution_count": 94,
      "outputs": [
        {
          "output_type": "execute_result",
          "data": {
            "text/plain": [
              "0               5,272,800.00\n",
              "1                  48,230.00\n",
              "2                  83,865.60\n",
              "3               7,421,881.50\n",
              "4              13,357,192.50\n",
              "                ...         \n",
              "16942             103,350.00\n",
              "16943              93,015.00\n",
              "16944             103,350.00\n",
              "16945           2,346,796.88\n",
              "16946          25,603,200.00\n",
              "Name: Total_Amount, Length: 16947, dtype: float64"
            ]
          },
          "metadata": {
            "tags": []
          },
          "execution_count": 94
        }
      ]
    },
    {
      "cell_type": "markdown",
      "metadata": {
        "id": "UtzBzBcgxhLO"
      },
      "source": [
        "### ganados perdidos segun cantidad de veces que se modifico la oportunidad"
      ]
    },
    {
      "cell_type": "code",
      "metadata": {
        "id": "RLvkDKWsxv-C",
        "outputId": "e2cc931c-7fcb-4ef0-c925-3f1e6cddd402",
        "colab": {
          "base_uri": "https://localhost:8080/",
          "height": 268
        }
      },
      "source": [
        "def histogramaDeModificaciones(df):\n",
        "  data = df[['modificaciones','Won','Lost']]\n",
        "  data['Won'] = data['Won'] * data['modificaciones']\n",
        "  data['Lost'] = data['Lost'] * data['modificaciones']\n",
        "  data = data[['Won','Lost']]\n",
        "  data['Won'][data['Won'] > 0].plot.hist(bins=12, alpha=0.5)\n",
        "  data['Lost'][data['Lost'] > 0].plot.hist(bins=12, alpha=0.5)\n",
        "  return data\n",
        "\n",
        "data = histogramaDeModificaciones(agrupacion)\n",
        "#data.value_counts()"
      ],
      "execution_count": null,
      "outputs": [
        {
          "output_type": "display_data",
          "data": {
            "image/png": "[encoded data removed]",
            "text/plain": [
              "<Figure size 432x288 with 1 Axes>"
            ]
          },
          "metadata": {
            "tags": [],
            "needs_background": "light"
          }
        }
      ]
    },
    {
      "cell_type": "markdown",
      "metadata": {
        "id": "MW01CV5X3lm1"
      },
      "source": [
        "### Distribución de precio según estados closed"
      ]
    },
    {
      "cell_type": "code",
      "metadata": {
        "id": "G0xQugP93nyq"
      },
      "source": [
        "entrenamientoEstadosClosed = entrenamiento[(entrenamiento['Stage'] == 'Closed Lost') | (entrenamiento['Stage'] == 'Closed Won')]"
      ],
      "execution_count": null,
      "outputs": []
    },
    {
      "cell_type": "code",
      "metadata": {
        "id": "MJXTPLyI3pep",
        "outputId": "d7e6d9fa-8357-42f9-c6c7-7b4de3d1876c",
        "colab": {
          "base_uri": "https://localhost:8080/",
          "height": 584
        }
      },
      "source": [
        "def boxplotParaPrecioSegunEstadoDeClosed(df):\n",
        "  #Boxplot para precio según estado de closed\n",
        "  plt.figure(figsize=(10,8), dpi= 80)\n",
        "  df['Stage']\n",
        "  boxplot = sns.boxplot(x='Stage', y='Total_Amount', data=df)\n",
        "  plt.title('Distribución de precio para oportunidades Closed', fontsize=22)\n",
        "  boxplot.set_xlabel('Oportunidades')\n",
        "  boxplot.set_ylabel('Precio')\n",
        "  boxplot.set(yscale=\"log\")\n",
        "  plt.show()\n",
        "boxplotParaPrecioSegunEstadoDeClosed(entrenamientoEstadosClosed)"
      ],
      "execution_count": null,
      "outputs": [
        {
          "output_type": "display_data",
          "data": {
            "image/png": "[encoded data removed]",
            "text/plain": [
              "<Figure size 800x640 with 1 Axes>"
            ]
          },
          "metadata": {
            "tags": [],
            "needs_background": "light"
          }
        }
      ]
    },
    {
      "cell_type": "markdown",
      "metadata": {
        "id": "B7OGA1MO3rn5"
      },
      "source": [
        "### Oportunidades exitosas cerradas según país"
      ]
    },
    {
      "cell_type": "code",
      "metadata": {
        "id": "SEDhcWOb3sYX",
        "outputId": "701ec3f9-68ba-43d9-ef5e-4b92ceb0fc9a",
        "colab": {
          "base_uri": "https://localhost:8080/",
          "height": 264
        }
      },
      "source": [
        "def wordcloudDeTrueKeysEnBaseASuOcurrencia(df):\n",
        "  #Wordcloud de True keys en base a su ocurrencia\n",
        "  freqWonKeys = df.Billing_Country.value_counts()\n",
        "  wordcloud = WordCloud(width=2000,height=2000, max_words=len(freqWonKeys),normalize_plurals=False).generate_from_frequencies(freqWonKeys)\n",
        "  plt.imshow(wordcloud, interpolation='bilinear')\n",
        "  plt.axis(\"off\")\n",
        "  plt.title('Paises más importantes con cierres exitosos')\n",
        "  plt.show()\n",
        "wordcloudDeTrueKeysEnBaseASuOcurrencia(entrenamientoEstadosClosed)"
      ],
      "execution_count": null,
      "outputs": [
        {
          "output_type": "display_data",
          "data": {
            "image/png": "[encoded data removed]",
            "text/plain": [
              "<Figure size 432x288 with 1 Axes>"
            ]
          },
          "metadata": {
            "tags": [],
            "needs_background": "light"
          }
        }
      ]
    },
    {
      "cell_type": "markdown",
      "metadata": {
        "id": "ZyQo5-dynD-x"
      },
      "source": [
        "### Oportunidades Cerradas cerradas según país"
      ]
    },
    {
      "cell_type": "code",
      "metadata": {
        "id": "6j_Cl8DwnD-y"
      },
      "source": [
        "entrenamiento['Delivery_Quarter'] = entrenamiento['Delivery_Quarter'].replace({'Q2': 2, 'Q1': 1, 'Q4': 4, 'Q3': 3})"
      ],
      "execution_count": null,
      "outputs": []
    },
    {
      "cell_type": "code",
      "metadata": {
        "id": "d9TTRnn1nD-3",
        "outputId": "49c49fdd-1c2b-403c-daef-8a08ad7e5116"
      },
      "source": [
        "#Boxplot para precio según estado de closed\n",
        "plt.figure(figsize=(10,8), dpi= 80)\n",
        "boxplot = sns.boxplot(x='Stage', y='Delivery_Quarter', data=entrenamiento)\n",
        "plt.title('Distribución oportunidades Closed por trimestre', fontsize=22)\n",
        "boxplot.set_xlabel('Oportunidades')\n",
        "boxplot.set_ylabel('Trimestre')\n",
        "#boxplot.set(yscale=\"log\")\n",
        "plt.show()"
      ],
      "execution_count": null,
      "outputs": [
        {
          "output_type": "display_data",
          "data": {
            "image/png": "[encoded data removed]",
            "text/plain": [
              "<Figure size 800x640 with 1 Axes>"
            ]
          },
          "metadata": {
            "tags": []
          }
        }
      ]
    }
  ]
}