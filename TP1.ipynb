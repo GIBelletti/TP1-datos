{
 "cells": [
  {
   "cell_type": "markdown",
   "source": [
    "- ID: id único del registro (Entero).\n",
    "- Región: región de la oportunidad (Categórica).\n",
    "- Territory: territorio comercial de la oportunidad (Categórica).\n",
    "- Pricing, Delivery_Terms_Quote_Approval: variable que denomina si la oportunidad necesita aprobación especial de su precio total y los términos de la entrega (Binaria).\n",
    "- Pricing, Delivery_Terms_Approved: variable que denomina si la oportunidad obtuvo aprobación especial de su precio total y los términos de la entrega (Binaria).\n",
    "- Bureaucratic_Code_0_Approval: variable que denomina si la oportunidad necesita el código burocrático 0 (Binaria).\n",
    "- Bureaucratic_Code_0_Approved: variable que denomina si la oportunidad obtuvo el código burocrático 0 (Binaria).\n",
    "- Submitted_for_Approval: variable que denomina si fue entregada la oportunidad para la aprobación (Binaria).\n",
    "- Bureaucratic_Code: códigos burocráticos que obtuvo la oportunidad (Categórica).\n",
    "- Account_Created_Date: fecha de creación de la cuenta del cliente (Datetime).\n",
    "- Source: fuente de creación de la oportunidad (Categórica).\n",
    "- Billing_Country: país donde se emite la factura (Categórica).\n",
    "- Account_Name: nombre de la cuenta del cliente (Categórica).\n",
    "- Opportunity_Name: nombre de la oportunidad (Categórica).\n",
    "- Opportunity_ID: id de la oportunidad (Entero).\n",
    "- Sales_Contract_No: número de contrato (Entero).\n",
    "- Account_Owner: vendedor del equipo comercial responsable de la cuenta cliente (Categórica).\n",
    "- Opportunity_Owner: vendedor del equipo comercial responsable de la oportunidad comercial (Categórica).\n",
    "- Account_Type: tipo de cuenta cliente (Categórica).\n",
    "- Opportunity_Type: tipo de oportunidad (Categórica).\n",
    "- Quote_Type: tipo de presupuesto (Categórica).\n",
    "- Delivery_Terms: términos de entrega (Categórica).\n",
    "- Opportunity_Created_Date: fecha de creación de la oportunidad comercial (Datetime).\n",
    "- Brand: marca del producto (Categórica).\n",
    "- Product_Type: tipo de producto (Categórica).\n",
    "- Size: tamaño del producto (Categórica).\n",
    "- Product_Category_B: categoría 'B' del producto (Categórica).\n",
    "- Price: precio (Decimal).\n",
    "- Currency: moneda (Categórica).\n",
    "- Last_Activity: fecha de la última actividad (Datetime).\n",
    "- Quote_Expiry_Date: fecha de vencimiento del presupuesto (Datetime).\n",
    "- Last_Modified_Date: fecha de ultima modificación en la oportunidad (Datetime).\n",
    "- Last_Modified_By: usuario responsable de la última modificación en la oportunidad (Categórica).\n",
    "- Product_Family: familia de producto (Categórica).\n",
    "- Product_Name: nombre del producto (Categórica).\n",
    "- ASP_Currency: moneda del precio promedio (Categórica).\n",
    "- ASP: (Average Selling Price) precio promedio a la venta (Decimal).\n",
    "- ASP_(converted)_Currency: moneda del precio promedio convertido en la variable (Categórica)\n",
    "- ASP_(converted): precio promedio a la venta convertido a otra moneda (Decimal).\n",
    "- Planned_Delivery_Start_Date: límite inferior del rango previsto para la fecha de entrega (Datetime).\n",
    "- Planned_Delivery_End_Date: límite superior del rango previsto para la fecha de entrega (Datetime).\n",
    "- Month: mes-año de Planned_Delivery_Start_Date (Fecha).\n",
    "- Delivery_Quarter: trimestre de Planned_Delivery_Start_Date (Categorica).\n",
    "- Delivery_Year: año de Planned_Delivery_Start_Date (Fecha).\n",
    "- Actual_Delivery_Date: fecha real de la entrega (Datetime).\n",
    "- Total_Power: potencia del producto (Entero).\n",
    "- Total_Amount_Currency: moneda del monto total (Decimal).\n",
    "- Total_Amount: monto total (Decimal).\n",
    "- Total_Taxable_Amount_Currency: moneda del monto gravado total (Categórica).\n",
    "- Total_Taxable_Amount: monto gravado total (Categórica).\n",
    "- Stage: variable target. Estado de la oportunidad (Categórica).\n",
    "- Prod_Category_A: categoría 'A' del producto (Categórica).\n",
    "- Total_Power_Discreet: categorización de la variable Total Power en bins (Categórica)."
   ],
   "metadata": {
    "collapsed": false,
    "pycharm": {
     "name": "#%% md\n"
    }
   }
  },
  {
   "cell_type": "code",
   "execution_count": 1,
   "metadata": {
    "collapsed": true,
    "pycharm": {
     "is_executing": false
    }
   },
   "outputs": [],
   "source": [
    "import pandas as pd\n",
    "import numpy as np\n",
    "import matplotlib.pyplot as plt\n",
    "import seaborn as sns\n",
    "import plotly.graph_objects as go\n",
    "import matplotlib\n",
    "plt.style.use('default')\n",
    "\n",
    "sns.set(style=\"whitegrid\")\n",
    "\n",
    "pd.options.display.float_format = '{:20,.2f}'.format \n",
    "\n",
    "import warnings\n",
    "warnings.filterwarnings('ignore')\n"
   ]
  },
  {
   "cell_type": "code",
   "execution_count": 2,
   "outputs": [
    {
     "data": {
      "text/plain": "      ID    Region   Territory  Pricing, Delivery_Terms_Quote_Appr  \\\n0  27761      EMEA        None                                   1   \n1  27760      EMEA        None                                   0   \n2  27446  Americas  NW America                                   0   \n3  16808  Americas  NW America                                   1   \n4  16805  Americas  NW America                                   1   \n\n   Pricing, Delivery_Terms_Approved  Bureaucratic_Code_0_Approval  \\\n0                                 1                             1   \n1                                 0                             0   \n2                                 0                             0   \n3                                 0                             1   \n4                                 0                             1   \n\n   Bureaucratic_Code_0_Approved  Submitted_for_Approval    Bureaucratic_Code  \\\n0                             1                       0  Bureaucratic_Code_4   \n1                             0                       0  Bureaucratic_Code_4   \n2                             0                       0  Bureaucratic_Code_4   \n3                             0                       0  Bureaucratic_Code_5   \n4                             0                       0  Bureaucratic_Code_5   \n\n  Account_Created_Date  ... Delivery_Quarter Delivery_Year  \\\n0            6/16/2015  ...               Q2          2016   \n1            6/16/2015  ...               Q1          2016   \n2            4/21/2015  ...               Q1          2016   \n3            7/27/2013  ...               Q1          2018   \n4            7/27/2013  ...               Q1          2018   \n\n  Actual_Delivery_Date TRF  Total_Amount_Currency         Total_Amount  \\\n0                  NaT  10                    EUR         5,272,800.00   \n1                  NaT   0                    EUR            48,230.00   \n2                  NaT   0                    USD            83,865.60   \n3                  NaT  14                    USD         7,421,881.50   \n4                  NaT  25                    USD        13,357,192.50   \n\n  Total_Taxable_Amount_Currency Total_Taxable_Amount        Stage  \\\n0                           EUR         5,272,800.00  Closed Lost   \n1                           EUR            48,230.00   Closed Won   \n2                           USD            83,865.60   Closed Won   \n3                           USD         7,421,881.50  Closed Lost   \n4                           USD        13,357,192.50  Closed Lost   \n\n        Prod_Category_A  \n0  Prod_Category_A_None  \n1  Prod_Category_A_None  \n2  Prod_Category_A_None  \n3  Prod_Category_A_None  \n4  Prod_Category_A_None  \n\n[5 rows x 52 columns]",
      "text/html": "<div>\n<style scoped>\n    .dataframe tbody tr th:only-of-type {\n        vertical-align: middle;\n    }\n\n    .dataframe tbody tr th {\n        vertical-align: top;\n    }\n\n    .dataframe thead th {\n        text-align: right;\n    }\n</style>\n<table border=\"1\" class=\"dataframe\">\n  <thead>\n    <tr style=\"text-align: right;\">\n      <th></th>\n      <th>ID</th>\n      <th>Region</th>\n      <th>Territory</th>\n      <th>Pricing, Delivery_Terms_Quote_Appr</th>\n      <th>Pricing, Delivery_Terms_Approved</th>\n      <th>Bureaucratic_Code_0_Approval</th>\n      <th>Bureaucratic_Code_0_Approved</th>\n      <th>Submitted_for_Approval</th>\n      <th>Bureaucratic_Code</th>\n      <th>Account_Created_Date</th>\n      <th>...</th>\n      <th>Delivery_Quarter</th>\n      <th>Delivery_Year</th>\n      <th>Actual_Delivery_Date</th>\n      <th>TRF</th>\n      <th>Total_Amount_Currency</th>\n      <th>Total_Amount</th>\n      <th>Total_Taxable_Amount_Currency</th>\n      <th>Total_Taxable_Amount</th>\n      <th>Stage</th>\n      <th>Prod_Category_A</th>\n    </tr>\n  </thead>\n  <tbody>\n    <tr>\n      <th>0</th>\n      <td>27761</td>\n      <td>EMEA</td>\n      <td>None</td>\n      <td>1</td>\n      <td>1</td>\n      <td>1</td>\n      <td>1</td>\n      <td>0</td>\n      <td>Bureaucratic_Code_4</td>\n      <td>6/16/2015</td>\n      <td>...</td>\n      <td>Q2</td>\n      <td>2016</td>\n      <td>NaT</td>\n      <td>10</td>\n      <td>EUR</td>\n      <td>5,272,800.00</td>\n      <td>EUR</td>\n      <td>5,272,800.00</td>\n      <td>Closed Lost</td>\n      <td>Prod_Category_A_None</td>\n    </tr>\n    <tr>\n      <th>1</th>\n      <td>27760</td>\n      <td>EMEA</td>\n      <td>None</td>\n      <td>0</td>\n      <td>0</td>\n      <td>0</td>\n      <td>0</td>\n      <td>0</td>\n      <td>Bureaucratic_Code_4</td>\n      <td>6/16/2015</td>\n      <td>...</td>\n      <td>Q1</td>\n      <td>2016</td>\n      <td>NaT</td>\n      <td>0</td>\n      <td>EUR</td>\n      <td>48,230.00</td>\n      <td>EUR</td>\n      <td>48,230.00</td>\n      <td>Closed Won</td>\n      <td>Prod_Category_A_None</td>\n    </tr>\n    <tr>\n      <th>2</th>\n      <td>27446</td>\n      <td>Americas</td>\n      <td>NW America</td>\n      <td>0</td>\n      <td>0</td>\n      <td>0</td>\n      <td>0</td>\n      <td>0</td>\n      <td>Bureaucratic_Code_4</td>\n      <td>4/21/2015</td>\n      <td>...</td>\n      <td>Q1</td>\n      <td>2016</td>\n      <td>NaT</td>\n      <td>0</td>\n      <td>USD</td>\n      <td>83,865.60</td>\n      <td>USD</td>\n      <td>83,865.60</td>\n      <td>Closed Won</td>\n      <td>Prod_Category_A_None</td>\n    </tr>\n    <tr>\n      <th>3</th>\n      <td>16808</td>\n      <td>Americas</td>\n      <td>NW America</td>\n      <td>1</td>\n      <td>0</td>\n      <td>1</td>\n      <td>0</td>\n      <td>0</td>\n      <td>Bureaucratic_Code_5</td>\n      <td>7/27/2013</td>\n      <td>...</td>\n      <td>Q1</td>\n      <td>2018</td>\n      <td>NaT</td>\n      <td>14</td>\n      <td>USD</td>\n      <td>7,421,881.50</td>\n      <td>USD</td>\n      <td>7,421,881.50</td>\n      <td>Closed Lost</td>\n      <td>Prod_Category_A_None</td>\n    </tr>\n    <tr>\n      <th>4</th>\n      <td>16805</td>\n      <td>Americas</td>\n      <td>NW America</td>\n      <td>1</td>\n      <td>0</td>\n      <td>1</td>\n      <td>0</td>\n      <td>0</td>\n      <td>Bureaucratic_Code_5</td>\n      <td>7/27/2013</td>\n      <td>...</td>\n      <td>Q1</td>\n      <td>2018</td>\n      <td>NaT</td>\n      <td>25</td>\n      <td>USD</td>\n      <td>13,357,192.50</td>\n      <td>USD</td>\n      <td>13,357,192.50</td>\n      <td>Closed Lost</td>\n      <td>Prod_Category_A_None</td>\n    </tr>\n  </tbody>\n</table>\n<p>5 rows × 52 columns</p>\n</div>"
     },
     "metadata": {},
     "output_type": "execute_result",
     "execution_count": 2
    }
   ],
   "source": [
    "entrenamiento = pd.read_csv('Entrenamieto_ECI_2020.csv')\n",
    "entrenamiento.head()"
   ],
   "metadata": {
    "collapsed": false,
    "pycharm": {
     "name": "#%%\n",
     "is_executing": false
    }
   }
  },
  {
   "cell_type": "code",
   "execution_count": 3,
   "outputs": [
    {
     "data": {
      "text/plain": "Closed Won       9533\nClosed Lost      7350\nProposal           35\nNegotiation        18\nQualification      11\nName: Stage, dtype: int64"
     },
     "metadata": {},
     "output_type": "execute_result",
     "execution_count": 3
    }
   ],
   "source": [
    "cantidadStage = entrenamiento['Stage'].value_counts()\n",
    "cantidadStage"
   ],
   "metadata": {
    "collapsed": false,
    "pycharm": {
     "name": "#%%\n",
     "is_executing": false
    }
   }
  },
  {
   "cell_type": "code",
   "execution_count": 4,
   "outputs": [],
   "source": [
    "def cantidadDeStage(csv,cerrados,proporcion=False):\n",
    "    cantidadStage = csv['Stage'].value_counts()\n",
    "    if (cerrados):\n",
    "        filtro = ['Closed Won','Closed Lost']\n",
    "    else:\n",
    "        filtro = ['Negotiation','Proposal','Qualification']\n",
    "    cantidadStageFiltrado = cantidadStage.filter(items=filtro)\n",
    "    if (proporcion):\n",
    "        cantidadStageFiltrado = cantidadStageFiltrado / cantidadStageFiltrado.sum()\n",
    "    return cantidadStageFiltrado"
   ],
   "metadata": {
    "collapsed": false,
    "pycharm": {
     "name": "#%%\n",
     "is_executing": false
    }
   }
  },
  {
   "cell_type": "code",
   "execution_count": 5,
   "outputs": [
    {
     "name": "stdout",
     "text": [
      "Stage Cerrados cantidad\n\nClosed Won     9533\nClosed Lost    7350\nName: Stage, dtype: int64\n\n\nStage Cerrados proporcion\n\nClosed Won                    0.56\nClosed Lost                   0.44\nName: Stage, dtype: float64\n\n\nStage no Cerrados cantidad\n\nNegotiation      18\nProposal         35\nQualification    11\nName: Stage, dtype: int64\n\n\nStage no Cerrados proporcion\n\nNegotiation                     0.28\nProposal                        0.55\nQualification                   0.17\nName: Stage, dtype: float64\n"
     ],
     "output_type": "stream"
    }
   ],
   "source": [
    "print(\"Stage Cerrados cantidad\\n\")\n",
    "print(cantidadDeStage(entrenamiento,True))\n",
    "print(\"\\n\")\n",
    "print(\"Stage Cerrados proporcion\\n\")\n",
    "print(cantidadDeStage(entrenamiento,True,True))\n",
    "print(\"\\n\")\n",
    "print(\"Stage no Cerrados cantidad\\n\")\n",
    "print(cantidadDeStage(entrenamiento,False))\n",
    "print(\"\\n\")\n",
    "print(\"Stage no Cerrados proporcion\\n\")\n",
    "print(cantidadDeStage(entrenamiento,False,True))"
   ],
   "metadata": {
    "collapsed": false,
    "pycharm": {
     "name": "#%%\n",
     "is_executing": false
    }
   }
  },
  {
   "cell_type": "code",
   "execution_count": 46,
   "outputs": [
    {
     "data": {
      "text/plain": "1    16883\n0       64\nName: Closed, dtype: int64"
     },
     "metadata": {},
     "output_type": "execute_result",
     "execution_count": 46
    }
   ],
   "source": [
    "entrenamiento['Closed'] = entrenamiento['Stage'].replace({'Closed Won': 1, 'Closed Lost': 1, 'Negotiation':0,'Proposal':0,'Qualification':0})\n",
    "\n",
    "entrenamiento['Closed'].value_counts()"
   ],
   "metadata": {
    "collapsed": false,
    "pycharm": {
     "name": "#%%\n",
     "is_executing": false
    }
   }
  }
 ],
 "metadata": {
  "kernelspec": {
   "display_name": "Python 3",
   "language": "python",
   "name": "python3"
  },
  "language_info": {
   "codemirror_mode": {
    "name": "ipython",
    "version": 2
   },
   "file_extension": ".py",
   "mimetype": "text/x-python",
   "name": "python",
   "nbconvert_exporter": "python",
   "pygments_lexer": "ipython2",
   "version": "2.7.6"
  },
  "pycharm": {
   "stem_cell": {
    "cell_type": "raw",
    "source": [],
    "metadata": {
     "collapsed": false
    }
   }
  }
 },
 "nbformat": 4,
 "nbformat_minor": 0
}