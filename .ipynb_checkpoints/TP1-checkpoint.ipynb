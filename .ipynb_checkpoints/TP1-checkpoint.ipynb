{
 "cells": [
  {
   "cell_type": "markdown",
   "metadata": {
    "pycharm": {
     "name": "#%% md\n"
    }
   },
   "source": [
    "- ID: id único del registro (Entero).\n",
    "- Región: región de la oportunidad (Categórica).\n",
    "- Territory: territorio comercial de la oportunidad (Categórica).\n",
    "- Pricing, Delivery_Terms_Quote_Approval: variable que denomina si la oportunidad necesita aprobación especial de su precio total y los términos de la entrega (Binaria).\n",
    "- Pricing, Delivery_Terms_Approved: variable que denomina si la oportunidad obtuvo aprobación especial de su precio total y los términos de la entrega (Binaria).\n",
    "- Bureaucratic_Code_0_Approval: variable que denomina si la oportunidad necesita el código burocrático 0 (Binaria).\n",
    "- Bureaucratic_Code_0_Approved: variable que denomina si la oportunidad obtuvo el código burocrático 0 (Binaria).\n",
    "- Submitted_for_Approval: variable que denomina si fue entregada la oportunidad para la aprobación (Binaria).\n",
    "- Bureaucratic_Code: códigos burocráticos que obtuvo la oportunidad (Categórica).\n",
    "- Account_Created_Date: fecha de creación de la cuenta del cliente (Datetime).\n",
    "- Source: fuente de creación de la oportunidad (Categórica).\n",
    "- Billing_Country: país donde se emite la factura (Categórica).\n",
    "- Account_Name: nombre de la cuenta del cliente (Categórica).\n",
    "- Opportunity_Name: nombre de la oportunidad (Categórica).\n",
    "- Opportunity_ID: id de la oportunidad (Entero).\n",
    "- Sales_Contract_No: número de contrato (Entero).\n",
    "- Account_Owner: vendedor del equipo comercial responsable de la cuenta cliente (Categórica).\n",
    "- Opportunity_Owner: vendedor del equipo comercial responsable de la oportunidad comercial (Categórica).\n",
    "- Account_Type: tipo de cuenta cliente (Categórica).\n",
    "- Opportunity_Type: tipo de oportunidad (Categórica).\n",
    "- Quote_Type: tipo de presupuesto (Categórica).\n",
    "- Delivery_Terms: términos de entrega (Categórica).\n",
    "- Opportunity_Created_Date: fecha de creación de la oportunidad comercial (Datetime).\n",
    "- Brand: marca del producto (Categórica).\n",
    "- Product_Type: tipo de producto (Categórica).\n",
    "- Size: tamaño del producto (Categórica).\n",
    "- Product_Category_B: categoría 'B' del producto (Categórica).\n",
    "- Price: precio (Decimal).\n",
    "- Currency: moneda (Categórica).\n",
    "- Last_Activity: fecha de la última actividad (Datetime).\n",
    "- Quote_Expiry_Date: fecha de vencimiento del presupuesto (Datetime).\n",
    "- Last_Modified_Date: fecha de ultima modificación en la oportunidad (Datetime).\n",
    "- Last_Modified_By: usuario responsable de la última modificación en la oportunidad (Categórica).\n",
    "- Product_Family: familia de producto (Categórica).\n",
    "- Product_Name: nombre del producto (Categórica).\n",
    "- ASP_Currency: moneda del precio promedio (Categórica).\n",
    "- ASP: (Average Selling Price) precio promedio a la venta (Decimal).\n",
    "- ASP_(converted)_Currency: moneda del precio promedio convertido en la variable (Categórica)\n",
    "- ASP_(converted): precio promedio a la venta convertido a otra moneda (Decimal).\n",
    "- Planned_Delivery_Start_Date: límite inferior del rango previsto para la fecha de entrega (Datetime).\n",
    "- Planned_Delivery_End_Date: límite superior del rango previsto para la fecha de entrega (Datetime).\n",
    "- Month: mes-año de Planned_Delivery_Start_Date (Fecha).\n",
    "- Delivery_Quarter: trimestre de Planned_Delivery_Start_Date (Categorica).\n",
    "- Delivery_Year: año de Planned_Delivery_Start_Date (Fecha).\n",
    "- Actual_Delivery_Date: fecha real de la entrega (Datetime).\n",
    "- Total_Power: potencia del producto (Entero).\n",
    "- Total_Amount_Currency: moneda del monto total (Decimal).\n",
    "- Total_Amount: monto total (Decimal).\n",
    "- Total_Taxable_Amount_Currency: moneda del monto gravado total (Categórica).\n",
    "- Total_Taxable_Amount: monto gravado total (Categórica).\n",
    "- Stage: variable target. Estado de la oportunidad (Categórica).\n",
    "- Prod_Category_A: categoría 'A' del producto (Categórica).\n",
    "- Total_Power_Discreet: categorización de la variable Total Power en bins (Categórica)."
   ]
  },
  {
   "cell_type": "code",
   "execution_count": 1,
   "metadata": {
    "pycharm": {
     "is_executing": false
    }
   },
   "outputs": [],
   "source": [
    "import pandas as pd\n",
    "import numpy as np\n",
    "import matplotlib.pyplot as plt\n",
    "import seaborn as sns\n",
    "import plotly.graph_objects as go\n",
    "import matplotlib\n",
    "plt.style.use('default')\n",
    "\n",
    "sns.set(style=\"whitegrid\")\n",
    "\n",
    "pd.options.display.float_format = '{:20,.2f}'.format \n",
    "\n",
    "import warnings\n",
    "warnings.filterwarnings('ignore')\n"
   ]
  },
  {
   "cell_type": "code",
   "execution_count": 2,
   "metadata": {
    "pycharm": {
     "is_executing": false,
     "name": "#%%\n"
    }
   },
   "outputs": [
    {
     "data": {
      "text/plain": [
       "Index(['ID', 'Region', 'Territory', 'Pricing, Delivery_Terms_Quote_Appr',\n",
       "       'Pricing, Delivery_Terms_Approved', 'Bureaucratic_Code_0_Approval',\n",
       "       'Bureaucratic_Code_0_Approved', 'Submitted_for_Approval',\n",
       "       'Bureaucratic_Code', 'Account_Created_Date', 'Source ',\n",
       "       'Billing_Country', 'Account_Name', 'Opportunity_Name', 'Opportunity_ID',\n",
       "       'Sales_Contract_No', 'Account_Owner', 'Opportunity_Owner',\n",
       "       'Account_Type', 'Opportunity_Type', 'Quote_Type', 'Delivery_Terms',\n",
       "       'Opportunity_Created_Date', 'Brand', 'Product_Type', 'Size',\n",
       "       'Product_Category_B', 'Price', 'Currency', 'Last_Activity',\n",
       "       'Quote_Expiry_Date', 'Last_Modified_Date', 'Last_Modified_By',\n",
       "       'Product_Family', 'Product_Name', 'ASP_Currency', 'ASP',\n",
       "       'ASP_(converted)_Currency', 'ASP_(converted)',\n",
       "       'Planned_Delivery_Start_Date', 'Planned_Delivery_End_Date', 'Month',\n",
       "       'Delivery_Quarter', 'Delivery_Year', 'Actual_Delivery_Date', 'TRF',\n",
       "       'Total_Amount_Currency', 'Total_Amount',\n",
       "       'Total_Taxable_Amount_Currency', 'Total_Taxable_Amount', 'Stage',\n",
       "       'Prod_Category_A'],\n",
       "      dtype='object')"
      ]
     },
     "execution_count": 2,
     "metadata": {},
     "output_type": "execute_result"
    }
   ],
   "source": [
    "entrenamiento = pd.read_csv('Entrenamieto_ECI_2020.csv')\n",
    "entrenamiento.columns"
   ]
  },
  {
   "cell_type": "markdown",
   "metadata": {},
   "source": [
    "### Defino tipos de datos"
   ]
  },
  {
   "cell_type": "code",
   "execution_count": 3,
   "metadata": {
    "scrolled": true
   },
   "outputs": [],
   "source": [
    "entrenamiento['ID'] = entrenamiento['ID'].astype(int) #No hay ids repetidos, esperable\n",
    "entrenamiento['Region'] = entrenamiento['Region'].astype('category') #Solo hay 5 valores: Japan, EMEA, Americas, APAC, Middle East\n",
    "entrenamiento['Territory'] = entrenamiento['Territory'].astype('category')\n",
    "entrenamiento['Pricing, Delivery_Terms_Quote_Appr'] = entrenamiento['Pricing, Delivery_Terms_Quote_Appr'].astype('bool')\n",
    "entrenamiento['Pricing, Delivery_Terms_Approved'] = entrenamiento['Pricing, Delivery_Terms_Approved'].astype('bool')\n",
    "entrenamiento['Bureaucratic_Code_0_Approval'] = entrenamiento['Bureaucratic_Code_0_Approval'].astype('bool')\n",
    "entrenamiento['Bureaucratic_Code_0_Approved'] = entrenamiento['Bureaucratic_Code_0_Approved'].astype('bool')\n",
    "entrenamiento.drop(['Submitted_for_Approval'], axis=1)\n",
    "entrenamiento['Bureaucratic_Code'] = entrenamiento['Bureaucratic_Code'][(entrenamiento['Bureaucratic_Code'] != 'Bureaucratic_Code_3') & (entrenamiento['Bureaucratic_Code'] != 'Bureaucratic_Code_6')].astype('category')\n",
    "entrenamiento['Account_Created_Date'] = pd.to_datetime(entrenamiento.Account_Created_Date)\n",
    "entrenamiento['Source '] = entrenamiento['Source '][(entrenamiento['Source '] != 'Source_0') & (entrenamiento['Source '] != 'Source_12') & (entrenamiento['Source '] != 'Source_5')].astype('category')\n",
    "entrenamiento['Billing_Country'] = entrenamiento['Billing_Country'].astype('category')\n",
    "entrenamiento['Account_Name'] = entrenamiento['Account_Name'].astype('category')\n",
    "entrenamiento['Opportunity_Name'] = entrenamiento['Opportunity_Name'].astype('category')\n",
    "entrenamiento['Opportunity_ID'] = entrenamiento['Opportunity_ID'].astype(int)\n",
    "entrenamiento.rename(columns = {'Source ':'Source'}, inplace = True)"
   ]
  },
  {
   "cell_type": "markdown",
   "metadata": {},
   "source": [
    "### Datos de interes"
   ]
  },
  {
   "cell_type": "markdown",
   "metadata": {},
   "source": [
    "Notacion: % datos. Datos de interes\n",
    "- ID: 100%. No hay ids repetidos, esperable\n",
    "- Region: 100%. Solo hay 5 valores: Japan, EMEA, Americas, APAC, Middle East\n",
    "- Territory: 70,5%. Hay 76 valores\n",
    "- Pricing, Delivery_Terms_Quote_Appr: 100%. Es un booleano\n",
    "- Pricing, Delivery_Terms_Approved: 100%. Es un booleano\n",
    "- Bureaucratic_Code_0_Approval: 100%. Es un booleano\n",
    "- Bureaucratic_Code_0_Approved: 100%. Es un booleano\n",
    "- Submitted_for_Approval: 100%. Todos los campos son 0, no aporta informacion\n",
    "- Bureaucratic_Code: 100%. Solo hay 7 valores, 2 de los cuales solo tienen 3 datos. Se dejan solo 5\n",
    "- Account_Created_Date: 100%. Son 809 valores\n",
    "- Source: 42,4%. Son 13 valores, 3 de los cuales tienen solo 10 datos. Se dejan solo 10\n",
    "- Billing_Country: 100%. Son 80 valores, concentrando el 50% de los datos los valores que aparecen menos de 10 veces.\n",
    "- Account_Name: 100%. Son 1635 valores\n",
    "- Opportunity_Name: 100%. Son 9841 valores\n",
    "- Opportunity_ID: 100%. Son 9841 valores, de los cuales el 29,6% tiene mas de un registro"
   ]
  },
  {
   "cell_type": "code",
   "execution_count": 4,
   "metadata": {},
   "outputs": [
    {
     "data": {
      "text/html": [
       "<div>\n",
       "<style scoped>\n",
       "    .dataframe tbody tr th:only-of-type {\n",
       "        vertical-align: middle;\n",
       "    }\n",
       "\n",
       "    .dataframe tbody tr th {\n",
       "        vertical-align: top;\n",
       "    }\n",
       "\n",
       "    .dataframe thead th {\n",
       "        text-align: right;\n",
       "    }\n",
       "</style>\n",
       "<table border=\"1\" class=\"dataframe\">\n",
       "  <thead>\n",
       "    <tr style=\"text-align: right;\">\n",
       "      <th></th>\n",
       "      <th>ID</th>\n",
       "      <th>Region</th>\n",
       "      <th>Territory</th>\n",
       "      <th>Pricing, Delivery_Terms_Quote_Appr</th>\n",
       "      <th>Pricing, Delivery_Terms_Approved</th>\n",
       "      <th>Bureaucratic_Code_0_Approval</th>\n",
       "      <th>Bureaucratic_Code_0_Approved</th>\n",
       "      <th>Submitted_for_Approval</th>\n",
       "      <th>Bureaucratic_Code</th>\n",
       "      <th>Account_Created_Date</th>\n",
       "      <th>...</th>\n",
       "      <th>Delivery_Quarter</th>\n",
       "      <th>Delivery_Year</th>\n",
       "      <th>Actual_Delivery_Date</th>\n",
       "      <th>TRF</th>\n",
       "      <th>Total_Amount_Currency</th>\n",
       "      <th>Total_Amount</th>\n",
       "      <th>Total_Taxable_Amount_Currency</th>\n",
       "      <th>Total_Taxable_Amount</th>\n",
       "      <th>Stage</th>\n",
       "      <th>Prod_Category_A</th>\n",
       "    </tr>\n",
       "  </thead>\n",
       "  <tbody>\n",
       "    <tr>\n",
       "      <th>0</th>\n",
       "      <td>27761</td>\n",
       "      <td>EMEA</td>\n",
       "      <td>None</td>\n",
       "      <td>True</td>\n",
       "      <td>True</td>\n",
       "      <td>True</td>\n",
       "      <td>True</td>\n",
       "      <td>0</td>\n",
       "      <td>Bureaucratic_Code_4</td>\n",
       "      <td>2015-06-16</td>\n",
       "      <td>...</td>\n",
       "      <td>Q2</td>\n",
       "      <td>2016</td>\n",
       "      <td>NaT</td>\n",
       "      <td>10</td>\n",
       "      <td>EUR</td>\n",
       "      <td>5,272,800.00</td>\n",
       "      <td>EUR</td>\n",
       "      <td>5,272,800.00</td>\n",
       "      <td>Closed Lost</td>\n",
       "      <td>Prod_Category_A_None</td>\n",
       "    </tr>\n",
       "    <tr>\n",
       "      <th>1</th>\n",
       "      <td>27760</td>\n",
       "      <td>EMEA</td>\n",
       "      <td>None</td>\n",
       "      <td>False</td>\n",
       "      <td>False</td>\n",
       "      <td>False</td>\n",
       "      <td>False</td>\n",
       "      <td>0</td>\n",
       "      <td>Bureaucratic_Code_4</td>\n",
       "      <td>2015-06-16</td>\n",
       "      <td>...</td>\n",
       "      <td>Q1</td>\n",
       "      <td>2016</td>\n",
       "      <td>NaT</td>\n",
       "      <td>0</td>\n",
       "      <td>EUR</td>\n",
       "      <td>48,230.00</td>\n",
       "      <td>EUR</td>\n",
       "      <td>48,230.00</td>\n",
       "      <td>Closed Won</td>\n",
       "      <td>Prod_Category_A_None</td>\n",
       "    </tr>\n",
       "    <tr>\n",
       "      <th>2</th>\n",
       "      <td>27446</td>\n",
       "      <td>Americas</td>\n",
       "      <td>NW America</td>\n",
       "      <td>False</td>\n",
       "      <td>False</td>\n",
       "      <td>False</td>\n",
       "      <td>False</td>\n",
       "      <td>0</td>\n",
       "      <td>Bureaucratic_Code_4</td>\n",
       "      <td>2015-04-21</td>\n",
       "      <td>...</td>\n",
       "      <td>Q1</td>\n",
       "      <td>2016</td>\n",
       "      <td>NaT</td>\n",
       "      <td>0</td>\n",
       "      <td>USD</td>\n",
       "      <td>83,865.60</td>\n",
       "      <td>USD</td>\n",
       "      <td>83,865.60</td>\n",
       "      <td>Closed Won</td>\n",
       "      <td>Prod_Category_A_None</td>\n",
       "    </tr>\n",
       "    <tr>\n",
       "      <th>3</th>\n",
       "      <td>16808</td>\n",
       "      <td>Americas</td>\n",
       "      <td>NW America</td>\n",
       "      <td>True</td>\n",
       "      <td>False</td>\n",
       "      <td>True</td>\n",
       "      <td>False</td>\n",
       "      <td>0</td>\n",
       "      <td>Bureaucratic_Code_5</td>\n",
       "      <td>2013-07-27</td>\n",
       "      <td>...</td>\n",
       "      <td>Q1</td>\n",
       "      <td>2018</td>\n",
       "      <td>NaT</td>\n",
       "      <td>14</td>\n",
       "      <td>USD</td>\n",
       "      <td>7,421,881.50</td>\n",
       "      <td>USD</td>\n",
       "      <td>7,421,881.50</td>\n",
       "      <td>Closed Lost</td>\n",
       "      <td>Prod_Category_A_None</td>\n",
       "    </tr>\n",
       "    <tr>\n",
       "      <th>4</th>\n",
       "      <td>16805</td>\n",
       "      <td>Americas</td>\n",
       "      <td>NW America</td>\n",
       "      <td>True</td>\n",
       "      <td>False</td>\n",
       "      <td>True</td>\n",
       "      <td>False</td>\n",
       "      <td>0</td>\n",
       "      <td>Bureaucratic_Code_5</td>\n",
       "      <td>2013-07-27</td>\n",
       "      <td>...</td>\n",
       "      <td>Q1</td>\n",
       "      <td>2018</td>\n",
       "      <td>NaT</td>\n",
       "      <td>25</td>\n",
       "      <td>USD</td>\n",
       "      <td>13,357,192.50</td>\n",
       "      <td>USD</td>\n",
       "      <td>13,357,192.50</td>\n",
       "      <td>Closed Lost</td>\n",
       "      <td>Prod_Category_A_None</td>\n",
       "    </tr>\n",
       "  </tbody>\n",
       "</table>\n",
       "<p>5 rows × 52 columns</p>\n",
       "</div>"
      ],
      "text/plain": [
       "      ID    Region   Territory  Pricing, Delivery_Terms_Quote_Appr  \\\n",
       "0  27761      EMEA        None                                True   \n",
       "1  27760      EMEA        None                               False   \n",
       "2  27446  Americas  NW America                               False   \n",
       "3  16808  Americas  NW America                                True   \n",
       "4  16805  Americas  NW America                                True   \n",
       "\n",
       "   Pricing, Delivery_Terms_Approved  Bureaucratic_Code_0_Approval  \\\n",
       "0                              True                          True   \n",
       "1                             False                         False   \n",
       "2                             False                         False   \n",
       "3                             False                          True   \n",
       "4                             False                          True   \n",
       "\n",
       "   Bureaucratic_Code_0_Approved  Submitted_for_Approval    Bureaucratic_Code  \\\n",
       "0                          True                       0  Bureaucratic_Code_4   \n",
       "1                         False                       0  Bureaucratic_Code_4   \n",
       "2                         False                       0  Bureaucratic_Code_4   \n",
       "3                         False                       0  Bureaucratic_Code_5   \n",
       "4                         False                       0  Bureaucratic_Code_5   \n",
       "\n",
       "  Account_Created_Date  ... Delivery_Quarter Delivery_Year  \\\n",
       "0           2015-06-16  ...               Q2          2016   \n",
       "1           2015-06-16  ...               Q1          2016   \n",
       "2           2015-04-21  ...               Q1          2016   \n",
       "3           2013-07-27  ...               Q1          2018   \n",
       "4           2013-07-27  ...               Q1          2018   \n",
       "\n",
       "  Actual_Delivery_Date TRF  Total_Amount_Currency         Total_Amount  \\\n",
       "0                  NaT  10                    EUR         5,272,800.00   \n",
       "1                  NaT   0                    EUR            48,230.00   \n",
       "2                  NaT   0                    USD            83,865.60   \n",
       "3                  NaT  14                    USD         7,421,881.50   \n",
       "4                  NaT  25                    USD        13,357,192.50   \n",
       "\n",
       "  Total_Taxable_Amount_Currency Total_Taxable_Amount        Stage  \\\n",
       "0                           EUR         5,272,800.00  Closed Lost   \n",
       "1                           EUR            48,230.00   Closed Won   \n",
       "2                           USD            83,865.60   Closed Won   \n",
       "3                           USD         7,421,881.50  Closed Lost   \n",
       "4                           USD        13,357,192.50  Closed Lost   \n",
       "\n",
       "        Prod_Category_A  \n",
       "0  Prod_Category_A_None  \n",
       "1  Prod_Category_A_None  \n",
       "2  Prod_Category_A_None  \n",
       "3  Prod_Category_A_None  \n",
       "4  Prod_Category_A_None  \n",
       "\n",
       "[5 rows x 52 columns]"
      ]
     },
     "execution_count": 4,
     "metadata": {},
     "output_type": "execute_result"
    }
   ],
   "source": [
    "entrenamiento.head()"
   ]
  },
  {
   "cell_type": "code",
   "execution_count": 5,
   "metadata": {
    "pycharm": {
     "is_executing": false,
     "name": "#%%\n"
    }
   },
   "outputs": [
    {
     "data": {
      "text/plain": [
       "Closed Won       9533\n",
       "Closed Lost      7350\n",
       "Proposal           35\n",
       "Negotiation        18\n",
       "Qualification      11\n",
       "Name: Stage, dtype: int64"
      ]
     },
     "execution_count": 5,
     "metadata": {},
     "output_type": "execute_result"
    }
   ],
   "source": [
    "cantidadStage = entrenamiento['Stage'].value_counts()\n",
    "cantidadStage"
   ]
  },
  {
   "cell_type": "code",
   "execution_count": 6,
   "metadata": {
    "pycharm": {
     "is_executing": false,
     "name": "#%%\n"
    }
   },
   "outputs": [],
   "source": [
    "def cantidadDeStage(csv,cerrados,proporcion=False):\n",
    "    cantidadStage = csv['Stage'].value_counts()\n",
    "    if (cerrados):\n",
    "        filtro = ['Closed Won','Closed Lost']\n",
    "    else:\n",
    "        filtro = ['Negotiation','Proposal','Qualification']\n",
    "    cantidadStageFiltrado = cantidadStage.filter(items=filtro)\n",
    "    if (proporcion):\n",
    "        cantidadStageFiltrado = cantidadStageFiltrado / cantidadStageFiltrado.sum()\n",
    "    return cantidadStageFiltrado"
   ]
  },
  {
   "cell_type": "code",
   "execution_count": 7,
   "metadata": {
    "pycharm": {
     "is_executing": false,
     "name": "#%%\n"
    }
   },
   "outputs": [
    {
     "name": "stdout",
     "output_type": "stream",
     "text": [
      "Stage Cerrados cantidad\n",
      "\n",
      "Closed Won     9533\n",
      "Closed Lost    7350\n",
      "Name: Stage, dtype: int64\n",
      "\n",
      "\n",
      "Stage Cerrados proporcion\n",
      "\n",
      "Closed Won                    0.56\n",
      "Closed Lost                   0.44\n",
      "Name: Stage, dtype: float64\n",
      "\n",
      "\n",
      "Stage no Cerrados cantidad\n",
      "\n",
      "Negotiation      18\n",
      "Proposal         35\n",
      "Qualification    11\n",
      "Name: Stage, dtype: int64\n",
      "\n",
      "\n",
      "Stage no Cerrados proporcion\n",
      "\n",
      "Negotiation                     0.28\n",
      "Proposal                        0.55\n",
      "Qualification                   0.17\n",
      "Name: Stage, dtype: float64\n"
     ]
    }
   ],
   "source": [
    "print(\"Stage Cerrados cantidad\\n\")\n",
    "print(cantidadDeStage(entrenamiento,True))\n",
    "print(\"\\n\")\n",
    "print(\"Stage Cerrados proporcion\\n\")\n",
    "print(cantidadDeStage(entrenamiento,True,True))\n",
    "print(\"\\n\")\n",
    "print(\"Stage no Cerrados cantidad\\n\")\n",
    "print(cantidadDeStage(entrenamiento,False))\n",
    "print(\"\\n\")\n",
    "print(\"Stage no Cerrados proporcion\\n\")\n",
    "print(cantidadDeStage(entrenamiento,False,True))"
   ]
  },
  {
   "cell_type": "code",
   "execution_count": 8,
   "metadata": {
    "pycharm": {
     "is_executing": false,
     "name": "#%%\n"
    }
   },
   "outputs": [
    {
     "data": {
      "text/plain": [
       "1    16883\n",
       "0       64\n",
       "Name: Closed, dtype: int64"
      ]
     },
     "execution_count": 8,
     "metadata": {},
     "output_type": "execute_result"
    }
   ],
   "source": [
    "entrenamiento['Closed'] = entrenamiento['Stage'].replace({'Closed Won': 1, 'Closed Lost': 1, 'Negotiation':0,'Proposal':0,'Qualification':0})\n",
    "\n",
    "entrenamiento['Closed'].value_counts()"
   ]
  },
  {
   "cell_type": "code",
   "execution_count": null,
   "metadata": {},
   "outputs": [],
   "source": []
  }
 ],
 "metadata": {
  "kernelspec": {
   "display_name": "Python 3",
   "language": "python",
   "name": "python3"
  },
  "language_info": {
   "codemirror_mode": {
    "name": "ipython",
    "version": 3
   },
   "file_extension": ".py",
   "mimetype": "text/x-python",
   "name": "python",
   "nbconvert_exporter": "python",
   "pygments_lexer": "ipython3",
   "version": "3.6.9"
  },
  "pycharm": {
   "stem_cell": {
    "cell_type": "raw",
    "metadata": {
     "collapsed": false
    },
    "source": []
   }
  }
 },
 "nbformat": 4,
 "nbformat_minor": 1
}
